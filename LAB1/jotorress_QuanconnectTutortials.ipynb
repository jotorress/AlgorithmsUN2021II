{
  "nbformat": 4,
  "nbformat_minor": 0,
  "metadata": {
    "colab": {
      "name": "jotorress_QuanconnectTutortials.ipynb",
      "provenance": [],
      "collapsed_sections": []
    },
    "kernelspec": {
      "name": "python3",
      "display_name": "Python 3"
    },
    "language_info": {
      "name": "python"
    }
  },
  "cells": [
    {
      "cell_type": "markdown",
      "metadata": {
        "id": "7CxI4WF3FWUE"
      },
      "source": [
        "# ***1. Data Types and Data Structures***"
      ]
    },
    {
      "cell_type": "markdown",
      "metadata": {
        "id": "xwRiU_WyY06w"
      },
      "source": [
        "\n",
        "\n",
        "### Basic Variable Types "
      ]
    },
    {
      "cell_type": "markdown",
      "metadata": {
        "id": "mp1WnZoduv09"
      },
      "source": [
        "Strings in python are identified as a contiguous set of characters represented in either single quotes (' ') or double quotes (\" \")."
      ]
    },
    {
      "cell_type": "code",
      "metadata": {
        "colab": {
          "base_uri": "https://localhost:8080/"
        },
        "id": "STUt7MPIprWk",
        "outputId": "0f34a569-1ddd-44e2-c4de-69c9bcc75eb7"
      },
      "source": [
        "my_string1 = 'Welcome to'\n",
        "my_string2 = \"QuantConnect\"\n",
        "print(my_string1 + ' ' + my_string2)"
      ],
      "execution_count": 53,
      "outputs": [
        {
          "output_type": "stream",
          "name": "stdout",
          "text": [
            "Welcome to QuantConnect\n"
          ]
        }
      ]
    },
    {
      "cell_type": "markdown",
      "metadata": {
        "id": "WwXAlkGWznp3"
      },
      "source": [
        "Example"
      ]
    },
    {
      "cell_type": "code",
      "metadata": {
        "colab": {
          "base_uri": "https://localhost:8080/"
        },
        "id": "Q7t9IQD3pv7e",
        "outputId": "5d0cbeb5-2072-4e75-bf5d-4889415844a6"
      },
      "source": [
        "my_string1 = 'Bienvenido a'\n",
        "my_string2 = \"Colab\"\n",
        "print(my_string1 + ' ' + my_string2)"
      ],
      "execution_count": 54,
      "outputs": [
        {
          "output_type": "stream",
          "name": "stdout",
          "text": [
            "Bienvenido a Colab\n"
          ]
        }
      ]
    },
    {
      "cell_type": "markdown",
      "metadata": {
        "id": "SPRil8-5uzCK"
      },
      "source": [
        "An integer is a round number with no values after the decimal point."
      ]
    },
    {
      "cell_type": "code",
      "metadata": {
        "colab": {
          "base_uri": "https://localhost:8080/"
        },
        "id": "SElbqWmDqHg9",
        "outputId": "e9bd8346-9983-4f00-f5ab-1293c0d39fa0"
      },
      "source": [
        "my_int = 10\n",
        "print(my_int)\n",
        "print(type(my_int))"
      ],
      "execution_count": 55,
      "outputs": [
        {
          "output_type": "stream",
          "name": "stdout",
          "text": [
            "10\n",
            "<class 'int'>\n"
          ]
        }
      ]
    },
    {
      "cell_type": "markdown",
      "metadata": {
        "id": "UkqLzCVizqUx"
      },
      "source": [
        "Example"
      ]
    },
    {
      "cell_type": "code",
      "metadata": {
        "colab": {
          "base_uri": "https://localhost:8080/"
        },
        "id": "b10uzewjqNBL",
        "outputId": "4183b924-89ec-4229-f9d7-a9e8e0bf58d2"
      },
      "source": [
        "my_integer = 2021\n",
        "print(my_integer)\n",
        "print(type(my_integer))"
      ],
      "execution_count": 56,
      "outputs": [
        {
          "output_type": "stream",
          "name": "stdout",
          "text": [
            "2021\n",
            "<class 'int'>\n"
          ]
        }
      ]
    },
    {
      "cell_type": "markdown",
      "metadata": {
        "id": "cwTGoUImu5lK"
      },
      "source": [
        "The built-in function int() can convert a string into an integer."
      ]
    },
    {
      "cell_type": "code",
      "metadata": {
        "colab": {
          "base_uri": "https://localhost:8080/"
        },
        "id": "aW9rcSvcup2f",
        "outputId": "17afc153-249d-4cae-a162-d29adf021c45"
      },
      "source": [
        "my_string = \"100\"\n",
        "print(type(my_string))\n",
        "my_int = int(my_string)\n",
        "print(type(my_int))\n"
      ],
      "execution_count": 57,
      "outputs": [
        {
          "output_type": "stream",
          "name": "stdout",
          "text": [
            "<class 'str'>\n",
            "<class 'int'>\n"
          ]
        }
      ]
    },
    {
      "cell_type": "markdown",
      "metadata": {
        "id": "JqQCs1R-zsik"
      },
      "source": [
        "Example"
      ]
    },
    {
      "cell_type": "code",
      "metadata": {
        "colab": {
          "base_uri": "https://localhost:8080/"
        },
        "id": "M5XyKFm5vBsj",
        "outputId": "834c99ff-422f-4e03-cf40-271341d91cfd"
      },
      "source": [
        "your_string = \"2021\"\n",
        "print(type(your_string))\n",
        "my_integer = int(your_string)\n",
        "print(type(my_integer))"
      ],
      "execution_count": 58,
      "outputs": [
        {
          "output_type": "stream",
          "name": "stdout",
          "text": [
            "<class 'str'>\n",
            "<class 'int'>\n"
          ]
        }
      ]
    },
    {
      "cell_type": "markdown",
      "metadata": {
        "id": "9j3q4SVQwp1d"
      },
      "source": [
        "A floating point number, or a float, is a real number in mathematics. In Python we need to include a value after a decimal point to define it as a float."
      ]
    },
    {
      "cell_type": "code",
      "metadata": {
        "colab": {
          "base_uri": "https://localhost:8080/"
        },
        "id": "CTA2OUVZwrkZ",
        "outputId": "7dc57932-ac84-4b54-d177-07de2022a100"
      },
      "source": [
        "my_float = 1.0\n",
        "print(type(my_float))\n",
        "my_int = 1\n",
        "print(type(my_int))"
      ],
      "execution_count": 59,
      "outputs": [
        {
          "output_type": "stream",
          "name": "stdout",
          "text": [
            "<class 'float'>\n",
            "<class 'int'>\n"
          ]
        }
      ]
    },
    {
      "cell_type": "markdown",
      "metadata": {
        "id": "NlworjzdztoP"
      },
      "source": [
        "Example"
      ]
    },
    {
      "cell_type": "code",
      "metadata": {
        "colab": {
          "base_uri": "https://localhost:8080/"
        },
        "id": "HijlBPbiwxZT",
        "outputId": "c1230401-b9b7-486f-dd08-34fdcc29a2ff"
      },
      "source": [
        "first_float = 4.5\n",
        "print(type(first_float))\n",
        "first_int = 10\n",
        "print(type(first_int))"
      ],
      "execution_count": 60,
      "outputs": [
        {
          "output_type": "stream",
          "name": "stdout",
          "text": [
            "<class 'float'>\n",
            "<class 'int'>\n"
          ]
        }
      ]
    },
    {
      "cell_type": "markdown",
      "metadata": {
        "id": "yUKEaueTxBRj"
      },
      "source": [
        "As you can see above, if we don't include a decimal value, the variable would be defined as an integer. The built-in function float() can convert a string or an integer into a float."
      ]
    },
    {
      "cell_type": "code",
      "metadata": {
        "colab": {
          "base_uri": "https://localhost:8080/"
        },
        "id": "anO30wfJxCJF",
        "outputId": "e8ced644-5edd-47d5-ade8-1589c4f2881b"
      },
      "source": [
        "my_string = \"100\"\n",
        "my_float = float(my_string)\n",
        "print(type(my_float))"
      ],
      "execution_count": 61,
      "outputs": [
        {
          "output_type": "stream",
          "name": "stdout",
          "text": [
            "<class 'float'>\n"
          ]
        }
      ]
    },
    {
      "cell_type": "markdown",
      "metadata": {
        "id": "_sII2ldOzurM"
      },
      "source": [
        "Example"
      ]
    },
    {
      "cell_type": "code",
      "metadata": {
        "colab": {
          "base_uri": "https://localhost:8080/"
        },
        "id": "YXlp4HW7xEp7",
        "outputId": "908e62f6-89d7-4059-a195-223ca1562dbe"
      },
      "source": [
        "firstString = \"13333\"\n",
        "firstFloat = float(firstString)\n",
        "print(type(firstFloat))"
      ],
      "execution_count": 62,
      "outputs": [
        {
          "output_type": "stream",
          "name": "stdout",
          "text": [
            "<class 'float'>\n"
          ]
        }
      ]
    },
    {
      "cell_type": "markdown",
      "metadata": {
        "id": "6RIB41KLxX-e"
      },
      "source": [
        "A boolean, or bool, is a binary variable. Its value can only be True or False. It is useful when we do some logic operations, which would be covered in our next chapter."
      ]
    },
    {
      "cell_type": "code",
      "metadata": {
        "colab": {
          "base_uri": "https://localhost:8080/"
        },
        "id": "tmKNfIVOye78",
        "outputId": "90b0fe9b-8b27-4046-eecd-fc6c0cda0c5d"
      },
      "source": [
        "my_bool = False\n",
        "print(my_bool)\n",
        "print(type(my_bool))"
      ],
      "execution_count": 63,
      "outputs": [
        {
          "output_type": "stream",
          "name": "stdout",
          "text": [
            "False\n",
            "<class 'bool'>\n"
          ]
        }
      ]
    },
    {
      "cell_type": "markdown",
      "metadata": {
        "id": "ws2t3mSPzvYp"
      },
      "source": [
        "Example"
      ]
    },
    {
      "cell_type": "code",
      "metadata": {
        "colab": {
          "base_uri": "https://localhost:8080/"
        },
        "id": "NU-dsH5iypw7",
        "outputId": "368f2499-55e2-4c8f-d6bb-e63acf5ed94b"
      },
      "source": [
        "my_boolean = True\n",
        "print(my_boolean)\n",
        "print(type(my_boolean))"
      ],
      "execution_count": 64,
      "outputs": [
        {
          "output_type": "stream",
          "name": "stdout",
          "text": [
            "True\n",
            "<class 'bool'>\n"
          ]
        }
      ]
    },
    {
      "cell_type": "markdown",
      "metadata": {
        "id": "IM6YUy1XZKPi"
      },
      "source": [
        "### Basic Math Operations "
      ]
    },
    {
      "cell_type": "markdown",
      "metadata": {
        "id": "V1TwIICkzkST"
      },
      "source": [
        "The basic math operators in python are demonstrated below:"
      ]
    },
    {
      "cell_type": "code",
      "metadata": {
        "colab": {
          "base_uri": "https://localhost:8080/"
        },
        "id": "_eicQY-uzlLM",
        "outputId": "571fdbdf-5f2c-4b71-f6d9-f45ee050e392"
      },
      "source": [
        "print(\"Addition \", 1+1)\n",
        "print(\"Subtraction \", 5-2)\n",
        "print(\"Multiplication \", 2*3)\n",
        "print(\"Division\", 10/2)\n",
        "print(\"Exponent\", 2**3)"
      ],
      "execution_count": 65,
      "outputs": [
        {
          "output_type": "stream",
          "name": "stdout",
          "text": [
            "Addition  2\n",
            "Subtraction  3\n",
            "Multiplication  6\n",
            "Division 5.0\n",
            "Exponent 8\n"
          ]
        }
      ]
    },
    {
      "cell_type": "markdown",
      "metadata": {
        "id": "HzdlPERtzxLP"
      },
      "source": [
        "Example"
      ]
    },
    {
      "cell_type": "code",
      "metadata": {
        "colab": {
          "base_uri": "https://localhost:8080/"
        },
        "id": "J9PUAJsHWXk7",
        "outputId": "24f88ef7-522e-4f80-ae74-6bba2412547a"
      },
      "source": [
        "print(\"Addition (5+5): \", 5+5)\n",
        "print(\"Subtraction (20-5):  \", 20-5)\n",
        "print(\"Multiplication (5*4): \", 5*4)\n",
        "print(\"Division (300/10): \", 300/10)\n",
        "print(\"Exponent (5^3): \", 5**3) "
      ],
      "execution_count": 66,
      "outputs": [
        {
          "output_type": "stream",
          "name": "stdout",
          "text": [
            "Addition (5+5):  10\n",
            "Subtraction (20-5):   15\n",
            "Multiplication (5*4):  20\n",
            "Division (300/10):  30.0\n",
            "Exponent (5^3):  125\n"
          ]
        }
      ]
    },
    {
      "cell_type": "markdown",
      "metadata": {
        "id": "13ACPFnRYRH6"
      },
      "source": [
        "\n",
        "\n",
        "\n",
        "### Data Collections \n",
        "\n"
      ]
    },
    {
      "cell_type": "markdown",
      "metadata": {
        "id": "5jtqtiNAY-XT"
      },
      "source": [
        "A list is an ordered collection of values. A list is mutable, which means you can change a list's value without changing the list itself. Creating a list is simply putting different comma-separated values between square brackets.\n",
        "\n"
      ]
    },
    {
      "cell_type": "code",
      "metadata": {
        "colab": {
          "base_uri": "https://localhost:8080/"
        },
        "id": "egnjhlhHYVxQ",
        "outputId": "0b5e6660-628f-4a9b-81cb-b5586be67441"
      },
      "source": [
        "my_list = ['Quant', 'Connect', 1,2,3]\n",
        "print(my_list)"
      ],
      "execution_count": 67,
      "outputs": [
        {
          "output_type": "stream",
          "name": "stdout",
          "text": [
            "['Quant', 'Connect', 1, 2, 3]\n"
          ]
        }
      ]
    },
    {
      "cell_type": "markdown",
      "metadata": {
        "id": "H-MtMYEazzHX"
      },
      "source": [
        "Example"
      ]
    },
    {
      "cell_type": "code",
      "metadata": {
        "colab": {
          "base_uri": "https://localhost:8080/"
        },
        "id": "bOF16NuXYZZT",
        "outputId": "20069adb-5504-42ef-8d06-66982788f953"
      },
      "source": [
        "newList = ['Curso', 'Algoritmos', 2020,2021,2022]\n",
        "print(newList)"
      ],
      "execution_count": 68,
      "outputs": [
        {
          "output_type": "stream",
          "name": "stdout",
          "text": [
            "['Curso', 'Algoritmos', 2020, 2021, 2022]\n"
          ]
        }
      ]
    },
    {
      "cell_type": "markdown",
      "metadata": {
        "id": "xgX8-i5cYkuc"
      },
      "source": [
        "\n",
        "The values in a list are called \"elements\". We can access list elements by indexing. Python index starts from 0. So if you have a list of length n, the index of the first element will be 0, and that of the last element will be n − 1. By the way, the length of a list can be obtained by the built-in function len()."
      ]
    },
    {
      "cell_type": "code",
      "metadata": {
        "colab": {
          "base_uri": "https://localhost:8080/"
        },
        "id": "O61yq5T5Yu1n",
        "outputId": "4fb16c4f-83a6-4ada-b83f-249fae0442d3"
      },
      "source": [
        "my_list = ['Quant', 'Connect', 1,2,3]\n",
        "print(len(my_list))\n",
        "print(my_list[0])\n",
        "print(my_list[len(my_list) - 1])"
      ],
      "execution_count": 69,
      "outputs": [
        {
          "output_type": "stream",
          "name": "stdout",
          "text": [
            "5\n",
            "Quant\n",
            "3\n"
          ]
        }
      ]
    },
    {
      "cell_type": "markdown",
      "metadata": {
        "id": "VBy1GlTCz0LA"
      },
      "source": [
        "Example"
      ]
    },
    {
      "cell_type": "code",
      "metadata": {
        "colab": {
          "base_uri": "https://localhost:8080/"
        },
        "id": "gY-s3ar8Ze9q",
        "outputId": "01a86864-0282-4b38-db0b-31884785e46a"
      },
      "source": [
        "new_List = ['Colab', 'Algoritmos', 10,20,30,40,50]\n",
        "print(len(new_List))\n",
        "print(\"Primer valor: \" + new_List[0])\n",
        "print(\"Segundo valor: \" + new_List[1])\n",
        "string1 = 'Ultimo valor'\n",
        "print(string1 +\": \"+ str(new_List[len(new_List) - 1]))"
      ],
      "execution_count": 70,
      "outputs": [
        {
          "output_type": "stream",
          "name": "stdout",
          "text": [
            "7\n",
            "Primer valor: Colab\n",
            "Segundo valor: Algoritmos\n",
            "Ultimo valor: 50\n"
          ]
        }
      ]
    },
    {
      "cell_type": "markdown",
      "metadata": {
        "id": "7R6b9Q8dc4hL"
      },
      "source": [
        "You can also change the elements in the list by accessing an index and assigning a new value."
      ]
    },
    {
      "cell_type": "code",
      "metadata": {
        "colab": {
          "base_uri": "https://localhost:8080/"
        },
        "id": "GtydkLkUc5cS",
        "outputId": "ce88ea64-fc06-433b-8c6c-620d86e9fbec"
      },
      "source": [
        "my_list = ['Quant','Connect',1,2,3]\n",
        "my_list[2] = 'go'\n",
        "print(my_list)"
      ],
      "execution_count": 71,
      "outputs": [
        {
          "output_type": "stream",
          "name": "stdout",
          "text": [
            "['Quant', 'Connect', 'go', 2, 3]\n"
          ]
        }
      ]
    },
    {
      "cell_type": "markdown",
      "metadata": {
        "id": "pgWCm2r0z2Z3"
      },
      "source": [
        "Example"
      ]
    },
    {
      "cell_type": "code",
      "metadata": {
        "colab": {
          "base_uri": "https://localhost:8080/"
        },
        "id": "wPcs19KLe9S9",
        "outputId": "76bcbc2a-c7ae-4e09-f4ab-4dd8c2f59abf"
      },
      "source": [
        "newList1 = ['Clases','de','Algoritmos','Colab','Python',2021]\n",
        "newList1[0] = 'Programacion'\n",
        "print(newList1)"
      ],
      "execution_count": 72,
      "outputs": [
        {
          "output_type": "stream",
          "name": "stdout",
          "text": [
            "['Programacion', 'de', 'Algoritmos', 'Colab', 'Python', 2021]\n"
          ]
        }
      ]
    },
    {
      "cell_type": "markdown",
      "metadata": {
        "id": "AvSQlTgJfiC8"
      },
      "source": [
        "A list can also be sliced with a colon:"
      ]
    },
    {
      "cell_type": "code",
      "metadata": {
        "colab": {
          "base_uri": "https://localhost:8080/"
        },
        "id": "7xGPfyz6fjKY",
        "outputId": "fcf57f84-a5d5-410c-a649-e4389bf13d49"
      },
      "source": [
        "my_list = ['Quant','Connect',1,2,3]\n",
        "print(my_list[1:3])"
      ],
      "execution_count": 73,
      "outputs": [
        {
          "output_type": "stream",
          "name": "stdout",
          "text": [
            "['Connect', 1]\n"
          ]
        }
      ]
    },
    {
      "cell_type": "markdown",
      "metadata": {
        "id": "emGsBQOBz3Vq"
      },
      "source": [
        "Example"
      ]
    },
    {
      "cell_type": "code",
      "metadata": {
        "colab": {
          "base_uri": "https://localhost:8080/"
        },
        "id": "_Fs9kF3Rf7hP",
        "outputId": "c2fd65ad-d238-449c-8d86-b344de0d49f5"
      },
      "source": [
        "lista_nueva = ['Lista','Python',\"Programacion\",2021]\n",
        "print(lista_nueva[0:3])"
      ],
      "execution_count": 74,
      "outputs": [
        {
          "output_type": "stream",
          "name": "stdout",
          "text": [
            "['Lista', 'Python', 'Programacion']\n"
          ]
        }
      ]
    },
    {
      "cell_type": "markdown",
      "metadata": {
        "id": "33EKyHNTi1RV"
      },
      "source": [
        "The slice starts from the first element indicated, but excludes the last element indicated. Here we select all elements starting from index 1, which refers to the second element:"
      ]
    },
    {
      "cell_type": "code",
      "metadata": {
        "colab": {
          "base_uri": "https://localhost:8080/"
        },
        "id": "P9qokit9i2G-",
        "outputId": "b5711f70-546b-405a-ff70-eb71267c8492"
      },
      "source": [
        "print(my_list[1:])"
      ],
      "execution_count": 75,
      "outputs": [
        {
          "output_type": "stream",
          "name": "stdout",
          "text": [
            "['Connect', 1, 2, 3]\n"
          ]
        }
      ]
    },
    {
      "cell_type": "markdown",
      "metadata": {
        "id": "nNeVH6Nbz4RG"
      },
      "source": [
        "Example"
      ]
    },
    {
      "cell_type": "code",
      "metadata": {
        "colab": {
          "base_uri": "https://localhost:8080/"
        },
        "id": "3A00gMbijALP",
        "outputId": "ded09c36-c422-43a2-9f1a-92896a69d6fd"
      },
      "source": [
        "print(lista_nueva[3:])"
      ],
      "execution_count": 76,
      "outputs": [
        {
          "output_type": "stream",
          "name": "stdout",
          "text": [
            "[2021]\n"
          ]
        }
      ]
    },
    {
      "cell_type": "markdown",
      "metadata": {
        "id": "7vDTL1T0jJPz"
      },
      "source": [
        "And all elements up to but excluding index 3:"
      ]
    },
    {
      "cell_type": "code",
      "metadata": {
        "colab": {
          "base_uri": "https://localhost:8080/"
        },
        "id": "nLiHu64DjMJF",
        "outputId": "bafc279d-1e12-4eb8-ecc6-06dbe1a224cd"
      },
      "source": [
        "print(my_list[:3])"
      ],
      "execution_count": 77,
      "outputs": [
        {
          "output_type": "stream",
          "name": "stdout",
          "text": [
            "['Quant', 'Connect', 1]\n"
          ]
        }
      ]
    },
    {
      "cell_type": "markdown",
      "metadata": {
        "id": "b1xgF3jCz5am"
      },
      "source": [
        "Example"
      ]
    },
    {
      "cell_type": "code",
      "metadata": {
        "colab": {
          "base_uri": "https://localhost:8080/"
        },
        "id": "5SVRW4bQjOtp",
        "outputId": "e225af73-922d-458a-a1cd-1c2e453514f5"
      },
      "source": [
        "print(lista_nueva[:2])"
      ],
      "execution_count": 78,
      "outputs": [
        {
          "output_type": "stream",
          "name": "stdout",
          "text": [
            "['Lista', 'Python']\n"
          ]
        }
      ]
    },
    {
      "cell_type": "markdown",
      "metadata": {
        "id": "HuohRK49kDi9"
      },
      "source": [
        "If you wish to add or remove an element from a list, you can use the append() and remove() methods for lists as follows:\n"
      ]
    },
    {
      "cell_type": "code",
      "metadata": {
        "colab": {
          "base_uri": "https://localhost:8080/"
        },
        "id": "wy8wCn5wkFGm",
        "outputId": "0a2b0a7a-f11e-4a84-8d3c-08f4b07f64ae"
      },
      "source": [
        "my_list = ['Hello', 'Quant']\n",
        "my_list.append('Hello')\n",
        "print(my_list)\n",
        "my_list.remove('Hello')\n",
        "print(my_list)"
      ],
      "execution_count": 79,
      "outputs": [
        {
          "output_type": "stream",
          "name": "stdout",
          "text": [
            "['Hello', 'Quant', 'Hello']\n",
            "['Quant', 'Hello']\n"
          ]
        }
      ]
    },
    {
      "cell_type": "markdown",
      "metadata": {
        "id": "FA65euqzz6Qw"
      },
      "source": [
        "Example"
      ]
    },
    {
      "cell_type": "code",
      "metadata": {
        "colab": {
          "base_uri": "https://localhost:8080/"
        },
        "id": "JpUXA91LkJ23",
        "outputId": "8c90339f-5548-4adb-9246-7ee33c4349a3"
      },
      "source": [
        "otherList = ['Gatos', 'Perros','Patos']\n",
        "otherList.append('Gatos')\n",
        "print(otherList)\n",
        "otherList.remove('Gatos')\n",
        "print(otherList)"
      ],
      "execution_count": 80,
      "outputs": [
        {
          "output_type": "stream",
          "name": "stdout",
          "text": [
            "['Gatos', 'Perros', 'Patos', 'Gatos']\n",
            "['Perros', 'Patos', 'Gatos']\n"
          ]
        }
      ]
    },
    {
      "cell_type": "markdown",
      "metadata": {
        "id": "YOFf52yilSCA"
      },
      "source": [
        "**Tuple** A tuple is a data structure type similar to a list. The difference is that a tuple is immutable, which means you can't change the elements in it once it's defined. We create a tuple by putting comma-separated values between parentheses."
      ]
    },
    {
      "cell_type": "code",
      "metadata": {
        "id": "89VYxWYdlTBE"
      },
      "source": [
        "my_tuple = ('Welcome','to','QuantConnect')"
      ],
      "execution_count": 81,
      "outputs": []
    },
    {
      "cell_type": "markdown",
      "metadata": {
        "id": "7roOZ7N7z7PS"
      },
      "source": [
        "Example"
      ]
    },
    {
      "cell_type": "code",
      "metadata": {
        "id": "63uk5rFGlYiT"
      },
      "source": [
        "newTuple = ('Algoritmos','Clases','Programacion', 'Colab', 'Python')"
      ],
      "execution_count": 82,
      "outputs": []
    },
    {
      "cell_type": "markdown",
      "metadata": {
        "id": "Y9K0h1xHljE7"
      },
      "source": [
        "Just like a list, a tuple can be sliced by using index."
      ]
    },
    {
      "cell_type": "code",
      "metadata": {
        "colab": {
          "base_uri": "https://localhost:8080/"
        },
        "id": "VELbuQ1SlmuZ",
        "outputId": "9178b914-4cd8-4046-fad9-cc77b3686558"
      },
      "source": [
        "my_tuple = ('Welcome','to','QuantConnect')\n",
        "print(my_tuple[1:])"
      ],
      "execution_count": 83,
      "outputs": [
        {
          "output_type": "stream",
          "name": "stdout",
          "text": [
            "('to', 'QuantConnect')\n"
          ]
        }
      ]
    },
    {
      "cell_type": "markdown",
      "metadata": {
        "id": "_pII9bqWz8CW"
      },
      "source": [
        "Example"
      ]
    },
    {
      "cell_type": "code",
      "metadata": {
        "colab": {
          "base_uri": "https://localhost:8080/"
        },
        "id": "_BQ4jTWVmtWx",
        "outputId": "191f7a2d-d8e9-42d8-9aa3-a886dd3ecee1"
      },
      "source": [
        "newTuple = ('Algoritmos','Clases','Programacion', 'Colab', 'Python')\n",
        "print(newTuple[0:])"
      ],
      "execution_count": 84,
      "outputs": [
        {
          "output_type": "stream",
          "name": "stdout",
          "text": [
            "('Algoritmos', 'Clases', 'Programacion', 'Colab', 'Python')\n"
          ]
        }
      ]
    },
    {
      "cell_type": "markdown",
      "metadata": {
        "id": "Qm0WYRCMm5nX"
      },
      "source": [
        "**Set** A set is an unordered collection with no duplicate elements. The built-in function set() can be used to create sets."
      ]
    },
    {
      "cell_type": "code",
      "metadata": {
        "colab": {
          "base_uri": "https://localhost:8080/"
        },
        "id": "kfNEoKt4nCX1",
        "outputId": "1aff3cb3-72be-4f23-921b-8dff7f67e2b3"
      },
      "source": [
        "stock_list = ['AAPL','GOOG','IBM','AAPL','IBM','FB','F','GOOG']\n",
        "stock_set = set(stock_list)\n",
        "print(stock_set)"
      ],
      "execution_count": 85,
      "outputs": [
        {
          "output_type": "stream",
          "name": "stdout",
          "text": [
            "{'F', 'FB', 'GOOG', 'IBM', 'AAPL'}\n"
          ]
        }
      ]
    },
    {
      "cell_type": "markdown",
      "metadata": {
        "id": "4qfEa6SIz9CR"
      },
      "source": [
        "Example"
      ]
    },
    {
      "cell_type": "code",
      "metadata": {
        "colab": {
          "base_uri": "https://localhost:8080/"
        },
        "id": "f7_A6JM3ntFD",
        "outputId": "22794a95-a820-436f-be80-f1939cc65f56"
      },
      "source": [
        "stockList = ['Python','Python','React','Java','C++','Java','Go','Go','Ruby', 'JavaScript']\n",
        "stockSet = set(stockList)\n",
        "print(stockSet)"
      ],
      "execution_count": 86,
      "outputs": [
        {
          "output_type": "stream",
          "name": "stdout",
          "text": [
            "{'Java', 'JavaScript', 'Ruby', 'React', 'Go', 'C++', 'Python'}\n"
          ]
        }
      ]
    },
    {
      "cell_type": "markdown",
      "metadata": {
        "id": "hG5qyWWgoEUl"
      },
      "source": [
        "**Dictionary** A dictionary is an unordered collection of key : value pairs, with the requirement that the keys are unique. We create a dictionary by placing a comma-separated list of key : value pairs within the braces."
      ]
    },
    {
      "cell_type": "code",
      "metadata": {
        "id": "6gdpwbTPoJ1n"
      },
      "source": [
        "my_dic = {'AAPL': 'Apple', 'FB': 'FaceBook', 'GOOG': 'Alphabet'}"
      ],
      "execution_count": 87,
      "outputs": []
    },
    {
      "cell_type": "markdown",
      "metadata": {
        "id": "vAMHB37az-PQ"
      },
      "source": [
        "Example"
      ]
    },
    {
      "cell_type": "code",
      "metadata": {
        "id": "EpJkJ0DuoLhW"
      },
      "source": [
        "newDict = {'Sony': 'Ps5', 'Microsoft': 'XboxSeries', 'Nintendo': 'Switch'}"
      ],
      "execution_count": 88,
      "outputs": []
    },
    {
      "cell_type": "markdown",
      "metadata": {
        "id": "kqDhVK0OoWWs"
      },
      "source": [
        "After defining a dictionary, we can access any value by indicating its key in brackets."
      ]
    },
    {
      "cell_type": "code",
      "metadata": {
        "colab": {
          "base_uri": "https://localhost:8080/"
        },
        "id": "SVNfuwX6oX0S",
        "outputId": "8bce6f67-5b86-453e-9caf-b2ae5b879433"
      },
      "source": [
        "print(my_dic['GOOG'])"
      ],
      "execution_count": 89,
      "outputs": [
        {
          "output_type": "stream",
          "name": "stdout",
          "text": [
            "Alphabet\n"
          ]
        }
      ]
    },
    {
      "cell_type": "markdown",
      "metadata": {
        "id": "h9SinarCz_kg"
      },
      "source": [
        "Example"
      ]
    },
    {
      "cell_type": "code",
      "metadata": {
        "colab": {
          "base_uri": "https://localhost:8080/"
        },
        "id": "f6gdsgLlqLFT",
        "outputId": "82d55052-0d5f-4628-cbcd-87a47a3f377d"
      },
      "source": [
        "print(newDict['Microsoft'])\n"
      ],
      "execution_count": 90,
      "outputs": [
        {
          "output_type": "stream",
          "name": "stdout",
          "text": [
            "XboxSeries\n"
          ]
        }
      ]
    },
    {
      "cell_type": "markdown",
      "metadata": {
        "id": "DNBPyJE4qU5J"
      },
      "source": [
        "We can also change the value associated with a specified key:"
      ]
    },
    {
      "cell_type": "code",
      "metadata": {
        "colab": {
          "base_uri": "https://localhost:8080/"
        },
        "id": "N1-uzaPvqVt0",
        "outputId": "369c826b-b616-4ca4-cbcc-313074b4fba6"
      },
      "source": [
        "my_dic['GOOG'] = 'Alphabet Company'\n",
        "print(my_dic['GOOG'])"
      ],
      "execution_count": 91,
      "outputs": [
        {
          "output_type": "stream",
          "name": "stdout",
          "text": [
            "Alphabet Company\n"
          ]
        }
      ]
    },
    {
      "cell_type": "markdown",
      "metadata": {
        "id": "9HknOFUK0AYg"
      },
      "source": [
        "Example"
      ]
    },
    {
      "cell_type": "code",
      "metadata": {
        "colab": {
          "base_uri": "https://localhost:8080/"
        },
        "id": "4iddfxWysKN4",
        "outputId": "5da093a1-8017-4c22-a465-49ab90029004"
      },
      "source": [
        "newDict['Microsoft'] = 'XboxSeries X - S'\n",
        "print(newDict['Microsoft'])"
      ],
      "execution_count": 92,
      "outputs": [
        {
          "output_type": "stream",
          "name": "stdout",
          "text": [
            "XboxSeries X - S\n"
          ]
        }
      ]
    },
    {
      "cell_type": "markdown",
      "metadata": {
        "id": "60OsWNUusda3"
      },
      "source": [
        "The built-in method of the dictionary object dict.keys() returns a list of all the keys used in the dictionary."
      ]
    },
    {
      "cell_type": "code",
      "metadata": {
        "colab": {
          "base_uri": "https://localhost:8080/"
        },
        "id": "dQf9mcFaseSJ",
        "outputId": "8538dd36-d08c-4069-8867-3a483b746548"
      },
      "source": [
        "print(my_dic.keys())"
      ],
      "execution_count": 93,
      "outputs": [
        {
          "output_type": "stream",
          "name": "stdout",
          "text": [
            "dict_keys(['AAPL', 'FB', 'GOOG'])\n"
          ]
        }
      ]
    },
    {
      "cell_type": "markdown",
      "metadata": {
        "id": "sfRiQdme0BO1"
      },
      "source": [
        "Example"
      ]
    },
    {
      "cell_type": "code",
      "metadata": {
        "colab": {
          "base_uri": "https://localhost:8080/"
        },
        "id": "DeifcbWuswa0",
        "outputId": "4b835e96-89ce-4bbf-c4ee-a104b2c39a0d"
      },
      "source": [
        "print(newDict.keys())"
      ],
      "execution_count": 94,
      "outputs": [
        {
          "output_type": "stream",
          "name": "stdout",
          "text": [
            "dict_keys(['Sony', 'Microsoft', 'Nintendo'])\n"
          ]
        }
      ]
    },
    {
      "cell_type": "markdown",
      "metadata": {
        "id": "IDUn-xwGs30r"
      },
      "source": [
        "### Common String Operations "
      ]
    },
    {
      "cell_type": "markdown",
      "metadata": {
        "id": "rYaIyD-is6S_"
      },
      "source": [
        "A string is an immutable sequence of characters. It can be sliced by index just like a tuple:"
      ]
    },
    {
      "cell_type": "code",
      "metadata": {
        "colab": {
          "base_uri": "https://localhost:8080/"
        },
        "id": "IiXDalpMs5iY",
        "outputId": "a2707725-77c8-4856-c24e-2d631149eab3"
      },
      "source": [
        "my_str = 'Welcome to QuantConnect'\n",
        "print(my_str[8:])"
      ],
      "execution_count": 95,
      "outputs": [
        {
          "output_type": "stream",
          "name": "stdout",
          "text": [
            "to QuantConnect\n"
          ]
        }
      ]
    },
    {
      "cell_type": "markdown",
      "metadata": {
        "id": "By4T0cGf0Cmu"
      },
      "source": [
        "Example"
      ]
    },
    {
      "cell_type": "code",
      "metadata": {
        "colab": {
          "base_uri": "https://localhost:8080/"
        },
        "id": "VgyMVGAXtE0U",
        "outputId": "5048ef94-0777-4f06-eb7a-1045d1690321"
      },
      "source": [
        "new_str = 'Bienvenido al curso de Algoritmos'\n",
        "print(new_str[14:])"
      ],
      "execution_count": 96,
      "outputs": [
        {
          "output_type": "stream",
          "name": "stdout",
          "text": [
            "curso de Algoritmos\n"
          ]
        }
      ]
    },
    {
      "cell_type": "markdown",
      "metadata": {
        "id": "IvMhP7PutRTZ"
      },
      "source": [
        "There are many methods associated with strings. We can use string.count() to count the occurrences of a character in a string, use string.find() to return the index of a specific character, and use string.replace() to replace characters."
      ]
    },
    {
      "cell_type": "code",
      "metadata": {
        "colab": {
          "base_uri": "https://localhost:8080/"
        },
        "id": "LPSMUnGMtTl2",
        "outputId": "3dcea914-9bf1-43fb-efae-b41b4cca3589"
      },
      "source": [
        "print(\"Counting the number of e's in this sentence\".count('e'))\n",
        "print('The first time e appears in this sentence'.find('e'))\n",
        "print('all the a in this sentence now becomes e'.replace('a','e'))"
      ],
      "execution_count": 97,
      "outputs": [
        {
          "output_type": "stream",
          "name": "stdout",
          "text": [
            "6\n",
            "2\n",
            "ell the e in this sentence now becomes e\n"
          ]
        }
      ]
    },
    {
      "cell_type": "markdown",
      "metadata": {
        "id": "Ldn3P1v70Dg9"
      },
      "source": [
        "Example"
      ]
    },
    {
      "cell_type": "code",
      "metadata": {
        "colab": {
          "base_uri": "https://localhost:8080/"
        },
        "id": "n7t8Af55tVrb",
        "outputId": "8d80d27d-7310-4c90-ae3a-2ee1c2830c8b"
      },
      "source": [
        "print(\"Se cuenta la cantidad de veces que puede aparecer dicho caracter\".count('a'))\n",
        "print('There are many methods associated with strings'.find('methods'))\n",
        "print('Ejemplos que se realizan por medio de colab'.replace('e','o'))"
      ],
      "execution_count": 98,
      "outputs": [
        {
          "output_type": "stream",
          "name": "stdout",
          "text": [
            "8\n",
            "15\n",
            "Ejomplos quo so roalizan por modio do colab\n"
          ]
        }
      ]
    },
    {
      "cell_type": "markdown",
      "metadata": {
        "id": "Jpkx0pMfvZ5-"
      },
      "source": [
        "The most commonly used method for strings is string.split(). This method will split the string by the indicated character and return a list:"
      ]
    },
    {
      "cell_type": "code",
      "metadata": {
        "colab": {
          "base_uri": "https://localhost:8080/"
        },
        "id": "Ha1-W7dLvu0s",
        "outputId": "52ffa399-0dda-4801-fe66-80b6c9f5ec10"
      },
      "source": [
        "Time = '2016-04-01 09:43:00'\n",
        "splited_list = Time.split(' ')\n",
        "date = splited_list[0]\n",
        "time = splited_list[1]\n",
        "print(date, time)\n",
        "hour = time.split(':')[0]\n",
        "print(hour)"
      ],
      "execution_count": 99,
      "outputs": [
        {
          "output_type": "stream",
          "name": "stdout",
          "text": [
            "2016-04-01 09:43:00\n",
            "09\n"
          ]
        }
      ]
    },
    {
      "cell_type": "markdown",
      "metadata": {
        "id": "Gw648IU60ETq"
      },
      "source": [
        "Example"
      ]
    },
    {
      "cell_type": "code",
      "metadata": {
        "colab": {
          "base_uri": "https://localhost:8080/"
        },
        "id": "pK7hd2gmv-TN",
        "outputId": "f7872587-0e63-43b0-fed9-cfbbfa7aa015"
      },
      "source": [
        "saludo = 'Hola Adios'\n",
        "splited_list = saludo.split(' ')\n",
        "hello = splited_list[0]\n",
        "bye = splited_list[1]\n",
        "print(hello, bye)\n",
        "text = saludo.split('a')[1]\n",
        "print(text)"
      ],
      "execution_count": 100,
      "outputs": [
        {
          "output_type": "stream",
          "name": "stdout",
          "text": [
            "Hola Adios\n",
            " Adios\n"
          ]
        }
      ]
    },
    {
      "cell_type": "markdown",
      "metadata": {
        "id": "4ARGl77XxZGv"
      },
      "source": [
        "We can replace parts of a string by our variable. This is called string formatting."
      ]
    },
    {
      "cell_type": "code",
      "metadata": {
        "colab": {
          "base_uri": "https://localhost:8080/"
        },
        "id": "2Ijww7U_xbO6",
        "outputId": "d3b975e0-c6d0-4a78-d080-7868f463f1ab"
      },
      "source": [
        "my_time = 'Hour: {}, Minute: {}'.format(9, 43)\n",
        "print(my_time)"
      ],
      "execution_count": 101,
      "outputs": [
        {
          "output_type": "stream",
          "name": "stdout",
          "text": [
            "Hour: 9, Minute: 43\n"
          ]
        }
      ]
    },
    {
      "cell_type": "markdown",
      "metadata": {
        "id": "BrDk9Izc0FVs"
      },
      "source": [
        "Example"
      ]
    },
    {
      "cell_type": "code",
      "metadata": {
        "colab": {
          "base_uri": "https://localhost:8080/"
        },
        "id": "kEvPS9zdxeY9",
        "outputId": "505c7f5d-5201-4173-b8fe-dde832b21ef2"
      },
      "source": [
        "newTime = 'Hour: {}, Minute: {}'.format(4, 20)\n",
        "print(newTime)"
      ],
      "execution_count": 102,
      "outputs": [
        {
          "output_type": "stream",
          "name": "stdout",
          "text": [
            "Hour: 4, Minute: 20\n"
          ]
        }
      ]
    },
    {
      "cell_type": "markdown",
      "metadata": {
        "id": "AfJNhL89xokw"
      },
      "source": [
        "Another way to format a string is to use the % symbol. %s is a placeholder that takes in a string. Similarly %f takes a float and %d takes an integer."
      ]
    },
    {
      "cell_type": "code",
      "metadata": {
        "colab": {
          "base_uri": "https://localhost:8080/"
        },
        "id": "PITMXCrMzhEs",
        "outputId": "7d671f02-2a63-4fe9-848d-061a32ea3666"
      },
      "source": [
        "print('pi is %f' % 3.14)\n",
        "print('%s to %s' % ('Welcome', 'QuantConnect'))"
      ],
      "execution_count": 103,
      "outputs": [
        {
          "output_type": "stream",
          "name": "stdout",
          "text": [
            "pi is 3.140000\n",
            "Welcome to QuantConnect\n"
          ]
        }
      ]
    },
    {
      "cell_type": "markdown",
      "metadata": {
        "id": "2wvXwoO90G4A"
      },
      "source": [
        "Example"
      ]
    },
    {
      "cell_type": "code",
      "metadata": {
        "colab": {
          "base_uri": "https://localhost:8080/"
        },
        "id": "zLqfbQqG01hT",
        "outputId": "f9b59383-cf79-4b89-8492-7c9a89a9e9b9"
      },
      "source": [
        "print('e is %f' % 2.71828)\n",
        "print('%s a %s' % ('Bienvenido', 'Algoritmos'))"
      ],
      "execution_count": 104,
      "outputs": [
        {
          "output_type": "stream",
          "name": "stdout",
          "text": [
            "e is 2.718280\n",
            "Bienvenido a Algoritmos\n"
          ]
        }
      ]
    },
    {
      "cell_type": "markdown",
      "metadata": {
        "id": "jPfwQKAiF4hz"
      },
      "source": [
        "# ***2. Logical Operations and Loops***"
      ]
    },
    {
      "cell_type": "markdown",
      "metadata": {
        "id": "lk6GMC_UCVrh"
      },
      "source": [
        "### Logical Operations"
      ]
    },
    {
      "cell_type": "markdown",
      "metadata": {
        "id": "W3aSpAfZCRaB"
      },
      "source": [
        "Like most programming languages, Python has comparison operators:"
      ]
    },
    {
      "cell_type": "code",
      "metadata": {
        "colab": {
          "base_uri": "https://localhost:8080/"
        },
        "id": "LSYsPtWuCdiS",
        "outputId": "8319ad4c-29ce-47e6-dd83-e8afdade2f9f"
      },
      "source": [
        "print(1 == 0)    # 1 equals 0\n",
        "print(1 == 1)    # 1 equals 1\n",
        "print(1 != 0)    # 1 is not equal to 0\n",
        "print(5 >= 5)    # 5 is greater than or equal to 5\n",
        "print(5 >= 6)    # 5 is greater than or equal to 6"
      ],
      "execution_count": 105,
      "outputs": [
        {
          "output_type": "stream",
          "name": "stdout",
          "text": [
            "False\n",
            "True\n",
            "True\n",
            "True\n",
            "False\n"
          ]
        }
      ]
    },
    {
      "cell_type": "markdown",
      "metadata": {
        "id": "n6aSXtYp0LcA"
      },
      "source": [
        "Example"
      ]
    },
    {
      "cell_type": "code",
      "metadata": {
        "colab": {
          "base_uri": "https://localhost:8080/"
        },
        "id": "L3Qs-SIqCo-c",
        "outputId": "11b128e9-6f2a-42d6-dfab-b6cd545a2fd5"
      },
      "source": [
        "print(100 == 100)    # 100 equals 100\n",
        "print(10 == 5)    # 10 equals 5\n",
        "print(5 != 1)    # 5 is not equal to 1\n",
        "print(5 != 5)    # 5 is not equal to 5\n",
        "print(13 >= 12)    # 13 is greater than or equal to 12\n",
        "print(19 >= 20)    # 5 is greater than or equal to 6"
      ],
      "execution_count": 106,
      "outputs": [
        {
          "output_type": "stream",
          "name": "stdout",
          "text": [
            "True\n",
            "False\n",
            "True\n",
            "False\n",
            "True\n",
            "False\n"
          ]
        }
      ]
    },
    {
      "cell_type": "markdown",
      "metadata": {
        "id": "H2TBB9NJC8O7"
      },
      "source": [
        "Each statement above has a boolean value, which must be either True or False, but not both.\n",
        "\n",
        "We can combine simple statements P and Q to form complex statements using logical operators:"
      ]
    },
    {
      "cell_type": "markdown",
      "metadata": {
        "id": "n8LAoBy60OQA"
      },
      "source": [
        "\n",
        "\n",
        "* The statement \"P and Q\" is true if both P and Q are true, otherwise it is false.\n",
        "*   The statement \"P or Q\" is false if both P and Q are false, otherwise it is true.\n",
        "\n",
        "\n",
        "*   The statement \"not P\" is true if P is false, and vice versa."
      ]
    },
    {
      "cell_type": "code",
      "metadata": {
        "colab": {
          "base_uri": "https://localhost:8080/"
        },
        "id": "HxBGdNbQC86x",
        "outputId": "d82ab235-7977-4037-b652-8993a3867994"
      },
      "source": [
        "print(2 > 1 and 3 > 2)\n",
        "print(2 > 1 and 3 < 2)\n",
        "print(2 > 1 or  3 < 2)\n",
        "print(2 < 1 and 3 < 2)"
      ],
      "execution_count": 107,
      "outputs": [
        {
          "output_type": "stream",
          "name": "stdout",
          "text": [
            "True\n",
            "False\n",
            "True\n",
            "False\n"
          ]
        }
      ]
    },
    {
      "cell_type": "markdown",
      "metadata": {
        "id": "GdU9QzdK0M7C"
      },
      "source": [
        "Example"
      ]
    },
    {
      "cell_type": "code",
      "metadata": {
        "colab": {
          "base_uri": "https://localhost:8080/"
        },
        "id": "FcyHNg-VJuD7",
        "outputId": "5af71764-051e-47a9-d348-c9a37a76b8ad"
      },
      "source": [
        "print(10 > 20 and 30 > 29)\n",
        "print(7 > 8 and 101 < 102)\n",
        "print(100 > 99 or  6 < 4)\n",
        "print(2022 < 2021 and 2010 < 2011)"
      ],
      "execution_count": 108,
      "outputs": [
        {
          "output_type": "stream",
          "name": "stdout",
          "text": [
            "False\n",
            "False\n",
            "True\n",
            "False\n"
          ]
        }
      ]
    },
    {
      "cell_type": "markdown",
      "metadata": {
        "id": "jRJxjPMOJ8WC"
      },
      "source": [
        "When dealing with a very complex logical statement that involves in several statements, we can use brackets to separate and combine them."
      ]
    },
    {
      "cell_type": "code",
      "metadata": {
        "colab": {
          "base_uri": "https://localhost:8080/"
        },
        "id": "1DB9-m07J-16",
        "outputId": "e7d6d5f8-3808-4a55-f0b3-c50f199c5e2f"
      },
      "source": [
        "print((3 > 2 or 1 < 3) and (1!=3 and 4>3) and not ( 3 < 2 or 1 < 3 and (1!=3 and 4>3)))\n",
        "print(3 > 2 or 1 < 3) and (1!=3 and 4>3) and not ( 3 < 2 or 1 < 3 and (1!=3 and 4>3))"
      ],
      "execution_count": 109,
      "outputs": [
        {
          "output_type": "stream",
          "name": "stdout",
          "text": [
            "False\n",
            "True\n"
          ]
        }
      ]
    },
    {
      "cell_type": "markdown",
      "metadata": {
        "id": "gAg_FmhH0YBC"
      },
      "source": [
        "Example"
      ]
    },
    {
      "cell_type": "code",
      "metadata": {
        "colab": {
          "base_uri": "https://localhost:8080/"
        },
        "id": "gbOrgb1yKOXC",
        "outputId": "8d145e05-0f75-4b12-ce26-f85a2bbe3630"
      },
      "source": [
        "print((5 > 4 or 2 < 7) and (2!=10 and 8>1) and not ( 5 < 1 or 2 < 6 and (8!=3 and 7>1)))\n",
        "print(5 > 4 or 2 < 7) and (2!=10 and 8>1) and not ( 5 < 1 or 2 < 6 and (8!=3 and 7>1))"
      ],
      "execution_count": 110,
      "outputs": [
        {
          "output_type": "stream",
          "name": "stdout",
          "text": [
            "False\n",
            "True\n"
          ]
        }
      ]
    },
    {
      "cell_type": "markdown",
      "metadata": {
        "id": "-YZzrYygK68x"
      },
      "source": [
        "### If Statement "
      ]
    },
    {
      "cell_type": "markdown",
      "metadata": {
        "id": "2X2DIcuYLBmB"
      },
      "source": [
        "An if statement executes a segment of code only if its condition is true. A standard if statement consists of 3 segments: if, elif and else."
      ]
    },
    {
      "cell_type": "markdown",
      "metadata": {
        "id": "hz7qrmZMbhck"
      },
      "source": [
        "if condition1:\n",
        "    # if condition1 is true, execute the code here\n",
        "    # and ignore the rest of this if statement\n",
        "elif condition2:\n",
        "    # if condition1 is false, and condition2 is true, execute the code here\n",
        "    # and ignore the rest of this if statement\n",
        "else:\n",
        "    # if none of the above conditions is True, execute the code here"
      ]
    },
    {
      "cell_type": "markdown",
      "metadata": {
        "id": "FGkEnb7ILOCR"
      },
      "source": [
        "An if statement doesn't necessarily has elif and else part. If it's not specified, the indented block of code will be executed when the condition is true, otherwise the whole if statement will be skipped"
      ]
    },
    {
      "cell_type": "code",
      "metadata": {
        "colab": {
          "base_uri": "https://localhost:8080/"
        },
        "id": "qYDfJR7pLNch",
        "outputId": "a19e5c3f-a8af-49ee-ff9c-e7129d81a8c6"
      },
      "source": [
        "i = 0\n",
        "if i == 0:   \n",
        "  print('i == 0 is True')"
      ],
      "execution_count": 111,
      "outputs": [
        {
          "output_type": "stream",
          "name": "stdout",
          "text": [
            "i == 0 is True\n"
          ]
        }
      ]
    },
    {
      "cell_type": "markdown",
      "metadata": {
        "id": "C8oSy4VV0bOU"
      },
      "source": [
        "Example"
      ]
    },
    {
      "cell_type": "code",
      "metadata": {
        "colab": {
          "base_uri": "https://localhost:8080/"
        },
        "id": "KHhe0odBvT8G",
        "outputId": "7016f345-57e4-4e35-f42a-21c1303fea1a"
      },
      "source": [
        "i = 20\n",
        "if i ==20 :   \n",
        "  print('--> i == 20 is True')"
      ],
      "execution_count": 112,
      "outputs": [
        {
          "output_type": "stream",
          "name": "stdout",
          "text": [
            "--> i == 20 is True\n"
          ]
        }
      ]
    },
    {
      "cell_type": "markdown",
      "metadata": {
        "id": "Z1RT8GNMwu3R"
      },
      "source": [
        "As we mentioned above, we can write some complex statements here:"
      ]
    },
    {
      "cell_type": "code",
      "metadata": {
        "colab": {
          "base_uri": "https://localhost:8080/"
        },
        "id": "4n7mlxnjwvqa",
        "outputId": "99e4206e-3390-4c53-93f1-f082c5e92f75"
      },
      "source": [
        "p = 1 > 0\n",
        "q = 2 > 3\n",
        "if p and q:\n",
        "    print('p and q is true')\n",
        "elif p and not q:\n",
        "    print('q is false')\n",
        "elif q and not p:\n",
        "    print('p is false')\n",
        "else:\n",
        "    print('None of p and q is true')"
      ],
      "execution_count": 113,
      "outputs": [
        {
          "output_type": "stream",
          "name": "stdout",
          "text": [
            "q is false\n"
          ]
        }
      ]
    },
    {
      "cell_type": "markdown",
      "metadata": {
        "id": "sbD-7K-E0cZH"
      },
      "source": [
        "Example"
      ]
    },
    {
      "cell_type": "code",
      "metadata": {
        "colab": {
          "base_uri": "https://localhost:8080/"
        },
        "id": "iDytDse1w5ff",
        "outputId": "61ce08c3-784a-4a70-c60c-972062cc1d41"
      },
      "source": [
        "p = 5 > 9\n",
        "q = 1 > 2\n",
        "if p and q:\n",
        "    print('p and q is true')\n",
        "elif p and not q:\n",
        "    print('q is false')\n",
        "elif q and not p:\n",
        "    print('p is false')\n",
        "else:\n",
        "    print('None of p and q is true')"
      ],
      "execution_count": 114,
      "outputs": [
        {
          "output_type": "stream",
          "name": "stdout",
          "text": [
            "None of p and q is true\n"
          ]
        }
      ]
    },
    {
      "cell_type": "markdown",
      "metadata": {
        "id": "ijyG_uuAxDwP"
      },
      "source": [
        "### Loop Structure "
      ]
    },
    {
      "cell_type": "markdown",
      "metadata": {
        "id": "gKIlHZuIxH2f"
      },
      "source": [
        "**While Loop** A \"while\" loop will run repeatedly until a certain condition has been met."
      ]
    },
    {
      "cell_type": "code",
      "metadata": {
        "colab": {
          "base_uri": "https://localhost:8080/"
        },
        "id": "1qdu7Ul3xKv6",
        "outputId": "a161bfdb-075f-45c3-b314-2a1a841165e0"
      },
      "source": [
        "i = 0\n",
        "while i < 5:\n",
        "    print(i)\n",
        "    i += 1"
      ],
      "execution_count": 115,
      "outputs": [
        {
          "output_type": "stream",
          "name": "stdout",
          "text": [
            "0\n",
            "1\n",
            "2\n",
            "3\n",
            "4\n"
          ]
        }
      ]
    },
    {
      "cell_type": "markdown",
      "metadata": {
        "id": "t6LUWEzV0eJD"
      },
      "source": [
        "Example"
      ]
    },
    {
      "cell_type": "code",
      "metadata": {
        "colab": {
          "base_uri": "https://localhost:8080/"
        },
        "id": "YWPJElCXxYTo",
        "outputId": "2f708a1c-cfc4-4047-de96-20ba0438ee41"
      },
      "source": [
        "i = 0\n",
        "while i < 10:\n",
        "    print(i)\n",
        "    i += 2"
      ],
      "execution_count": 116,
      "outputs": [
        {
          "output_type": "stream",
          "name": "stdout",
          "text": [
            "0\n",
            "2\n",
            "4\n",
            "6\n",
            "8\n"
          ]
        }
      ]
    },
    {
      "cell_type": "markdown",
      "metadata": {
        "id": "doojAXpdxg4X"
      },
      "source": [
        "**For Loop** A \"for\" loop will iterate over a sequence of value and terminate when the sequence has ended."
      ]
    },
    {
      "cell_type": "code",
      "metadata": {
        "colab": {
          "base_uri": "https://localhost:8080/"
        },
        "id": "-2Ose02Sx1Rn",
        "outputId": "68718620-c1a8-4c71-810b-a4f46c1de84f"
      },
      "source": [
        "for x in [1,2,3,4,5]: \n",
        "  print(x)"
      ],
      "execution_count": 117,
      "outputs": [
        {
          "output_type": "stream",
          "name": "stdout",
          "text": [
            "1\n",
            "2\n",
            "3\n",
            "4\n",
            "5\n"
          ]
        }
      ]
    },
    {
      "cell_type": "markdown",
      "metadata": {
        "id": "98hToO0Q0fm2"
      },
      "source": [
        "Example"
      ]
    },
    {
      "cell_type": "code",
      "metadata": {
        "colab": {
          "base_uri": "https://localhost:8080/"
        },
        "id": "JZKrHqqox7Se",
        "outputId": "e668b31f-e316-4dca-c9ef-1fc96924e271"
      },
      "source": [
        "for x in [2,4,6,8,10,12,14]: \n",
        "  print(x)"
      ],
      "execution_count": 118,
      "outputs": [
        {
          "output_type": "stream",
          "name": "stdout",
          "text": [
            "2\n",
            "4\n",
            "6\n",
            "8\n",
            "10\n",
            "12\n",
            "14\n"
          ]
        }
      ]
    },
    {
      "cell_type": "markdown",
      "metadata": {
        "id": "qXZQsaqzyC9C"
      },
      "source": [
        "We can also add if statements in a for loop. Here is a real example from our pairs trading algorithm:"
      ]
    },
    {
      "cell_type": "code",
      "metadata": {
        "colab": {
          "base_uri": "https://localhost:8080/"
        },
        "id": "Qnq5WcMDyDqw",
        "outputId": "26f668ca-aee2-4e04-b834-249e71c16ee1"
      },
      "source": [
        "stocks = ['AAPL','GOOG','IBM','FB','F','V', 'G', 'GE']\n",
        "selected = ['AAPL','IBM']\n",
        "new_list = []\n",
        "for stock in stocks:\n",
        "    if stock not in selected:\n",
        "        new_list.append(stock)\n",
        "print(new_list)"
      ],
      "execution_count": 119,
      "outputs": [
        {
          "output_type": "stream",
          "name": "stdout",
          "text": [
            "['GOOG', 'FB', 'F', 'V', 'G', 'GE']\n"
          ]
        }
      ]
    },
    {
      "cell_type": "markdown",
      "metadata": {
        "id": "6SM7fiYF0kLl"
      },
      "source": [
        "Example"
      ]
    },
    {
      "cell_type": "code",
      "metadata": {
        "colab": {
          "base_uri": "https://localhost:8080/"
        },
        "id": "eMlDKqh00GB1",
        "outputId": "36bde07a-5a50-4cdc-e967-3cd95be79a60"
      },
      "source": [
        "newStocks = ['Python','Go','C++','React','Java','C#', 'C', 'Html']\n",
        "newSelected = ['Html','React']\n",
        "newList = []\n",
        "for newStock in newStocks:\n",
        "    if newStock not in newSelected:\n",
        "        newList.append(newStock)\n",
        "print(newList)"
      ],
      "execution_count": 120,
      "outputs": [
        {
          "output_type": "stream",
          "name": "stdout",
          "text": [
            "['Python', 'Go', 'C++', 'Java', 'C#', 'C']\n"
          ]
        }
      ]
    },
    {
      "cell_type": "markdown",
      "metadata": {
        "id": "INX841YS2OQR"
      },
      "source": [
        "**Break and continue** These are two commonly used commands in a for loop. If \"break\" is triggered while a loop is executing, the loop will terminate immediately:"
      ]
    },
    {
      "cell_type": "code",
      "metadata": {
        "colab": {
          "base_uri": "https://localhost:8080/"
        },
        "id": "3B9htR2j2SSs",
        "outputId": "2fd8b12c-47c3-4fae-edd1-e89300d8f5da"
      },
      "source": [
        "stocks = ['AAPL','GOOG','IBM','FB','F','V', 'G', 'GE']\n",
        "for stock in stocks:\n",
        "    print(stock)\n",
        "    if stock == 'FB': \n",
        "      break"
      ],
      "execution_count": 121,
      "outputs": [
        {
          "output_type": "stream",
          "name": "stdout",
          "text": [
            "AAPL\n",
            "GOOG\n",
            "IBM\n",
            "FB\n"
          ]
        }
      ]
    },
    {
      "cell_type": "markdown",
      "metadata": {
        "id": "eBfAtKw00lHG"
      },
      "source": [
        "Example"
      ]
    },
    {
      "cell_type": "code",
      "metadata": {
        "colab": {
          "base_uri": "https://localhost:8080/"
        },
        "id": "5vT6mxBN2aN0",
        "outputId": "da9e39f2-9a40-46c2-b7d8-b9269c4badec"
      },
      "source": [
        "newStocks = ['Python','Go','C++','React','Java','C#', 'C', 'Html']\n",
        "for stock in newStocks:\n",
        "    print(stock)\n",
        "    if stock == 'C': \n",
        "      break"
      ],
      "execution_count": 122,
      "outputs": [
        {
          "output_type": "stream",
          "name": "stdout",
          "text": [
            "Python\n",
            "Go\n",
            "C++\n",
            "React\n",
            "Java\n",
            "C#\n",
            "C\n"
          ]
        }
      ]
    },
    {
      "cell_type": "markdown",
      "metadata": {
        "id": "cHVuW8EV2mH9"
      },
      "source": [
        "The \"continue\" command tells the loop to end this iteration and skip to the next iteration:"
      ]
    },
    {
      "cell_type": "code",
      "metadata": {
        "colab": {
          "base_uri": "https://localhost:8080/"
        },
        "id": "IoQ1pyJf2msf",
        "outputId": "d3c1080a-50b5-4184-ae7e-21da6e5d2d13"
      },
      "source": [
        "stocks = ['AAPL','GOOG','IBM','FB','F','V', 'G', 'GE']\n",
        "for stock in stocks:\n",
        "    if stock == 'FB': \n",
        "      continue\n",
        "    print(stock)"
      ],
      "execution_count": 123,
      "outputs": [
        {
          "output_type": "stream",
          "name": "stdout",
          "text": [
            "AAPL\n",
            "GOOG\n",
            "IBM\n",
            "F\n",
            "V\n",
            "G\n",
            "GE\n"
          ]
        }
      ]
    },
    {
      "cell_type": "markdown",
      "metadata": {
        "id": "3V4Kt0v40mim"
      },
      "source": [
        "Example"
      ]
    },
    {
      "cell_type": "code",
      "metadata": {
        "colab": {
          "base_uri": "https://localhost:8080/"
        },
        "id": "N933rxDl3scl",
        "outputId": "dd36a06c-2a61-46f5-c045-82bb3fb0ed7e"
      },
      "source": [
        "newStocks = ['Python','Go','C++','React','Java','C#', 'C', 'Html']\n",
        "for stock in newStocks:\n",
        "    if stock == 'Java': \n",
        "      continue\n",
        "    print(stock)"
      ],
      "execution_count": 124,
      "outputs": [
        {
          "output_type": "stream",
          "name": "stdout",
          "text": [
            "Python\n",
            "Go\n",
            "C++\n",
            "React\n",
            "C#\n",
            "C\n",
            "Html\n"
          ]
        }
      ]
    },
    {
      "cell_type": "markdown",
      "metadata": {
        "id": "aMB1umAK35JE"
      },
      "source": [
        "### List Comprehension "
      ]
    },
    {
      "cell_type": "markdown",
      "metadata": {
        "id": "c0Oir3oq3701"
      },
      "source": [
        "List comprehension is a Pythonic way to create lists. Common applications are to make new lists where each element is the result of some operations applied to each member of another sequence. For example, if we want to create a list of squares using for loop:"
      ]
    },
    {
      "cell_type": "code",
      "metadata": {
        "colab": {
          "base_uri": "https://localhost:8080/"
        },
        "id": "XuIbjhZV381j",
        "outputId": "fd609c11-0517-4a0a-8576-c3a065135bab"
      },
      "source": [
        "squares = []\n",
        "for i in [1,2,3,4,5]:\n",
        "    squares.append(i**2)\n",
        "print(squares)"
      ],
      "execution_count": 125,
      "outputs": [
        {
          "output_type": "stream",
          "name": "stdout",
          "text": [
            "[1, 4, 9, 16, 25]\n"
          ]
        }
      ]
    },
    {
      "cell_type": "markdown",
      "metadata": {
        "id": "davwKosh0o68"
      },
      "source": [
        "Example"
      ]
    },
    {
      "cell_type": "code",
      "metadata": {
        "colab": {
          "base_uri": "https://localhost:8080/"
        },
        "id": "tBkpJ4OY5NSj",
        "outputId": "0b53cbe4-755a-4cc2-9b81-680eb56a5d01"
      },
      "source": [
        "newSquares = []\n",
        "for i in [2,4,6,8,10]:\n",
        "    newSquares.append(i**2)\n",
        "print(newSquares)"
      ],
      "execution_count": 126,
      "outputs": [
        {
          "output_type": "stream",
          "name": "stdout",
          "text": [
            "[4, 16, 36, 64, 100]\n"
          ]
        }
      ]
    },
    {
      "cell_type": "markdown",
      "metadata": {
        "id": "_FKpn4GG9Him"
      },
      "source": [
        "Using list comprehension:"
      ]
    },
    {
      "cell_type": "code",
      "metadata": {
        "colab": {
          "base_uri": "https://localhost:8080/"
        },
        "id": "OiMb3AFd9q6y",
        "outputId": "ea60ddbb-ef99-4a1f-c518-614f28b1b00e"
      },
      "source": [
        "foo = [1,2,3,4,5]\n",
        "squares = [x**2 for x in foo]\n",
        "print(squares)"
      ],
      "execution_count": 127,
      "outputs": [
        {
          "output_type": "stream",
          "name": "stdout",
          "text": [
            "[1, 4, 9, 16, 25]\n"
          ]
        }
      ]
    },
    {
      "cell_type": "markdown",
      "metadata": {
        "id": "kjs4wabY0pve"
      },
      "source": [
        "Example"
      ]
    },
    {
      "cell_type": "code",
      "metadata": {
        "colab": {
          "base_uri": "https://localhost:8080/"
        },
        "id": "LZHrYeLK-l_q",
        "outputId": "37aa82c4-08c7-4d56-bbc3-b0d1d7d5c991"
      },
      "source": [
        "newFoo = [2,4,6,8,10]\n",
        "newSquare = [x**2 for x in newFoo]\n",
        "print(newSquare)"
      ],
      "execution_count": 128,
      "outputs": [
        {
          "output_type": "stream",
          "name": "stdout",
          "text": [
            "[4, 16, 36, 64, 100]\n"
          ]
        }
      ]
    },
    {
      "cell_type": "markdown",
      "metadata": {
        "id": "h58lhBH-C4Jn"
      },
      "source": [
        "Recall the example above where we used a for loop to select stocks. Here we use list comprehension:"
      ]
    },
    {
      "cell_type": "code",
      "metadata": {
        "colab": {
          "base_uri": "https://localhost:8080/"
        },
        "id": "DPGRvDmMC4uK",
        "outputId": "f4a053c6-2d06-4f60-b0fc-6cd7ca1db9c0"
      },
      "source": [
        "stocks = ['AAPL','GOOG','IBM','FB','F','V', 'G', 'GE']\n",
        "selected = ['AAPL','IBM']\n",
        "new_list = [x for x in stocks if x not in selected]\n",
        "print(new_list)"
      ],
      "execution_count": 129,
      "outputs": [
        {
          "output_type": "stream",
          "name": "stdout",
          "text": [
            "['GOOG', 'FB', 'F', 'V', 'G', 'GE']\n"
          ]
        }
      ]
    },
    {
      "cell_type": "markdown",
      "metadata": {
        "id": "-5CfY61q0qxg"
      },
      "source": [
        "Example"
      ]
    },
    {
      "cell_type": "code",
      "metadata": {
        "colab": {
          "base_uri": "https://localhost:8080/"
        },
        "id": "serLE3tRDbdu",
        "outputId": "6f4b88f5-1928-4451-c43e-dd2350534b86"
      },
      "source": [
        "newStocks = ['Python','Go','C++','React','Java','C#', 'C', 'Html']\n",
        "newSelected = ['Html','React']\n",
        "newList = [x for x in newStocks if x not in newSelected]\n",
        "print(newList)"
      ],
      "execution_count": 130,
      "outputs": [
        {
          "output_type": "stream",
          "name": "stdout",
          "text": [
            "['Python', 'Go', 'C++', 'Java', 'C#', 'C']\n"
          ]
        }
      ]
    },
    {
      "cell_type": "markdown",
      "metadata": {
        "id": "-7wJyFQnHwqG"
      },
      "source": [
        "A list comprehension consists of square brackets containing an expression followed by a \"for\" clause, and possibly \"for\" or \"if\" clauses. For example:"
      ]
    },
    {
      "cell_type": "code",
      "metadata": {
        "id": "ZlGT1P-uHynV",
        "colab": {
          "base_uri": "https://localhost:8080/"
        },
        "outputId": "99a794d4-e11e-4297-a875-5dc8e7c7b110"
      },
      "source": [
        "print([(x, y) for x in [1,2,3] for y in [3,1,4] if x != y])\n",
        "print([str(x) + ' vs ' + str(y) for x in ['AAPL','GOOG','IBM','FB']\n",
        "                                for y in ['F','V','G','GE'] if x != y])"
      ],
      "execution_count": 131,
      "outputs": [
        {
          "output_type": "stream",
          "name": "stdout",
          "text": [
            "[(1, 3), (1, 4), (2, 3), (2, 1), (2, 4), (3, 1), (3, 4)]\n",
            "['AAPL vs F', 'AAPL vs V', 'AAPL vs G', 'AAPL vs GE', 'GOOG vs F', 'GOOG vs V', 'GOOG vs G', 'GOOG vs GE', 'IBM vs F', 'IBM vs V', 'IBM vs G', 'IBM vs GE', 'FB vs F', 'FB vs V', 'FB vs G', 'FB vs GE']\n"
          ]
        }
      ]
    },
    {
      "cell_type": "markdown",
      "metadata": {
        "id": "GXxMNBoT0sDa"
      },
      "source": [
        "Example"
      ]
    },
    {
      "cell_type": "code",
      "metadata": {
        "colab": {
          "base_uri": "https://localhost:8080/"
        },
        "id": "PT7RBCMxtmCf",
        "outputId": "49f3fe09-5383-47b2-9a94-f1e3b68cae7a"
      },
      "source": [
        "print([(x, y) for x in [2,4,6,8] for y in [2020,2021,2022,2023] if x != y])\n",
        "print([str(x) + ' vs ' + str(y) for x in ['Python','Html','Java','Ruby']\n",
        "                                for y in ['C#','C','JavaScript','Vue'] if x != y])"
      ],
      "execution_count": 132,
      "outputs": [
        {
          "output_type": "stream",
          "name": "stdout",
          "text": [
            "[(2, 2020), (2, 2021), (2, 2022), (2, 2023), (4, 2020), (4, 2021), (4, 2022), (4, 2023), (6, 2020), (6, 2021), (6, 2022), (6, 2023), (8, 2020), (8, 2021), (8, 2022), (8, 2023)]\n",
            "['Python vs C#', 'Python vs C', 'Python vs JavaScript', 'Python vs Vue', 'Html vs C#', 'Html vs C', 'Html vs JavaScript', 'Html vs Vue', 'Java vs C#', 'Java vs C', 'Java vs JavaScript', 'Java vs Vue', 'Ruby vs C#', 'Ruby vs C', 'Ruby vs JavaScript', 'Ruby vs Vue']\n"
          ]
        }
      ]
    },
    {
      "cell_type": "markdown",
      "metadata": {
        "id": "w1hjVjjlGHsj"
      },
      "source": [
        "# ***3. Functions and Objective-Oriented Programming***"
      ]
    },
    {
      "cell_type": "markdown",
      "metadata": {
        "id": "3Zf8MPYawMK8"
      },
      "source": [
        "### Functions "
      ]
    },
    {
      "cell_type": "markdown",
      "metadata": {
        "id": "kxeWSXMOwOi0"
      },
      "source": [
        "A function is a reusable block of code. We can use a function to output a value, or do anything else we want. We can easily define our own function by using the keyword \"def\"."
      ]
    },
    {
      "cell_type": "code",
      "metadata": {
        "colab": {
          "base_uri": "https://localhost:8080/"
        },
        "id": "qGe6vkAEwG3Y",
        "outputId": "f6eba58d-9f4d-4057-d7c1-a9d2a1784c30"
      },
      "source": [
        "def product(x,y):\n",
        "    return x*y\n",
        "print(product(2,3))\n",
        "print(product(5,10))"
      ],
      "execution_count": 133,
      "outputs": [
        {
          "output_type": "stream",
          "name": "stdout",
          "text": [
            "6\n",
            "50\n"
          ]
        }
      ]
    },
    {
      "cell_type": "markdown",
      "metadata": {
        "id": "k52IIy_L0yrC"
      },
      "source": [
        "Example"
      ]
    },
    {
      "cell_type": "code",
      "metadata": {
        "colab": {
          "base_uri": "https://localhost:8080/"
        },
        "id": "JUch5awlyKzA",
        "outputId": "0238cdec-660a-4ba3-b1e7-c3e5e3942a39"
      },
      "source": [
        "def productPlusTwo(x,y):\n",
        "    return x*y+2\n",
        "print(productPlusTwo(4,4))\n",
        "print(productPlusTwo(10,10))"
      ],
      "execution_count": 134,
      "outputs": [
        {
          "output_type": "stream",
          "name": "stdout",
          "text": [
            "18\n",
            "102\n"
          ]
        }
      ]
    },
    {
      "cell_type": "markdown",
      "metadata": {
        "id": "5KZ_wWuwzPe9"
      },
      "source": [
        "The keyword \"def\" is followed by the function name and the parenthesized list of formal parameters. The statements that form the body of the function start at the next line, and must be indented. The product() function above has \"x\" and \"y\" as its parameters. A function doesn't necessarily have parameters:"
      ]
    },
    {
      "cell_type": "code",
      "metadata": {
        "colab": {
          "base_uri": "https://localhost:8080/"
        },
        "id": "Z0izZgunzQSx",
        "outputId": "51c4936a-3108-4cbb-a8e3-8333aaff48e6"
      },
      "source": [
        "def say_hi():\n",
        "    print(\"Welcome to QuantConnect\")\n",
        "say_hi()"
      ],
      "execution_count": 135,
      "outputs": [
        {
          "output_type": "stream",
          "name": "stdout",
          "text": [
            "Welcome to QuantConnect\n"
          ]
        }
      ]
    },
    {
      "cell_type": "markdown",
      "metadata": {
        "id": "jB3mtcze0zMH"
      },
      "source": [
        "Example"
      ]
    },
    {
      "cell_type": "code",
      "metadata": {
        "colab": {
          "base_uri": "https://localhost:8080/"
        },
        "id": "PBhNbGm6zboY",
        "outputId": "c436177e-aee6-4da8-b80d-2869c273d11c"
      },
      "source": [
        "def say_bye():\n",
        "    print(\"Hasta la proxima, saludos \")\n",
        "say_bye()"
      ],
      "execution_count": 136,
      "outputs": [
        {
          "output_type": "stream",
          "name": "stdout",
          "text": [
            "Hasta la proxima, saludos \n"
          ]
        }
      ]
    },
    {
      "cell_type": "markdown",
      "metadata": {
        "id": "-1J86iGvzilx"
      },
      "source": [
        "### Built-in Function "
      ]
    },
    {
      "cell_type": "markdown",
      "metadata": {
        "id": "ARi6Pi4XzlR2"
      },
      "source": [
        "**range()** is a function that creates a list containing an arithmetic sequence. It's often used in for loops. The arguments must be integers. If the \"step\" argument is omitted, it defaults to 1."
      ]
    },
    {
      "cell_type": "code",
      "metadata": {
        "colab": {
          "base_uri": "https://localhost:8080/"
        },
        "id": "fYycaW00zqRW",
        "outputId": "5ca1b3ee-29ea-4adc-9ea9-d249bf33c8f0"
      },
      "source": [
        "print(list(range(10)))\n",
        "print(list(range(1, 11)))\n",
        "print(list(range(1, 11, 2)))"
      ],
      "execution_count": 137,
      "outputs": [
        {
          "output_type": "stream",
          "name": "stdout",
          "text": [
            "[0, 1, 2, 3, 4, 5, 6, 7, 8, 9]\n",
            "[1, 2, 3, 4, 5, 6, 7, 8, 9, 10]\n",
            "[1, 3, 5, 7, 9]\n"
          ]
        }
      ]
    },
    {
      "cell_type": "markdown",
      "metadata": {
        "id": "U7OeBu_f00U7"
      },
      "source": [
        "Example"
      ]
    },
    {
      "cell_type": "code",
      "metadata": {
        "colab": {
          "base_uri": "https://localhost:8080/"
        },
        "id": "HPkcQg9nSKB_",
        "outputId": "73f2edc3-685b-4895-8ae4-eb308b34baf5"
      },
      "source": [
        "print(list(range(20)))\n",
        "print(list(range(10, 29)))\n",
        "print(list(range(1, 20, 4)))"
      ],
      "execution_count": 138,
      "outputs": [
        {
          "output_type": "stream",
          "name": "stdout",
          "text": [
            "[0, 1, 2, 3, 4, 5, 6, 7, 8, 9, 10, 11, 12, 13, 14, 15, 16, 17, 18, 19]\n",
            "[10, 11, 12, 13, 14, 15, 16, 17, 18, 19, 20, 21, 22, 23, 24, 25, 26, 27, 28]\n",
            "[1, 5, 9, 13, 17]\n"
          ]
        }
      ]
    },
    {
      "cell_type": "markdown",
      "metadata": {
        "id": "SvVC1pimSXGS"
      },
      "source": [
        "**len()** \n",
        "is another function used together with range() to create a for loop. This function returns the length of an object. The argument must be a sequence or a collection."
      ]
    },
    {
      "cell_type": "code",
      "metadata": {
        "colab": {
          "base_uri": "https://localhost:8080/"
        },
        "id": "E0SnEIunSZG_",
        "outputId": "4194382a-f51f-4c43-8a88-c2fe504fef45"
      },
      "source": [
        "tickers = ['AAPL', 'GOOGL', 'IBM', 'FB', 'F', 'V', 'G', 'GE']\n",
        "print(\"The number of tickers is {}\".format(len(tickers)))\n",
        "for k in range(len(tickers)):\n",
        "    print(k + 1, tickers[k])"
      ],
      "execution_count": 139,
      "outputs": [
        {
          "output_type": "stream",
          "name": "stdout",
          "text": [
            "The number of tickers is 8\n",
            "1 AAPL\n",
            "2 GOOGL\n",
            "3 IBM\n",
            "4 FB\n",
            "5 F\n",
            "6 V\n",
            "7 G\n",
            "8 GE\n"
          ]
        }
      ]
    },
    {
      "cell_type": "markdown",
      "metadata": {
        "id": "rX5hi9bN02YU"
      },
      "source": [
        "Example"
      ]
    },
    {
      "cell_type": "code",
      "metadata": {
        "colab": {
          "base_uri": "https://localhost:8080/"
        },
        "id": "GuFodgREVOUp",
        "outputId": "d1e62298-0827-4eec-b1b7-ccc992ae6667"
      },
      "source": [
        "language = ['Python', 'Java', 'C', 'C++', 'R', 'JavaScript', 'C#', 'MatLab', 'Swift','Go']\n",
        "print(\"The number of language is {}\".format(len(language)))\n",
        "for i in range(len(language)):\n",
        "    print(i + 1, language[i])"
      ],
      "execution_count": 140,
      "outputs": [
        {
          "output_type": "stream",
          "name": "stdout",
          "text": [
            "The number of language is 10\n",
            "1 Python\n",
            "2 Java\n",
            "3 C\n",
            "4 C++\n",
            "5 R\n",
            "6 JavaScript\n",
            "7 C#\n",
            "8 MatLab\n",
            "9 Swift\n",
            "10 Go\n"
          ]
        }
      ]
    },
    {
      "cell_type": "markdown",
      "metadata": {
        "id": "Ty2YIKfZV47E"
      },
      "source": [
        "**map()**\n",
        " is a function that applies a specific function to every item of a sequence or collection, and returns a list of the results."
      ]
    },
    {
      "cell_type": "code",
      "metadata": {
        "colab": {
          "base_uri": "https://localhost:8080/"
        },
        "id": "0kVrn6KjV7CO",
        "outputId": "896e9ff4-e4fc-4a99-fd3d-c90991746495"
      },
      "source": [
        "tickers = ['AAPL','GOOG','IBM','FB','F','V', 'G', 'GE']\n",
        "print(list(map(len,tickers)))"
      ],
      "execution_count": 141,
      "outputs": [
        {
          "output_type": "stream",
          "name": "stdout",
          "text": [
            "[4, 4, 3, 2, 1, 1, 1, 2]\n"
          ]
        }
      ]
    },
    {
      "cell_type": "markdown",
      "metadata": {
        "id": "JbdBFXkx06Bs"
      },
      "source": [
        "Example"
      ]
    },
    {
      "cell_type": "code",
      "metadata": {
        "colab": {
          "base_uri": "https://localhost:8080/"
        },
        "id": "Zn6cu3d9WNdN",
        "outputId": "41fa15f8-cf22-4773-fdcf-e2f9b625e493"
      },
      "source": [
        "otherLanguage = ['PHP','SQL','VisualBasic']\n",
        "print(list(map(len,otherLanguage)))"
      ],
      "execution_count": 142,
      "outputs": [
        {
          "output_type": "stream",
          "name": "stdout",
          "text": [
            "[3, 3, 11]\n"
          ]
        }
      ]
    },
    {
      "cell_type": "markdown",
      "metadata": {
        "id": "yUC-91QoXh-1"
      },
      "source": [
        "The **lambda operator** \n",
        "is a way to create small anonymous functions. These functions are just needed where they have been created. For example"
      ]
    },
    {
      "cell_type": "code",
      "metadata": {
        "colab": {
          "base_uri": "https://localhost:8080/"
        },
        "id": "FRr6NEQnXlhk",
        "outputId": "f1577288-36d3-412a-90d3-a0162cd4d6e2"
      },
      "source": [
        "list(map(lambda x : x**2, range(10)))"
      ],
      "execution_count": 143,
      "outputs": [
        {
          "output_type": "execute_result",
          "data": {
            "text/plain": [
              "[0, 1, 4, 9, 16, 25, 36, 49, 64, 81]"
            ]
          },
          "metadata": {},
          "execution_count": 143
        }
      ]
    },
    {
      "cell_type": "markdown",
      "metadata": {
        "id": "NCKSXYAT08XZ"
      },
      "source": [
        "Example"
      ]
    },
    {
      "cell_type": "code",
      "metadata": {
        "colab": {
          "base_uri": "https://localhost:8080/"
        },
        "id": "R6cYynhOaPgA",
        "outputId": "c44235c4-c313-4f44-8990-813646c05d36"
      },
      "source": [
        "list(map(lambda x : x**3, range(5)))"
      ],
      "execution_count": 144,
      "outputs": [
        {
          "output_type": "execute_result",
          "data": {
            "text/plain": [
              "[0, 1, 8, 27, 64]"
            ]
          },
          "metadata": {},
          "execution_count": 144
        }
      ]
    },
    {
      "cell_type": "markdown",
      "metadata": {
        "id": "-VTrWIPtazqk"
      },
      "source": [
        "**map()**\n",
        "can be applied to more than one list. The lists have to have the same length."
      ]
    },
    {
      "cell_type": "code",
      "metadata": {
        "colab": {
          "base_uri": "https://localhost:8080/"
        },
        "id": "EXPc5sIsa1YD",
        "outputId": "6dc9625a-de84-4259-8ba6-f349732c61a4"
      },
      "source": [
        "list(map(lambda x, y: x+y, [1,2,3,4,5], [5,4,3,2,1]))"
      ],
      "execution_count": 145,
      "outputs": [
        {
          "output_type": "execute_result",
          "data": {
            "text/plain": [
              "[6, 6, 6, 6, 6]"
            ]
          },
          "metadata": {},
          "execution_count": 145
        }
      ]
    },
    {
      "cell_type": "markdown",
      "metadata": {
        "id": "jXHQB5uT0-Xw"
      },
      "source": [
        "Example"
      ]
    },
    {
      "cell_type": "code",
      "metadata": {
        "colab": {
          "base_uri": "https://localhost:8080/"
        },
        "id": "G-rXPIPua7-x",
        "outputId": "e0befd53-5923-4dcf-9795-ce3aa37c81b7"
      },
      "source": [
        "list(map(lambda x, y: x*y, [2,3,4,6,12], [6,4,3,2,1]))"
      ],
      "execution_count": 146,
      "outputs": [
        {
          "output_type": "execute_result",
          "data": {
            "text/plain": [
              "[12, 12, 12, 12, 12]"
            ]
          },
          "metadata": {},
          "execution_count": 146
        }
      ]
    },
    {
      "cell_type": "markdown",
      "metadata": {
        "id": "5QxM1PtlbIU2"
      },
      "source": [
        "**sorted()**\n",
        " takes a list or set and returns a new sorted list:"
      ]
    },
    {
      "cell_type": "code",
      "metadata": {
        "colab": {
          "base_uri": "https://localhost:8080/"
        },
        "id": "s-efum_ybKOn",
        "outputId": "10dcac54-5047-4742-9426-8a6ceaa7fa67"
      },
      "source": [
        "sorted([5,2,3,4,1])"
      ],
      "execution_count": 147,
      "outputs": [
        {
          "output_type": "execute_result",
          "data": {
            "text/plain": [
              "[1, 2, 3, 4, 5]"
            ]
          },
          "metadata": {},
          "execution_count": 147
        }
      ]
    },
    {
      "cell_type": "markdown",
      "metadata": {
        "id": "DU7zMASX0_Nx"
      },
      "source": [
        "Example"
      ]
    },
    {
      "cell_type": "code",
      "metadata": {
        "colab": {
          "base_uri": "https://localhost:8080/"
        },
        "id": "M42qWkl_btNI",
        "outputId": "e309b56c-0c8e-444d-d541-8fb888668a8e"
      },
      "source": [
        "sorted([80,20,10,40,30,50,100,90])"
      ],
      "execution_count": 148,
      "outputs": [
        {
          "output_type": "execute_result",
          "data": {
            "text/plain": [
              "[10, 20, 30, 40, 50, 80, 90, 100]"
            ]
          },
          "metadata": {},
          "execution_count": 148
        }
      ]
    },
    {
      "cell_type": "markdown",
      "metadata": {
        "id": "B-nax2qMb2h6"
      },
      "source": [
        "We can add a \"key\" parameter to specify a function to be called on each list element prior to making comparisons. For example:"
      ]
    },
    {
      "cell_type": "code",
      "metadata": {
        "colab": {
          "base_uri": "https://localhost:8080/"
        },
        "id": "cM4-q49Eb3OE",
        "outputId": "268eefac-db5c-49ed-d922-abfc5dfac81f"
      },
      "source": [
        "price_list = [('AAPL', 144.09), ('GOOGL', 911.71), ('MSFT', 69), ('FB', 150), ('WMT', 75.32)]\n",
        "sorted(price_list, key = lambda x: x[1])"
      ],
      "execution_count": 149,
      "outputs": [
        {
          "output_type": "execute_result",
          "data": {
            "text/plain": [
              "[('MSFT', 69),\n",
              " ('WMT', 75.32),\n",
              " ('AAPL', 144.09),\n",
              " ('FB', 150),\n",
              " ('GOOGL', 911.71)]"
            ]
          },
          "metadata": {},
          "execution_count": 149
        }
      ]
    },
    {
      "cell_type": "markdown",
      "metadata": {
        "id": "Dx1HDqeB1BHo"
      },
      "source": [
        "Example"
      ]
    },
    {
      "cell_type": "code",
      "metadata": {
        "colab": {
          "base_uri": "https://localhost:8080/"
        },
        "id": "eCaJPqC_cSS-",
        "outputId": "de7f6799-bb0e-4a22-daf3-cf0ba767dce9"
      },
      "source": [
        "languages = [('R', 81.5), ('C++',87.5 ), ('C', 94.4), ('Java',96.3), ('Python',100.0 )]\n",
        "sorted(languages, key = lambda x: x[1])"
      ],
      "execution_count": 150,
      "outputs": [
        {
          "output_type": "execute_result",
          "data": {
            "text/plain": [
              "[('R', 81.5), ('C++', 87.5), ('C', 94.4), ('Java', 96.3), ('Python', 100.0)]"
            ]
          },
          "metadata": {},
          "execution_count": 150
        }
      ]
    },
    {
      "cell_type": "markdown",
      "metadata": {
        "id": "twrI_gvBdsTd"
      },
      "source": [
        "By default the values are sorted by ascending order. We can change it to descending by adding an optional parameter \"reverse'."
      ]
    },
    {
      "cell_type": "code",
      "metadata": {
        "colab": {
          "base_uri": "https://localhost:8080/"
        },
        "id": "zlO7pPCde_Bk",
        "outputId": "0feea62b-24db-4b1f-89ec-5c1921c90c4a"
      },
      "source": [
        "price_list = [('AAPL', 144.09), ('GOOGL', 911.71), ('MSFT', 69), ('FB', 150), ('WMT', 75.32)]\n",
        "sorted(price_list, key = lambda x: x[1], reverse = True)"
      ],
      "execution_count": 151,
      "outputs": [
        {
          "output_type": "execute_result",
          "data": {
            "text/plain": [
              "[('GOOGL', 911.71),\n",
              " ('FB', 150),\n",
              " ('AAPL', 144.09),\n",
              " ('WMT', 75.32),\n",
              " ('MSFT', 69)]"
            ]
          },
          "metadata": {},
          "execution_count": 151
        }
      ]
    },
    {
      "cell_type": "markdown",
      "metadata": {
        "id": "ee1u31vj1CVC"
      },
      "source": [
        "Example"
      ]
    },
    {
      "cell_type": "code",
      "metadata": {
        "colab": {
          "base_uri": "https://localhost:8080/"
        },
        "id": "NuYvsONWds4M",
        "outputId": "582d80f4-9c8a-4429-97ce-30a2d293d80e"
      },
      "source": [
        "otherLanguages = [('Python', 81.5), ('Java',87.5 ), ('C', 94.4), ('C++',96.3), ('R',100.0 )]\n",
        "sorted(otherLanguages, key = lambda x: x[1], reverse = True)"
      ],
      "execution_count": 152,
      "outputs": [
        {
          "output_type": "execute_result",
          "data": {
            "text/plain": [
              "[('R', 100.0), ('C++', 96.3), ('C', 94.4), ('Java', 87.5), ('Python', 81.5)]"
            ]
          },
          "metadata": {},
          "execution_count": 152
        }
      ]
    },
    {
      "cell_type": "markdown",
      "metadata": {
        "id": "NcWCLBQheML7"
      },
      "source": [
        "Lists also have a function list.sort(). This function takes the same \"key\" and \"reverse\" arguments as sorted(), but it doesn't return a new list."
      ]
    },
    {
      "cell_type": "code",
      "metadata": {
        "colab": {
          "base_uri": "https://localhost:8080/"
        },
        "id": "o4Y7uq7sev_r",
        "outputId": "67ca1944-925a-42f5-dd8d-5b3e6e98eda2"
      },
      "source": [
        "price_list = [('AAPL', 144.09), ('GOOGL', 911.71), ('MSFT', 69), ('FB', 150), ('WMT', 75.32)]\n",
        "price_list.sort(key = lambda x: x[1])\n",
        "print(price_list)"
      ],
      "execution_count": 153,
      "outputs": [
        {
          "output_type": "stream",
          "name": "stdout",
          "text": [
            "[('MSFT', 69), ('WMT', 75.32), ('AAPL', 144.09), ('FB', 150), ('GOOGL', 911.71)]\n"
          ]
        }
      ]
    },
    {
      "cell_type": "markdown",
      "metadata": {
        "id": "1cOTo5m61EaR"
      },
      "source": [
        "Example"
      ]
    },
    {
      "cell_type": "code",
      "metadata": {
        "colab": {
          "base_uri": "https://localhost:8080/"
        },
        "id": "wXdnBpZIfDHA",
        "outputId": "56312583-78d3-47f4-ad8c-e2608a121287"
      },
      "source": [
        "otherLanguages = [('Python', 81.5), ('Java',87.5 ), ('C', 94.4), ('C++',96.3), ('R',100.0 ), ('JavaScript',79.4 )]\n",
        "otherLanguages.sort(key = lambda x: x[1])\n",
        "print(otherLanguages)"
      ],
      "execution_count": 154,
      "outputs": [
        {
          "output_type": "stream",
          "name": "stdout",
          "text": [
            "[('JavaScript', 79.4), ('Python', 81.5), ('Java', 87.5), ('C', 94.4), ('C++', 96.3), ('R', 100.0)]\n"
          ]
        }
      ]
    },
    {
      "cell_type": "markdown",
      "metadata": {
        "id": "9FgmZvx6fbod"
      },
      "source": [
        "### Object-Oriented Programming "
      ]
    },
    {
      "cell_type": "markdown",
      "metadata": {
        "id": "tuWvCXxTfc6u"
      },
      "source": [
        "**Class**\n",
        "A class is a type of data, just like a string, float, or list. When we create an object of that data type, we call it an instance of a class."
      ]
    },
    {
      "cell_type": "code",
      "metadata": {
        "id": "3NAIVeY0fgiE"
      },
      "source": [
        "class Stock:\n",
        "    def __init__(self, ticker, open, close, volume):\n",
        "        self.ticker = ticker\n",
        "        self.open = open\n",
        "        self.close = close\n",
        "        self.volume = volume\n",
        "        self.rate_return = float(close)/open - 1\n",
        "\n",
        "    def update(self, open, close):\n",
        "        self.open = open\n",
        "        self.close = close\n",
        "        self.rate_return = float(self.close)/self.open - 1\n",
        "\n",
        "    def print_return(self):\n",
        "        print(self.rate_return)"
      ],
      "execution_count": 155,
      "outputs": []
    },
    {
      "cell_type": "markdown",
      "metadata": {
        "id": "fkgnt9tw1GRH"
      },
      "source": [
        "Example"
      ]
    },
    {
      "cell_type": "code",
      "metadata": {
        "id": "DfujDyfnhtFc"
      },
      "source": [
        "class Money:\n",
        "    def __init__(name, symbol, current, maximum, minimum):\n",
        "        name.current = current\n",
        "        name.symbol = symbol\n",
        "        name.maximum = maximum\n",
        "        name.minimum = minimum\n",
        "        name.rate_return = float(minimum)/maximum - 1\n",
        "\n",
        "    def update(name, current,minimum):\n",
        "        name.current = current\n",
        "        name.minimum = minimum\n",
        "        name.rate_return = float(name.current)/name.minimum - 1\n",
        "\n",
        "    def print_return(name):\n",
        "        print(name.rate_return)"
      ],
      "execution_count": 156,
      "outputs": []
    },
    {
      "cell_type": "markdown",
      "metadata": {
        "id": "GpGT_L1MgPR6"
      },
      "source": [
        "The \"Stock\" class has attributes \"ticker\", \"open\", \"close\", \"volume\" and \"rate_return\". Inside the class body, the first method is called __init__, which is a special method. When we create a new instance of the class, the __init__ method is immediately executed with all the parameters that we pass to the \"Stock\" object. The purpose of this method is to set up a new \"Stock\" object using data we have provided."
      ]
    },
    {
      "cell_type": "code",
      "metadata": {
        "id": "TYy_6kQdgQAT"
      },
      "source": [
        "apple  = Stock('AAPL', 143.69, 144.09, 20109375)\n",
        "google = Stock('GOOGL', 898.7, 911.7, 1561616)"
      ],
      "execution_count": 157,
      "outputs": []
    },
    {
      "cell_type": "markdown",
      "metadata": {
        "id": "4ApCm1Ni1Gzq"
      },
      "source": [
        "Example"
      ]
    },
    {
      "cell_type": "code",
      "metadata": {
        "id": "qeEisTxKhPPC"
      },
      "source": [
        "colombia  = Money('COP', 3763.33, 3800.33 , 3650.33)\n",
        "uruguay = Money('UYU', 43.70 , 45.70, 42.00)"
      ],
      "execution_count": 158,
      "outputs": []
    },
    {
      "cell_type": "markdown",
      "metadata": {
        "id": "AeJdzOqkgUJa"
      },
      "source": [
        "Stock objects also have two other methods: update() and print_return(). We can access the attribues of a Stock object and call its methods:"
      ]
    },
    {
      "cell_type": "code",
      "metadata": {
        "colab": {
          "base_uri": "https://localhost:8080/"
        },
        "id": "1V0MvxWBgUyE",
        "outputId": "16e1ede5-4e90-4ad3-91c3-48d5a8512b84"
      },
      "source": [
        "print(apple.ticker)\n",
        "google.print_return()\n",
        "google.update(912.8,913.4)\n",
        "google.print_return()\n"
      ],
      "execution_count": 159,
      "outputs": [
        {
          "output_type": "stream",
          "name": "stdout",
          "text": [
            "AAPL\n",
            "0.014465338822744034\n",
            "0.0006573181419806673\n"
          ]
        }
      ]
    },
    {
      "cell_type": "markdown",
      "metadata": {
        "id": "ZXZ1oBEP1JSG"
      },
      "source": [
        "Example"
      ]
    },
    {
      "cell_type": "code",
      "metadata": {
        "colab": {
          "base_uri": "https://localhost:8080/"
        },
        "id": "bxdioWTSji8y",
        "outputId": "d2ede37b-40a9-48fb-b766-6fe1e38ab958"
      },
      "source": [
        "print(colombia.symbol)\n",
        "colombia.print_return()\n",
        "colombia.update(3764, 3500)\n",
        "colombia.print_return()"
      ],
      "execution_count": 160,
      "outputs": [
        {
          "output_type": "stream",
          "name": "stdout",
          "text": [
            "COP\n",
            "-0.039470256530353964\n",
            "0.0754285714285714\n"
          ]
        }
      ]
    },
    {
      "cell_type": "markdown",
      "metadata": {
        "id": "yYzDacCRk9qx"
      },
      "source": [
        "By calling the update() function, we updated the open and close prices of a stock. Please note that when we use the attributes or call the methods inside a class, we need to specify them as self.attribute or self.method(), otherwise Python will deem them as global variables and thus raise an error."
      ]
    },
    {
      "cell_type": "code",
      "metadata": {
        "colab": {
          "base_uri": "https://localhost:8080/",
          "height": 34
        },
        "id": "ydyRGCgYlAby",
        "outputId": "1a8b0f4a-bc67-43ee-e3da-68c95c746466"
      },
      "source": [
        "apple.ceo = 'Tim Cook'\n",
        "apple.ceo"
      ],
      "execution_count": 161,
      "outputs": [
        {
          "output_type": "execute_result",
          "data": {
            "application/vnd.google.colaboratory.intrinsic+json": {
              "type": "string"
            },
            "text/plain": [
              "'Tim Cook'"
            ]
          },
          "metadata": {},
          "execution_count": 161
        }
      ]
    },
    {
      "cell_type": "markdown",
      "metadata": {
        "id": "CYX8txe91Kgl"
      },
      "source": [
        "Example"
      ]
    },
    {
      "cell_type": "code",
      "metadata": {
        "colab": {
          "base_uri": "https://localhost:8080/",
          "height": 34
        },
        "id": "-krJhQpGlFsY",
        "outputId": "69f39bd6-2d2d-4c6b-e337-f15f10413be9"
      },
      "source": [
        "colombia.info =\"Peso Colombiano\"\n",
        "colombia.info"
      ],
      "execution_count": 162,
      "outputs": [
        {
          "output_type": "execute_result",
          "data": {
            "application/vnd.google.colaboratory.intrinsic+json": {
              "type": "string"
            },
            "text/plain": [
              "'Peso Colombiano'"
            ]
          },
          "metadata": {},
          "execution_count": 162
        }
      ]
    },
    {
      "cell_type": "markdown",
      "metadata": {
        "id": "jn8d0ESLlQD2"
      },
      "source": [
        "We can check what names (i.e. attributes and methods) are defined on an object using the dir() function:"
      ]
    },
    {
      "cell_type": "code",
      "metadata": {
        "colab": {
          "base_uri": "https://localhost:8080/"
        },
        "id": "vu9SAmV6lRBt",
        "outputId": "32aa3415-0310-4b9b-8990-e3ee402e3ac8"
      },
      "source": [
        "dir(apple)"
      ],
      "execution_count": 163,
      "outputs": [
        {
          "output_type": "execute_result",
          "data": {
            "text/plain": [
              "['__class__',\n",
              " '__delattr__',\n",
              " '__dict__',\n",
              " '__dir__',\n",
              " '__doc__',\n",
              " '__eq__',\n",
              " '__format__',\n",
              " '__ge__',\n",
              " '__getattribute__',\n",
              " '__gt__',\n",
              " '__hash__',\n",
              " '__init__',\n",
              " '__init_subclass__',\n",
              " '__le__',\n",
              " '__lt__',\n",
              " '__module__',\n",
              " '__ne__',\n",
              " '__new__',\n",
              " '__reduce__',\n",
              " '__reduce_ex__',\n",
              " '__repr__',\n",
              " '__setattr__',\n",
              " '__sizeof__',\n",
              " '__str__',\n",
              " '__subclasshook__',\n",
              " '__weakref__',\n",
              " 'ceo',\n",
              " 'close',\n",
              " 'open',\n",
              " 'print_return',\n",
              " 'rate_return',\n",
              " 'ticker',\n",
              " 'update',\n",
              " 'volume']"
            ]
          },
          "metadata": {},
          "execution_count": 163
        }
      ]
    },
    {
      "cell_type": "markdown",
      "metadata": {
        "id": "vo0oEXdP1L7X"
      },
      "source": [
        "Example"
      ]
    },
    {
      "cell_type": "code",
      "metadata": {
        "colab": {
          "base_uri": "https://localhost:8080/"
        },
        "id": "ilZSS8khlf9D",
        "outputId": "03294bc3-3039-4872-e217-34bbcad7bf4b"
      },
      "source": [
        "dir(colombia)"
      ],
      "execution_count": 164,
      "outputs": [
        {
          "output_type": "execute_result",
          "data": {
            "text/plain": [
              "['__class__',\n",
              " '__delattr__',\n",
              " '__dict__',\n",
              " '__dir__',\n",
              " '__doc__',\n",
              " '__eq__',\n",
              " '__format__',\n",
              " '__ge__',\n",
              " '__getattribute__',\n",
              " '__gt__',\n",
              " '__hash__',\n",
              " '__init__',\n",
              " '__init_subclass__',\n",
              " '__le__',\n",
              " '__lt__',\n",
              " '__module__',\n",
              " '__ne__',\n",
              " '__new__',\n",
              " '__reduce__',\n",
              " '__reduce_ex__',\n",
              " '__repr__',\n",
              " '__setattr__',\n",
              " '__sizeof__',\n",
              " '__str__',\n",
              " '__subclasshook__',\n",
              " '__weakref__',\n",
              " 'current',\n",
              " 'info',\n",
              " 'maximum',\n",
              " 'minimum',\n",
              " 'print_return',\n",
              " 'rate_return',\n",
              " 'symbol',\n",
              " 'update']"
            ]
          },
          "metadata": {},
          "execution_count": 164
        }
      ]
    },
    {
      "cell_type": "markdown",
      "metadata": {
        "id": "Qere79w1lije"
      },
      "source": [
        "### Inheritance"
      ]
    },
    {
      "cell_type": "markdown",
      "metadata": {
        "id": "Cb4eaOk7lkd-"
      },
      "source": [
        "Inheritance is a way of arranging classes in a hierarchy from the most general to the most specific. A \"child\" class is a more specific type of a \"parent\" class because a child class will inherit all the attribues and methods of its parent. For example, we define a class named \"Child\" which inherits \"Stock\":"
      ]
    },
    {
      "cell_type": "markdown",
      "metadata": {
        "id": "PETBedJ3lz4F"
      },
      "source": [
        "Then we create an object:"
      ]
    },
    {
      "cell_type": "code",
      "metadata": {
        "id": "uXE-qkP9lmPD"
      },
      "source": [
        "class Child(Stock):\n",
        "    def __init__(self, name):\n",
        "        self.name = name"
      ],
      "execution_count": 165,
      "outputs": []
    },
    {
      "cell_type": "code",
      "metadata": {
        "colab": {
          "base_uri": "https://localhost:8080/"
        },
        "id": "4gQZcYaQngEA",
        "outputId": "d55617a5-bee0-4082-ad9a-966c6df1fc53"
      },
      "source": [
        "aa = Child('AA')\n",
        "print(aa.name)\n",
        "aa.update(100, 102)\n",
        "print(aa.open)\n",
        "print(aa.close)\n"
      ],
      "execution_count": 166,
      "outputs": [
        {
          "output_type": "stream",
          "name": "stdout",
          "text": [
            "AA\n",
            "100\n",
            "102\n"
          ]
        }
      ]
    },
    {
      "cell_type": "code",
      "metadata": {
        "colab": {
          "base_uri": "https://localhost:8080/"
        },
        "id": "hBJtOsAauBP4",
        "outputId": "dbf5747a-3979-4f8a-d929-7f5c15c00d1d"
      },
      "source": [
        "print(aa.print_return() )"
      ],
      "execution_count": 167,
      "outputs": [
        {
          "output_type": "stream",
          "name": "stdout",
          "text": [
            "0.020000000000000018\n",
            "None\n"
          ]
        }
      ]
    },
    {
      "cell_type": "markdown",
      "metadata": {
        "id": "2ib2NEi81Vka"
      },
      "source": [
        "Example"
      ]
    },
    {
      "cell_type": "code",
      "metadata": {
        "id": "fIgHU4A0loIB"
      },
      "source": [
        "class Child(Money):\n",
        "    def __init__(name, symbol):\n",
        "        name.symbol = symbol"
      ],
      "execution_count": 168,
      "outputs": []
    },
    {
      "cell_type": "code",
      "metadata": {
        "id": "0bklVqOF3Hrp",
        "colab": {
          "base_uri": "https://localhost:8080/"
        },
        "outputId": "9758b872-3faf-4247-c259-f81860514ce9"
      },
      "source": [
        "bb = Child('Example')\n",
        "print(bb.symbol)\n",
        "bb.update(3780, 3900)\n",
        "print(bb.current)\n",
        "print(bb.minimum)"
      ],
      "execution_count": 169,
      "outputs": [
        {
          "output_type": "stream",
          "name": "stdout",
          "text": [
            "Example\n",
            "3780\n",
            "3900\n"
          ]
        }
      ]
    },
    {
      "cell_type": "code",
      "metadata": {
        "colab": {
          "base_uri": "https://localhost:8080/"
        },
        "id": "Xu7eTr8a1Yrm",
        "outputId": "a902a6f5-b9dc-4b22-bb58-15f41b75f714"
      },
      "source": [
        "print(bb.print_return() )"
      ],
      "execution_count": 265,
      "outputs": [
        {
          "output_type": "stream",
          "name": "stdout",
          "text": [
            "-0.03076923076923077\n",
            "None\n"
          ]
        }
      ]
    },
    {
      "cell_type": "markdown",
      "metadata": {
        "id": "Zh6b6x8zGozG"
      },
      "source": [
        "# ***4. NumPy and Basic Pandas***"
      ]
    },
    {
      "cell_type": "markdown",
      "metadata": {
        "id": "L49a_FI370lX"
      },
      "source": [
        "### NumPy"
      ]
    },
    {
      "cell_type": "markdown",
      "metadata": {
        "id": "wZ1VC8QO75Fw"
      },
      "source": [
        "Python packages like NumPy and Pandas contain classes and methods which we can use by importing the package:"
      ]
    },
    {
      "cell_type": "code",
      "metadata": {
        "id": "Mac8z97q77ox"
      },
      "source": [
        "import numpy as np"
      ],
      "execution_count": 221,
      "outputs": []
    },
    {
      "cell_type": "markdown",
      "metadata": {
        "id": "_Ajx_Zm0788a"
      },
      "source": [
        "### Basic NumPy Arrays"
      ]
    },
    {
      "cell_type": "markdown",
      "metadata": {
        "id": "xQsVdLak7-JG"
      },
      "source": [
        "A NumPy array is a grid of values, all of the same type, and is indexed by a tuple of nonnegative integers. Here we make an array by passing a list of Apple stock prices:"
      ]
    },
    {
      "cell_type": "code",
      "metadata": {
        "colab": {
          "base_uri": "https://localhost:8080/"
        },
        "id": "ccrViD3d8AK2",
        "outputId": "d0e09195-9d26-420d-ef03-89e6fddad56d"
      },
      "source": [
        "price_list = [143.73, 145.83, 143.68, 144.02, 143.5, 142.62]\n",
        "price_array = np.array(price_list)\n",
        "print(price_array, type(price_array))"
      ],
      "execution_count": 222,
      "outputs": [
        {
          "output_type": "stream",
          "name": "stdout",
          "text": [
            "[143.73 145.83 143.68 144.02 143.5  142.62] <class 'numpy.ndarray'>\n"
          ]
        }
      ]
    },
    {
      "cell_type": "markdown",
      "metadata": {
        "id": "jGW4AKFl1nLx"
      },
      "source": [
        "Example"
      ]
    },
    {
      "cell_type": "code",
      "metadata": {
        "colab": {
          "base_uri": "https://localhost:8080/"
        },
        "id": "1iQKxv2V8EBt",
        "outputId": "5492e543-14a8-49da-b6cb-92e0f263ad65"
      },
      "source": [
        "newList = [2020, 2021, 2022, 2023]\n",
        "newArray = np.array(newList)\n",
        "print(newArray, type(newArray))"
      ],
      "execution_count": 223,
      "outputs": [
        {
          "output_type": "stream",
          "name": "stdout",
          "text": [
            "[2020 2021 2022 2023] <class 'numpy.ndarray'>\n"
          ]
        }
      ]
    },
    {
      "cell_type": "markdown",
      "metadata": {
        "id": "c8QgLtUKLac1"
      },
      "source": [
        "Notice that the type of array is \"ndarray\" which is a multi-dimensional array. If we pass np.array() a list of lists, it will create a 2-dimensional array."
      ]
    },
    {
      "cell_type": "code",
      "metadata": {
        "colab": {
          "base_uri": "https://localhost:8080/"
        },
        "id": "7ZWkRTt5OA8b",
        "outputId": "8acde859-f697-4ca2-daf7-6eeaff561268"
      },
      "source": [
        "Ar = np.array([[1,3], [2,4]])\n",
        "print(Ar, type(Ar))"
      ],
      "execution_count": 224,
      "outputs": [
        {
          "output_type": "stream",
          "name": "stdout",
          "text": [
            "[[1 3]\n",
            " [2 4]] <class 'numpy.ndarray'>\n"
          ]
        }
      ]
    },
    {
      "cell_type": "markdown",
      "metadata": {
        "id": "Sk2uHjq41ogi"
      },
      "source": [
        "Example"
      ]
    },
    {
      "cell_type": "code",
      "metadata": {
        "colab": {
          "base_uri": "https://localhost:8080/"
        },
        "id": "3NxH9kDsPuy6",
        "outputId": "53232bba-875e-4390-c561-0a297a9bff1e"
      },
      "source": [
        "newAr = np.array([[4,2], [2,0],[4,0]])\n",
        "print(newAr, type(newAr))"
      ],
      "execution_count": 225,
      "outputs": [
        {
          "output_type": "stream",
          "name": "stdout",
          "text": [
            "[[4 2]\n",
            " [2 0]\n",
            " [4 0]] <class 'numpy.ndarray'>\n"
          ]
        }
      ]
    },
    {
      "cell_type": "markdown",
      "metadata": {
        "id": "0hQJY_Wc5ww7"
      },
      "source": [
        "We get the dimensions of an ndarray using the .shape attribute:"
      ]
    },
    {
      "cell_type": "code",
      "metadata": {
        "colab": {
          "base_uri": "https://localhost:8080/"
        },
        "id": "sIgJD5c25yRb",
        "outputId": "f5a5f40c-cba6-4533-ea35-4caedbec08ec"
      },
      "source": [
        "print(Ar.shape)"
      ],
      "execution_count": 226,
      "outputs": [
        {
          "output_type": "stream",
          "name": "stdout",
          "text": [
            "(2, 2)\n"
          ]
        }
      ]
    },
    {
      "cell_type": "markdown",
      "metadata": {
        "id": "6zisUwJR1pl4"
      },
      "source": [
        "Example"
      ]
    },
    {
      "cell_type": "code",
      "metadata": {
        "colab": {
          "base_uri": "https://localhost:8080/"
        },
        "id": "h-BMYk9V59fS",
        "outputId": "14732f37-97b4-46fb-ee85-54bc1dcd2ad3"
      },
      "source": [
        "print(newAr.shape)"
      ],
      "execution_count": 227,
      "outputs": [
        {
          "output_type": "stream",
          "name": "stdout",
          "text": [
            "(3, 2)\n"
          ]
        }
      ]
    },
    {
      "cell_type": "markdown",
      "metadata": {
        "id": "dsPHrNe16HaS"
      },
      "source": [
        "If we create an 2-dimensional array (i.e. matrix), each row can be accessed by index:"
      ]
    },
    {
      "cell_type": "code",
      "metadata": {
        "colab": {
          "base_uri": "https://localhost:8080/"
        },
        "id": "21HFqhLk6IXG",
        "outputId": "a33c9eea-af7a-417c-dc34-e1f96007f97e"
      },
      "source": [
        "print(Ar[0])\n",
        "print(Ar[1])"
      ],
      "execution_count": 228,
      "outputs": [
        {
          "output_type": "stream",
          "name": "stdout",
          "text": [
            "[1 3]\n",
            "[2 4]\n"
          ]
        }
      ]
    },
    {
      "cell_type": "markdown",
      "metadata": {
        "id": "fbt9z1DK1rt5"
      },
      "source": [
        "Example"
      ]
    },
    {
      "cell_type": "code",
      "metadata": {
        "colab": {
          "base_uri": "https://localhost:8080/"
        },
        "id": "b7IdRIob8Aab",
        "outputId": "2027b995-7f1e-4049-e8f6-9ff74ae73e72"
      },
      "source": [
        "print(newAr[0])\n",
        "print(newAr[1])\n",
        "print(newAr[2])"
      ],
      "execution_count": 229,
      "outputs": [
        {
          "output_type": "stream",
          "name": "stdout",
          "text": [
            "[4 2]\n",
            "[2 0]\n",
            "[4 0]\n"
          ]
        }
      ]
    },
    {
      "cell_type": "markdown",
      "metadata": {
        "id": "3VOkY_uT8LR5"
      },
      "source": [
        "If we want to access the matrix by column instead:"
      ]
    },
    {
      "cell_type": "code",
      "metadata": {
        "colab": {
          "base_uri": "https://localhost:8080/"
        },
        "id": "CGRUcvuR8L4_",
        "outputId": "7f351b14-5abc-4cce-c152-51f631704644"
      },
      "source": [
        "print('First column:', Ar[:,0])\n",
        "print('Second column:', Ar[:,1])"
      ],
      "execution_count": 230,
      "outputs": [
        {
          "output_type": "stream",
          "name": "stdout",
          "text": [
            "First column: [1 2]\n",
            "Second column: [3 4]\n"
          ]
        }
      ]
    },
    {
      "cell_type": "markdown",
      "metadata": {
        "id": "GtTQxqov1shf"
      },
      "source": [
        "Example"
      ]
    },
    {
      "cell_type": "code",
      "metadata": {
        "colab": {
          "base_uri": "https://localhost:8080/"
        },
        "id": "ymvOza7C8UU3",
        "outputId": "a3767d8b-fd8b-4304-d78e-c0618c03b71a"
      },
      "source": [
        "print('First column:', newAr[:,0])\n",
        "print('Second column:', newAr[:,1])"
      ],
      "execution_count": 231,
      "outputs": [
        {
          "output_type": "stream",
          "name": "stdout",
          "text": [
            "First column: [4 2 4]\n",
            "Second column: [2 0 0]\n"
          ]
        }
      ]
    },
    {
      "cell_type": "markdown",
      "metadata": {
        "id": "nYkz_Iv58op_"
      },
      "source": [
        "### Array Functions"
      ]
    },
    {
      "cell_type": "markdown",
      "metadata": {
        "id": "F-6zq6bk8rS5"
      },
      "source": [
        "Some functions built in NumPy that allow us to perform calculations on arrays. For example, we can apply the natural logarithm to each element of an array:"
      ]
    },
    {
      "cell_type": "code",
      "metadata": {
        "colab": {
          "base_uri": "https://localhost:8080/"
        },
        "id": "mNHT9Vh_8tBj",
        "outputId": "85c3df73-63fd-4cb1-93c5-ddeb7b038133"
      },
      "source": [
        "np.log(price_array)"
      ],
      "execution_count": 232,
      "outputs": [
        {
          "output_type": "execute_result",
          "data": {
            "text/plain": [
              "array([4.96793654, 4.98244156, 4.9675886 , 4.96995218, 4.96633504,\n",
              "       4.96018375])"
            ]
          },
          "metadata": {},
          "execution_count": 232
        }
      ]
    },
    {
      "cell_type": "markdown",
      "metadata": {
        "id": "lkJk9QRZ1uzn"
      },
      "source": [
        "Example"
      ]
    },
    {
      "cell_type": "code",
      "metadata": {
        "colab": {
          "base_uri": "https://localhost:8080/"
        },
        "id": "SlkpLsfC8xKs",
        "outputId": "2a8d1b4e-701e-4f1e-f3d1-0afae9242312"
      },
      "source": [
        "np.log(newArray)"
      ],
      "execution_count": 233,
      "outputs": [
        {
          "output_type": "execute_result",
          "data": {
            "text/plain": [
              "array([7.61085279, 7.61134772, 7.6118424 , 7.61233684])"
            ]
          },
          "metadata": {},
          "execution_count": 233
        }
      ]
    },
    {
      "cell_type": "markdown",
      "metadata": {
        "id": "rqrwPCLS857R"
      },
      "source": [
        "Other functions return a single value:"
      ]
    },
    {
      "cell_type": "code",
      "metadata": {
        "colab": {
          "base_uri": "https://localhost:8080/"
        },
        "id": "UEf9bUBx87ZF",
        "outputId": "c78bbde6-93f5-4c98-cfa7-a7aef7957f45"
      },
      "source": [
        "print(np.mean(price_array))\n",
        "print(np.std(price_array))\n",
        "print(np.sum(price_array))\n",
        "print(np.max(price_array))"
      ],
      "execution_count": 234,
      "outputs": [
        {
          "output_type": "stream",
          "name": "stdout",
          "text": [
            "143.89666666666668\n",
            "0.9673790478515796\n",
            "863.38\n",
            "145.83\n"
          ]
        }
      ]
    },
    {
      "cell_type": "markdown",
      "metadata": {
        "id": "hMxx9ztL1wkm"
      },
      "source": [
        "Example"
      ]
    },
    {
      "cell_type": "code",
      "metadata": {
        "colab": {
          "base_uri": "https://localhost:8080/"
        },
        "id": "N2TypOJp9KDQ",
        "outputId": "a3283d35-8b75-4aa4-9b62-1343de2e9d00"
      },
      "source": [
        "print(np.mean(newArray))\n",
        "print(np.std(newArray))\n",
        "print(np.sum(newArray))\n",
        "print(np.max(newArray))"
      ],
      "execution_count": 235,
      "outputs": [
        {
          "output_type": "stream",
          "name": "stdout",
          "text": [
            "2021.5\n",
            "1.118033988749895\n",
            "8086\n",
            "2023\n"
          ]
        }
      ]
    },
    {
      "cell_type": "markdown",
      "metadata": {
        "id": "jXvnFdFa9SBT"
      },
      "source": [
        "### Pandas "
      ]
    },
    {
      "cell_type": "markdown",
      "metadata": {
        "id": "-m1r-4fF9VjM"
      },
      "source": [
        "Pandas is one of the most powerful tools for dealing with financial data. First we need to import Pandas:"
      ]
    },
    {
      "cell_type": "code",
      "metadata": {
        "id": "4q_a8HBZ9W6X"
      },
      "source": [
        "import pandas as pd"
      ],
      "execution_count": 236,
      "outputs": []
    },
    {
      "cell_type": "markdown",
      "metadata": {
        "id": "tQ7DJWJd9yV1"
      },
      "source": [
        "### Series"
      ]
    },
    {
      "cell_type": "markdown",
      "metadata": {
        "id": "Y2vob4PB90vG"
      },
      "source": [
        "Series is a one-dimensional labeled array capable of holding any data type (integers, strings, float, Python object, etc.)"
      ]
    },
    {
      "cell_type": "code",
      "metadata": {
        "colab": {
          "base_uri": "https://localhost:8080/"
        },
        "id": "25FRoUIj93lb",
        "outputId": "3ac85f61-5066-43be-b040-41258fc48901"
      },
      "source": [
        "price = [143.73, 145.83, 143.68, 144.02, 143.5, 142.62]\n",
        "s = pd.Series(price)\n",
        "print(s)"
      ],
      "execution_count": 237,
      "outputs": [
        {
          "output_type": "stream",
          "name": "stdout",
          "text": [
            "0    143.73\n",
            "1    145.83\n",
            "2    143.68\n",
            "3    144.02\n",
            "4    143.50\n",
            "5    142.62\n",
            "dtype: float64\n"
          ]
        }
      ]
    },
    {
      "cell_type": "markdown",
      "metadata": {
        "id": "7xyMmxPE1zT3"
      },
      "source": [
        "Example"
      ]
    },
    {
      "cell_type": "code",
      "metadata": {
        "colab": {
          "base_uri": "https://localhost:8080/"
        },
        "id": "r5acoZiF-WNY",
        "outputId": "dc8266c1-116d-44eb-b789-985e4713b60d"
      },
      "source": [
        "years = [2010, 2011, 2012, 2013, 2014, 2015]\n",
        "h = pd.Series(years)\n",
        "print(h)"
      ],
      "execution_count": 238,
      "outputs": [
        {
          "output_type": "stream",
          "name": "stdout",
          "text": [
            "0    2010\n",
            "1    2011\n",
            "2    2012\n",
            "3    2013\n",
            "4    2014\n",
            "5    2015\n",
            "dtype: int64\n"
          ]
        }
      ]
    },
    {
      "cell_type": "markdown",
      "metadata": {
        "id": "TgGo7o6D-US4"
      },
      "source": [
        "We can customize the indices of a new Series:"
      ]
    },
    {
      "cell_type": "code",
      "metadata": {
        "colab": {
          "base_uri": "https://localhost:8080/"
        },
        "id": "dcQ1jqbU-UwK",
        "outputId": "b2dfcfa7-aef6-4ed7-8ba7-f3bda42b0f6e"
      },
      "source": [
        "s = pd.Series(price, index = ['a', 'b', 'c', 'd', 'e', 'f'])\n",
        "print(s)"
      ],
      "execution_count": 239,
      "outputs": [
        {
          "output_type": "stream",
          "name": "stdout",
          "text": [
            "a    143.73\n",
            "b    145.83\n",
            "c    143.68\n",
            "d    144.02\n",
            "e    143.50\n",
            "f    142.62\n",
            "dtype: float64\n"
          ]
        }
      ]
    },
    {
      "cell_type": "markdown",
      "metadata": {
        "id": "zUHmKCDa10yP"
      },
      "source": [
        "Example"
      ]
    },
    {
      "cell_type": "code",
      "metadata": {
        "colab": {
          "base_uri": "https://localhost:8080/"
        },
        "id": "ayXMKJlJAVTb",
        "outputId": "be84db48-68e1-4dd8-ab1d-18c551ef0ffb"
      },
      "source": [
        "h = pd.Series(years, index = ['a', 'b', 'c', 'd', 'e', 'f'])\n",
        "print(h)"
      ],
      "execution_count": 240,
      "outputs": [
        {
          "output_type": "stream",
          "name": "stdout",
          "text": [
            "a    2010\n",
            "b    2011\n",
            "c    2012\n",
            "d    2013\n",
            "e    2014\n",
            "f    2015\n",
            "dtype: int64\n"
          ]
        }
      ]
    },
    {
      "cell_type": "markdown",
      "metadata": {
        "id": "k80_FKINAf0O"
      },
      "source": [
        "Or we can change the indices of an existing Series:"
      ]
    },
    {
      "cell_type": "code",
      "metadata": {
        "colab": {
          "base_uri": "https://localhost:8080/"
        },
        "id": "mybNvQCVAibX",
        "outputId": "ba926255-d68d-4cff-fc1a-3b25eee0d745"
      },
      "source": [
        "s.index = [6,5,4,3,2,1]\n",
        "print(s)"
      ],
      "execution_count": 241,
      "outputs": [
        {
          "output_type": "stream",
          "name": "stdout",
          "text": [
            "6    143.73\n",
            "5    145.83\n",
            "4    143.68\n",
            "3    144.02\n",
            "2    143.50\n",
            "1    142.62\n",
            "dtype: float64\n"
          ]
        }
      ]
    },
    {
      "cell_type": "markdown",
      "metadata": {
        "id": "Yg1wavCW12I3"
      },
      "source": [
        "Example"
      ]
    },
    {
      "cell_type": "code",
      "metadata": {
        "colab": {
          "base_uri": "https://localhost:8080/"
        },
        "id": "E5GuGOnXAmHw",
        "outputId": "ff43fbde-baf0-4af3-a27c-574c6f4b5709"
      },
      "source": [
        "h.index = [6,5,4,3,2,1]\n",
        "print(h)"
      ],
      "execution_count": 242,
      "outputs": [
        {
          "output_type": "stream",
          "name": "stdout",
          "text": [
            "6    2010\n",
            "5    2011\n",
            "4    2012\n",
            "3    2013\n",
            "2    2014\n",
            "1    2015\n",
            "dtype: int64\n"
          ]
        }
      ]
    },
    {
      "cell_type": "markdown",
      "metadata": {
        "id": "fjnNQ7ZMBSz4"
      },
      "source": [
        "Series is like a list since it can be sliced by index:"
      ]
    },
    {
      "cell_type": "code",
      "metadata": {
        "colab": {
          "base_uri": "https://localhost:8080/"
        },
        "id": "EhFo3fxzBTp3",
        "outputId": "20abd66f-a04c-46aa-e6fc-ed5ed4cfabac"
      },
      "source": [
        "print(s[1:])\n",
        "print(s[:-2])"
      ],
      "execution_count": 243,
      "outputs": [
        {
          "output_type": "stream",
          "name": "stdout",
          "text": [
            "5    145.83\n",
            "4    143.68\n",
            "3    144.02\n",
            "2    143.50\n",
            "1    142.62\n",
            "dtype: float64\n",
            "6    143.73\n",
            "5    145.83\n",
            "4    143.68\n",
            "3    144.02\n",
            "dtype: float64\n"
          ]
        }
      ]
    },
    {
      "cell_type": "markdown",
      "metadata": {
        "id": "e1yI4jqx172u"
      },
      "source": [
        "Example"
      ]
    },
    {
      "cell_type": "code",
      "metadata": {
        "colab": {
          "base_uri": "https://localhost:8080/"
        },
        "id": "ECWtSZ6_BeFn",
        "outputId": "2ae80986-1575-47f0-be01-4aa7b8e964a3"
      },
      "source": [
        "print(h[4:])\n",
        "print(h[:-1])"
      ],
      "execution_count": 244,
      "outputs": [
        {
          "output_type": "stream",
          "name": "stdout",
          "text": [
            "2    2014\n",
            "1    2015\n",
            "dtype: int64\n",
            "6    2010\n",
            "5    2011\n",
            "4    2012\n",
            "3    2013\n",
            "2    2014\n",
            "dtype: int64\n"
          ]
        }
      ]
    },
    {
      "cell_type": "markdown",
      "metadata": {
        "id": "kJy6_UuTCMXH"
      },
      "source": [
        "Series is also like a dictionary whose values can be set or fetched by index label:"
      ]
    },
    {
      "cell_type": "code",
      "metadata": {
        "colab": {
          "base_uri": "https://localhost:8080/"
        },
        "id": "8xLKRpZaCNtU",
        "outputId": "1ba8c64b-6ab8-4aee-e9f7-048fc8e540fe"
      },
      "source": [
        "print(s[4])\n",
        "s[4] = 0\n",
        "print(s)"
      ],
      "execution_count": 245,
      "outputs": [
        {
          "output_type": "stream",
          "name": "stdout",
          "text": [
            "143.68\n",
            "6    143.73\n",
            "5    145.83\n",
            "4      0.00\n",
            "3    144.02\n",
            "2    143.50\n",
            "1    142.62\n",
            "dtype: float64\n"
          ]
        }
      ]
    },
    {
      "cell_type": "markdown",
      "metadata": {
        "id": "4lSe2QO919Au"
      },
      "source": [
        "Example"
      ]
    },
    {
      "cell_type": "code",
      "metadata": {
        "colab": {
          "base_uri": "https://localhost:8080/"
        },
        "id": "qaghZl23Crg3",
        "outputId": "7aab5636-22af-4533-c74d-aba2246f7cce"
      },
      "source": [
        "i= 5\n",
        "print(i,':', h[5])\n",
        "h[i] = 0\n",
        "print(h)"
      ],
      "execution_count": 246,
      "outputs": [
        {
          "output_type": "stream",
          "name": "stdout",
          "text": [
            "5 : 2011\n",
            "6    2010\n",
            "5       0\n",
            "4    2012\n",
            "3    2013\n",
            "2    2014\n",
            "1    2015\n",
            "dtype: int64\n"
          ]
        }
      ]
    },
    {
      "cell_type": "markdown",
      "metadata": {
        "id": "V4dMQYdWDwLq"
      },
      "source": [
        "Series can also have a name attribute, which will be used when we make up a Pandas DataFrame using several series."
      ]
    },
    {
      "cell_type": "code",
      "metadata": {
        "colab": {
          "base_uri": "https://localhost:8080/"
        },
        "id": "GIAlwRP4DyXl",
        "outputId": "db447d6b-ec99-482d-f8c4-adac41dc0c0c"
      },
      "source": [
        "s = pd.Series(price, name = 'Apple Prices')\n",
        "print(s)\n",
        "print(s.name)"
      ],
      "execution_count": 247,
      "outputs": [
        {
          "output_type": "stream",
          "name": "stdout",
          "text": [
            "0    143.73\n",
            "1    145.83\n",
            "2    143.68\n",
            "3    144.02\n",
            "4    143.50\n",
            "5    142.62\n",
            "Name: Apple Prices, dtype: float64\n",
            "Apple Prices\n"
          ]
        }
      ]
    },
    {
      "cell_type": "markdown",
      "metadata": {
        "id": "V5xsfP8D2AM1"
      },
      "source": [
        "Example"
      ]
    },
    {
      "cell_type": "code",
      "metadata": {
        "colab": {
          "base_uri": "https://localhost:8080/"
        },
        "id": "vkUqrtUED3_M",
        "outputId": "24e5778d-cbc3-4800-ba8c-df6e29df0580"
      },
      "source": [
        "h = pd.Series(years, name = '_Years_')\n",
        "print(h)\n",
        "print(h.name)"
      ],
      "execution_count": 248,
      "outputs": [
        {
          "output_type": "stream",
          "name": "stdout",
          "text": [
            "0    2010\n",
            "1    2011\n",
            "2    2012\n",
            "3    2013\n",
            "4    2014\n",
            "5    2015\n",
            "Name: _Years_, dtype: int64\n",
            "_Years_\n"
          ]
        }
      ]
    },
    {
      "cell_type": "markdown",
      "metadata": {
        "id": "EvZtFIqCFFmo"
      },
      "source": [
        "We can get the statistical summaries of a Series:"
      ]
    },
    {
      "cell_type": "code",
      "metadata": {
        "colab": {
          "base_uri": "https://localhost:8080/"
        },
        "id": "Qddl7O7yFGns",
        "outputId": "f777a6a9-f976-4627-c353-7c41352edde7"
      },
      "source": [
        "print(s.describe())"
      ],
      "execution_count": 249,
      "outputs": [
        {
          "output_type": "stream",
          "name": "stdout",
          "text": [
            "count      6.000000\n",
            "mean     143.896667\n",
            "std        1.059711\n",
            "min      142.620000\n",
            "25%      143.545000\n",
            "50%      143.705000\n",
            "75%      143.947500\n",
            "max      145.830000\n",
            "Name: Apple Prices, dtype: float64\n"
          ]
        }
      ]
    },
    {
      "cell_type": "markdown",
      "metadata": {
        "id": "exfsabTm2BNJ"
      },
      "source": [
        "Example"
      ]
    },
    {
      "cell_type": "code",
      "metadata": {
        "colab": {
          "base_uri": "https://localhost:8080/"
        },
        "id": "p2guB9yDFtk0",
        "outputId": "04cf2f07-5cb5-426f-fab1-e00ebab02939"
      },
      "source": [
        "print(h.describe())"
      ],
      "execution_count": 250,
      "outputs": [
        {
          "output_type": "stream",
          "name": "stdout",
          "text": [
            "count       6.000000\n",
            "mean     2012.500000\n",
            "std         1.870829\n",
            "min      2010.000000\n",
            "25%      2011.250000\n",
            "50%      2012.500000\n",
            "75%      2013.750000\n",
            "max      2015.000000\n",
            "Name: _Years_, dtype: float64\n"
          ]
        }
      ]
    },
    {
      "cell_type": "markdown",
      "metadata": {
        "id": "S7fX5ce8F5_n"
      },
      "source": [
        "### Time Index"
      ]
    },
    {
      "cell_type": "markdown",
      "metadata": {
        "id": "iReFN_eyF7N0"
      },
      "source": [
        "Pandas has a built-in function specifically for creating date indices: pd.date_range(). We use it to create a new index for our Series:"
      ]
    },
    {
      "cell_type": "code",
      "metadata": {
        "colab": {
          "base_uri": "https://localhost:8080/"
        },
        "id": "pO3GOC_OF9Bi",
        "outputId": "16b2a1cd-42b2-4040-afef-755b077545ae"
      },
      "source": [
        "time_index = pd.date_range('2017-01-01', periods = len(s), freq = 'D')\n",
        "print(time_index)\n",
        "s.index = time_index\n",
        "print(s)"
      ],
      "execution_count": 251,
      "outputs": [
        {
          "output_type": "stream",
          "name": "stdout",
          "text": [
            "DatetimeIndex(['2017-01-01', '2017-01-02', '2017-01-03', '2017-01-04',\n",
            "               '2017-01-05', '2017-01-06'],\n",
            "              dtype='datetime64[ns]', freq='D')\n",
            "2017-01-01    143.73\n",
            "2017-01-02    145.83\n",
            "2017-01-03    143.68\n",
            "2017-01-04    144.02\n",
            "2017-01-05    143.50\n",
            "2017-01-06    142.62\n",
            "Freq: D, Name: Apple Prices, dtype: float64\n"
          ]
        }
      ]
    },
    {
      "cell_type": "markdown",
      "metadata": {
        "id": "ijc4Zd_n2Ceg"
      },
      "source": [
        "Example"
      ]
    },
    {
      "cell_type": "code",
      "metadata": {
        "colab": {
          "base_uri": "https://localhost:8080/"
        },
        "id": "ddvP4KmsGo00",
        "outputId": "e2e21cac-3460-4e89-c51e-87431b1c31c3"
      },
      "source": [
        "time_index = pd.date_range('2021-10-15', periods = len(h), freq = 'H')\n",
        "print(time_index)\n",
        "h.index = time_index\n",
        "print(h)"
      ],
      "execution_count": 252,
      "outputs": [
        {
          "output_type": "stream",
          "name": "stdout",
          "text": [
            "DatetimeIndex(['2021-10-15 00:00:00', '2021-10-15 01:00:00',\n",
            "               '2021-10-15 02:00:00', '2021-10-15 03:00:00',\n",
            "               '2021-10-15 04:00:00', '2021-10-15 05:00:00'],\n",
            "              dtype='datetime64[ns]', freq='H')\n",
            "2021-10-15 00:00:00    2010\n",
            "2021-10-15 01:00:00    2011\n",
            "2021-10-15 02:00:00    2012\n",
            "2021-10-15 03:00:00    2013\n",
            "2021-10-15 04:00:00    2014\n",
            "2021-10-15 05:00:00    2015\n",
            "Freq: H, Name: _Years_, dtype: int64\n"
          ]
        }
      ]
    },
    {
      "cell_type": "markdown",
      "metadata": {
        "id": "oyTH76dkG8sf"
      },
      "source": [
        "**iloc[]** \n",
        "is necessary when the index of a series are integers, take our previous defined series as example:"
      ]
    },
    {
      "cell_type": "code",
      "metadata": {
        "colab": {
          "base_uri": "https://localhost:8080/"
        },
        "id": "LxMOZTN_HAf0",
        "outputId": "800904a4-20ba-49cf-e599-186539c47727"
      },
      "source": [
        "s.index = [6,5,4,3,2,1]\n",
        "print(s)\n",
        "print(s[1])"
      ],
      "execution_count": 253,
      "outputs": [
        {
          "output_type": "stream",
          "name": "stdout",
          "text": [
            "6    143.73\n",
            "5    145.83\n",
            "4    143.68\n",
            "3    144.02\n",
            "2    143.50\n",
            "1    142.62\n",
            "Name: Apple Prices, dtype: float64\n",
            "142.62\n"
          ]
        }
      ]
    },
    {
      "cell_type": "markdown",
      "metadata": {
        "id": "PcPPpVIm2E83"
      },
      "source": [
        "Example"
      ]
    },
    {
      "cell_type": "code",
      "metadata": {
        "colab": {
          "base_uri": "https://localhost:8080/"
        },
        "id": "YgktG-tpJOzm",
        "outputId": "71855047-b68f-4fc3-cbd9-5cdfa44a19f5"
      },
      "source": [
        "h.index = [6,5,4,3,2,1]\n",
        "print(h)\n",
        "print(h[6])"
      ],
      "execution_count": 254,
      "outputs": [
        {
          "output_type": "stream",
          "name": "stdout",
          "text": [
            "6    2010\n",
            "5    2011\n",
            "4    2012\n",
            "3    2013\n",
            "2    2014\n",
            "1    2015\n",
            "Name: _Years_, dtype: int64\n",
            "2010\n"
          ]
        }
      ]
    },
    {
      "cell_type": "markdown",
      "metadata": {
        "id": "FDhQaAPeJZHK"
      },
      "source": [
        "If we intended to take the second element of the series, we would make a mistake here, because the index are integers. In order to access to the element we want, we use iloc[] here:"
      ]
    },
    {
      "cell_type": "code",
      "metadata": {
        "colab": {
          "base_uri": "https://localhost:8080/"
        },
        "id": "6237mV4nJbcu",
        "outputId": "79795bc4-d80d-48b2-9163-80060805ac37"
      },
      "source": [
        "print(s.iloc[1])"
      ],
      "execution_count": 255,
      "outputs": [
        {
          "output_type": "stream",
          "name": "stdout",
          "text": [
            "145.83\n"
          ]
        }
      ]
    },
    {
      "cell_type": "markdown",
      "metadata": {
        "id": "KR8MmjqE2GGS"
      },
      "source": [
        "Example"
      ]
    },
    {
      "cell_type": "code",
      "metadata": {
        "colab": {
          "base_uri": "https://localhost:8080/"
        },
        "id": "pHLcvLU5JenX",
        "outputId": "88400dd7-ad83-4c15-d2ed-df714e5d1431"
      },
      "source": [
        "print(h.iloc[3])"
      ],
      "execution_count": 256,
      "outputs": [
        {
          "output_type": "stream",
          "name": "stdout",
          "text": [
            "2013\n"
          ]
        }
      ]
    },
    {
      "cell_type": "markdown",
      "metadata": {
        "id": "CYJQWza1JkZC"
      },
      "source": [
        "While working with time series data, we often use time as the index. Pandas provides us with various methods to access the data by time index."
      ]
    },
    {
      "cell_type": "code",
      "metadata": {
        "colab": {
          "base_uri": "https://localhost:8080/"
        },
        "id": "6rbtCoUvzbMO",
        "outputId": "f9e0b21d-2bd8-4c74-811c-8b68825fe7d5"
      },
      "source": [
        "#Se duplico este bloque de codigo para mostrar a detalle la conexion con el siguiente bloque\n",
        "time_index = pd.date_range('2017-01-01', periods = len(s), freq = 'D')\n",
        "print(time_index)\n",
        "s.index = time_index\n",
        "print(s)"
      ],
      "execution_count": 257,
      "outputs": [
        {
          "output_type": "stream",
          "name": "stdout",
          "text": [
            "DatetimeIndex(['2017-01-01', '2017-01-02', '2017-01-03', '2017-01-04',\n",
            "               '2017-01-05', '2017-01-06'],\n",
            "              dtype='datetime64[ns]', freq='D')\n",
            "2017-01-01    143.73\n",
            "2017-01-02    145.83\n",
            "2017-01-03    143.68\n",
            "2017-01-04    144.02\n",
            "2017-01-05    143.50\n",
            "2017-01-06    142.62\n",
            "Freq: D, Name: Apple Prices, dtype: float64\n"
          ]
        }
      ]
    },
    {
      "cell_type": "code",
      "metadata": {
        "colab": {
          "base_uri": "https://localhost:8080/"
        },
        "id": "NehWo3JvJjMH",
        "outputId": "6e1bb5c4-a5cf-4120-c280-139922e47011"
      },
      "source": [
        "s.index = time_index\n",
        "print(s['2017-01-03'])"
      ],
      "execution_count": 258,
      "outputs": [
        {
          "output_type": "stream",
          "name": "stdout",
          "text": [
            "143.68\n"
          ]
        }
      ]
    },
    {
      "cell_type": "markdown",
      "metadata": {
        "id": "MM0QittT2jw_"
      },
      "source": [
        "Example"
      ]
    },
    {
      "cell_type": "code",
      "metadata": {
        "colab": {
          "base_uri": "https://localhost:8080/"
        },
        "id": "tYbpiJ2FzfxV",
        "outputId": "3cb5b958-bf1f-4699-f02b-ac2f43c8880d"
      },
      "source": [
        "time_index = pd.date_range('2021-10-15', periods = len(h), freq = 'H')\n",
        "print(time_index)\n",
        "h.index = time_index\n",
        "print(h)"
      ],
      "execution_count": 259,
      "outputs": [
        {
          "output_type": "stream",
          "name": "stdout",
          "text": [
            "DatetimeIndex(['2021-10-15 00:00:00', '2021-10-15 01:00:00',\n",
            "               '2021-10-15 02:00:00', '2021-10-15 03:00:00',\n",
            "               '2021-10-15 04:00:00', '2021-10-15 05:00:00'],\n",
            "              dtype='datetime64[ns]', freq='H')\n",
            "2021-10-15 00:00:00    2010\n",
            "2021-10-15 01:00:00    2011\n",
            "2021-10-15 02:00:00    2012\n",
            "2021-10-15 03:00:00    2013\n",
            "2021-10-15 04:00:00    2014\n",
            "2021-10-15 05:00:00    2015\n",
            "Freq: H, Name: _Years_, dtype: int64\n"
          ]
        }
      ]
    },
    {
      "cell_type": "code",
      "metadata": {
        "id": "GjdovuGtJ1oD",
        "colab": {
          "base_uri": "https://localhost:8080/"
        },
        "outputId": "51476050-3029-4874-cede-7e16ae2f436e"
      },
      "source": [
        "h.index = time_index\n",
        "print(h['2021-10-15 04:00:00'])"
      ],
      "execution_count": 260,
      "outputs": [
        {
          "output_type": "stream",
          "name": "stdout",
          "text": [
            "2014\n"
          ]
        }
      ]
    },
    {
      "cell_type": "markdown",
      "metadata": {
        "id": "ZnEtFNLxKz91"
      },
      "source": [
        "We can even access to a range of dates:"
      ]
    },
    {
      "cell_type": "code",
      "metadata": {
        "id": "yKI5jYrOK2av",
        "colab": {
          "base_uri": "https://localhost:8080/"
        },
        "outputId": "67a221c9-3c05-4686-e0e2-f084108ab635"
      },
      "source": [
        "print(s['2017-01-02':'2017-01-05'])"
      ],
      "execution_count": 261,
      "outputs": [
        {
          "output_type": "stream",
          "name": "stdout",
          "text": [
            "2017-01-02    145.83\n",
            "2017-01-03    143.68\n",
            "2017-01-04    144.02\n",
            "2017-01-05    143.50\n",
            "Freq: D, Name: Apple Prices, dtype: float64\n"
          ]
        }
      ]
    },
    {
      "cell_type": "markdown",
      "metadata": {
        "id": "EiX63O0m2n5T"
      },
      "source": [
        "Example"
      ]
    },
    {
      "cell_type": "code",
      "metadata": {
        "id": "GFc-cTd4K7oE",
        "colab": {
          "base_uri": "https://localhost:8080/"
        },
        "outputId": "159349d0-f68d-4c54-8032-1ba8160e6933"
      },
      "source": [
        "print(h['2021-10-15 00:00:00':'2021-10-15 04:00:00'])"
      ],
      "execution_count": 262,
      "outputs": [
        {
          "output_type": "stream",
          "name": "stdout",
          "text": [
            "2021-10-15 00:00:00    2010\n",
            "2021-10-15 01:00:00    2011\n",
            "2021-10-15 02:00:00    2012\n",
            "2021-10-15 03:00:00    2013\n",
            "2021-10-15 04:00:00    2014\n",
            "Freq: H, Name: _Years_, dtype: int64\n"
          ]
        }
      ]
    },
    {
      "cell_type": "markdown",
      "metadata": {
        "id": "vnT2Ka52Ljn7"
      },
      "source": [
        "Series[] provides us a very flexible way to index data. We can add any condition in the square brackets:"
      ]
    },
    {
      "cell_type": "code",
      "metadata": {
        "id": "RFaFloPELklD",
        "colab": {
          "base_uri": "https://localhost:8080/"
        },
        "outputId": "72c0d514-c880-4273-818d-ae9d1711dd0c"
      },
      "source": [
        "print(s[s < np.mean(s)])\n",
        "print(s[(s > np.mean(s)) & (s < np.mean(s) + 1.64*np.std(s))])"
      ],
      "execution_count": 263,
      "outputs": [
        {
          "output_type": "stream",
          "name": "stdout",
          "text": [
            "2017-01-01    143.73\n",
            "2017-01-03    143.68\n",
            "2017-01-05    143.50\n",
            "2017-01-06    142.62\n",
            "Name: Apple Prices, dtype: float64\n",
            "2017-01-04    144.02\n",
            "Freq: D, Name: Apple Prices, dtype: float64\n"
          ]
        }
      ]
    },
    {
      "cell_type": "markdown",
      "metadata": {
        "id": "gg_mNPip2qDI"
      },
      "source": [
        "Example"
      ]
    },
    {
      "cell_type": "code",
      "metadata": {
        "id": "ipVpY1gQLq43",
        "colab": {
          "base_uri": "https://localhost:8080/"
        },
        "outputId": "3fee9bfc-d10e-4daf-f467-4149e7b486df"
      },
      "source": [
        "print(h[h < np.mean(h)])\n",
        "print(h[(h > np.mean(h)) & (h < np.mean(h) + 2*np.std(h))])"
      ],
      "execution_count": 264,
      "outputs": [
        {
          "output_type": "stream",
          "name": "stdout",
          "text": [
            "2021-10-15 00:00:00    2010\n",
            "2021-10-15 01:00:00    2011\n",
            "2021-10-15 02:00:00    2012\n",
            "Freq: H, Name: _Years_, dtype: int64\n",
            "2021-10-15 03:00:00    2013\n",
            "2021-10-15 04:00:00    2014\n",
            "2021-10-15 05:00:00    2015\n",
            "Freq: H, Name: _Years_, dtype: int64\n"
          ]
        }
      ]
    }
  ]
}