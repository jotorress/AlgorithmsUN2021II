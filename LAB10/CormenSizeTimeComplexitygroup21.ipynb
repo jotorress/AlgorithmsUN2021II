{
  "nbformat": 4,
  "nbformat_minor": 0,
  "metadata": {
    "colab": {
      "name": "CormenSizeTimeComplexitygroup21.ipynb",
      "provenance": [],
      "collapsed_sections": []
    },
    "kernelspec": {
      "name": "python3",
      "display_name": "Python 3"
    },
    "language_info": {
      "name": "python"
    }
  },
  "cells": [
    {
      "cell_type": "markdown",
      "metadata": {
        "id": "yCCsCOW2OQbQ"
      },
      "source": [
        "# 1.(10  nanoseconds by instruction)\n",
        "\n",
        "Asuuming that you can execute a 100 million instructions $100 \\times 10^6$ every second, i.e. each instrcution takes 10 nanoseconds, 10 $\\eta s  = 10^{-8} s $. If you have algorithms take $\\bf{ Time\\ Complexity}$ steps to solve a poblem of size $n$ as specified in column one. What is the size of the largest porblem that you can solve in the time specified in row one?\n",
        "$$\n",
        "\\begin{array}{|c|c|c|c|c|c|c|c|} \n",
        " \\hline\n",
        " \\bf{ Time\\ Complexity} & Second  & Minute  & Hour & Day & Year & Century & Millennium  \\\\ \n",
        "  \\hline\\\\ \n",
        "\\lg(n) &    2^{10^8}&2^{60x10^8} &  2^{3.6x10^{11}} & 2^{8.64x10^{12}}&2^{3.1536x10^{15}}  &2^{3.1536x10^{17}}   & 2^{3.1536x10^{18}} \\\\ \n",
        "   \\hline\\\\ \n",
        "\\lg^2(n) & 2^{ 10^{4}}   & 2^{77460}  &2^{600000}   &  2^{2939388} &  2^{56156923} &2^{561569230}   & 2^{1775837830} \\\\ \n",
        "   \\hline\\\\ \n",
        "\\sqrt{n} &  10^{16}  & 3.6x10^9  & 1.296x10^{23} & 7.46496x10^{25} &9.94519296x10^{30}  &  9.94519296x10^{34}& 9.94519296x10^{36} \\\\ \n",
        " \\hline\n",
        " n &  10^8  & 6x10^9  & 3.6x10^{11} & 8.64x10^{12} & 3.1536x10^{15} &  3.1536x10^{17} &   3.1536x10^{18}\\\\ \n",
        " \\hline\n",
        " n\\lg(n) &  13993959  & 679341067  & 34175958352 & 728355251051 &219882720678734  & 19362721831197155 & 182693239577738607 \\\\ \n",
        " \\hline\n",
        " n^2 &  10000  & 77459  &600000  &2939387  &  56156922& 561569229 & 1775837830  \\\\ \n",
        " \\hline\n",
        "  n^3 & 464   &  1817 &  7113& 20519 & 146645 & 680668 & 1466455 \\\\ \n",
        " \\hline\n",
        "  n^4 &  100  & 278  & 774 & 1714 & 7493 &23697  &42140  \\\\ \n",
        " \\hline\n",
        "  2^n & 8   & 9  & 11 & 12 & 15 &17& 18 \\\\ \n",
        " \\hline\n",
        " n! &  11  & 12 &14 &15  &17  &19& 20  \\\\ \n",
        " \\hline\n",
        " n^n & 8   & 9  &11  & 11 &13  &14  & 15 \\\\ \n",
        " \\hline\n",
        "\\end{array}\n",
        "$$"
      ]
    },
    {
      "cell_type": "markdown",
      "source": [
        "$\\bf{ Time\\ Complexity\\ \\lg(n) }$\n",
        "\n",
        "$Second$\n",
        "$$ \\lg(n) \\times 10^{-8}\\ s\\le 1\\ s$$ \n",
        "$$ \\lg(n) \\le 1 * 10^{8}$$ \n",
        "$$ 2^{\\lg(n)} \\le 2^{10^{8}}$$ \n",
        "$$ n \\le 2^{10^{8}}$$ \n",
        "\n",
        "$Minute$\n",
        "$$ \\lg(n) \\times 10^{-8}\\ s\\le 60\\ s$$ \n",
        "$$ \\lg(n) \\le 60 * 10^{8}$$ \n",
        "$$ 2^{\\lg(n)} \\le 2^{10^{8}*60}$$ \n",
        "$$ n \\le 2^{10^{8}*60}$$ \n",
        "\n",
        "$Hour$\n",
        "$$ \\lg(n) \\times 10^{-8}\\ s\\le 3600\\ s$$ \n",
        "$$ \\lg(n) \\le 3600 * 10^{8}$$ \n",
        "$$ 2^{\\lg(n)} \\le 2^{10^{8}*3600}$$ \n",
        "$$ n \\le 2^{10^{8}*3600}$$ \n",
        "\n",
        "$Day$\n",
        "$$ \\lg(n) \\times 10^{-8}\\ s\\le 86400\\ s$$ \n",
        "$$ \\lg(n) \\le 86400 * 10^{8}$$ \n",
        "$$ 2^{\\lg(n)} \\le 2^{10^{8}*86400}$$ \n",
        "$$ n \\le 2^{10^{8}*86400}$$ \n",
        "\n",
        "$Year$\n",
        "$$ \\lg(n) \\times 10^{-8}\\ s\\le 31536000\\ s$$ \n",
        "$$ \\lg(n) \\le 31536000 * 10^{8}$$ \n",
        "$$ 2^{\\lg(n)} \\le 2^{10^{8}*31536000}$$ \n",
        "$$ n \\le 2^{10^{8}*31536000}$$ \n",
        "\n",
        "$Century$\n",
        "$$ \\lg(n) \\times 10^{-8}\\ s\\le 3153600000\\ s$$ \n",
        "$$ \\lg(n) \\le 3153600000 * 10^{8}$$ \n",
        "$$ 2^{\\lg(n)} \\le 2^{10^{8}*3153600000}$$ \n",
        "$$ n \\le 2^{10^{8}*3153600000}$$ \n",
        "\n",
        "$Millennium$\n",
        "$$ \\lg(n) \\times 10^{-8}\\ s\\le 31536000000\\ s$$ \n",
        "$$ \\lg(n) \\le 31536000000 * 10^{8}$$ \n",
        "$$ 2^{\\lg(n)} \\le 2^{10^{8}*31536000000}$$ \n",
        "$$ n \\le 2^{10^{8}*31536000000}$$\n",
        "\n",
        "\n",
        "\\\\\n",
        "$\\bf{ Time\\ Complexity\\ \\lg^2(n) }$\n",
        "\n",
        "$Second$\n",
        "$$ \\lg^2(n) \\times 10^{-8}\\ s\\le 1\\ s$$ \n",
        "$$ \\lg^2(n) \\le 1 * 10^{8}$$ \n",
        "$$ \\lg2(n) \\le 1 * 10^{4}$$ \n",
        "$$ 2^{\\lg(n)} \\le 2^{10^{4}}$$ \n",
        "$$ n \\le 2^{10^{4}}$$ \n",
        "\n",
        "$Minute$\n",
        "$$ \\lg^2(n) \\times 10^{-8}\\ s\\le 60\\ s$$ \n",
        "$$ \\lg^2(n) \\le 60 * 10^{8}$$ \n",
        "$$ \\lg2(n) \\le \\sqrt{60} * 10^{4}$$ \n",
        "$$ 2^{\\lg(n)} \\le 2^{10^{4}*\\sqrt{60}}$$ \n",
        "$$ n \\le 2^{10^{4}*\\sqrt{60}}$$ \n",
        "\n",
        "$Hour$\n",
        "$$ \\lg^2(n) \\times 10^{-8}\\ s\\le 3600\\ s$$ \n",
        "$$ \\lg^2(n) \\le 3600 * 10^{8}$$ \n",
        "$$ \\lg2(n) \\le \\sqrt{3600} * 10^{4}$$ \n",
        "$$ 2^{\\lg(n)} \\le 2^{10^{4}*\\sqrt{3600}}$$ \n",
        "$$ n \\le 2^{10^{4}*60}$$ \n",
        "\n",
        "$Day$\n",
        "$$ \\lg^2(n) \\times 10^{-8}\\ s\\le 86400\\ s$$ \n",
        "$$ \\lg^2(n) \\le 86400 * 10^{8}$$ \n",
        "$$ \\lg2(n) \\le \\sqrt{86400} * 10^{4}$$ \n",
        "$$ 2^{\\lg(n)} \\le 2^{10^{4}*\\sqrt{86400}}$$ \n",
        "$$ n \\le 2^{10^{4}*\\sqrt{86400}}$$\n",
        "\n",
        "$Year$\n",
        "$$ \\lg^2(n) \\times 10^{-8}\\ s\\le 31536000\\ s$$ \n",
        "$$ \\lg^2(n) \\le 31536000 * 10^{8}$$ \n",
        "$$ \\lg2(n) \\le \\sqrt{31536000} * 10^{4}$$ \n",
        "$$ 2^{\\lg(n)} \\le 2^{10^{4}*\\sqrt{31536000}}$$ \n",
        "$$ n \\le 2^{10^{4}*\\sqrt{31536000}}$$\n",
        "\n",
        "$Century$\n",
        "$$ \\lg^2(n) \\times 10^{-8}\\ s\\le 3153600000\\ s$$ \n",
        "$$ \\lg^2(n) \\le 3153600000 * 10^{8}$$ \n",
        "$$ \\lg2(n) \\le \\sqrt{3153600000} * 10^{4}$$ \n",
        "$$ 2^{\\lg(n)} \\le 2^{10^{4}*\\sqrt{3153600000}}$$ \n",
        "$$ n \\le 2^{10^{4}*\\sqrt{3153600000}}$$\n",
        "\n",
        "$Millennium$\n",
        "$$ \\lg^2(n) \\times 10^{-8}\\ s\\le 31536000000\\ s$$ \n",
        "$$ \\lg^2(n) \\le 31536000000 * 10^{8}$$ \n",
        "$$ \\lg2(n) \\le \\sqrt{31536000000} * 10^{4}$$ \n",
        "$$ 2^{\\lg(n)} \\le 2^{10^{4}*\\sqrt{31536000000}}$$ \n",
        "$$ n \\le 2^{10^{4}*\\sqrt{31536000000}}$$\n",
        "\n"
      ],
      "metadata": {
        "id": "sAjcOqxJe8y6"
      }
    },
    {
      "cell_type": "code",
      "source": [
        "import math\n",
        "print(\"Second 2^{\",round(math.sqrt(10**8)),\"}\")\n",
        "print(\"Minute 2^{\",round(math.sqrt(60*10**8)),\"}\")\n",
        "print(\"Hour 2^{\",round(math.sqrt(60*60*10**8)),\"}\")\n",
        "print(\"Day 2^{\",round(math.sqrt(24*60*60*10**8)),\"}\")\n",
        "print(\"Year 2^{\",round(math.sqrt(365*24*60*60*10**8)),\"}\")\n",
        "print(\"Century 2^{\",round(math.sqrt(100*365*24*60*60*10**8)),\"}\")\n",
        "print(\"Mileniun 2^{\",round(math.sqrt(1000*100*365*24*60*60*10**8)),\"}\")"
      ],
      "metadata": {
        "colab": {
          "base_uri": "https://localhost:8080/"
        },
        "id": "EEi3OFPP2KBB",
        "outputId": "efb57a45-4dca-4062-be6a-7591e7b01c5c"
      },
      "execution_count": 5,
      "outputs": [
        {
          "output_type": "stream",
          "name": "stdout",
          "text": [
            "Second 2^{ 10000 }\n",
            "Minute 2^{ 77460 }\n",
            "Hour 2^{ 600000 }\n",
            "Day 2^{ 2939388 }\n",
            "Year 2^{ 56156923 }\n",
            "Century 2^{ 561569230 }\n",
            "Mileniun 2^{ 17758378304 }\n"
          ]
        }
      ]
    },
    {
      "cell_type": "markdown",
      "source": [
        "\\\\\n",
        "$\\bf{ Time\\ Complexity\\ \\sqrt{n} }$\n",
        "\n",
        "$Second$\n",
        "$$ \\sqrt{n} \\times 10^{-8}\\ s\\le 1\\ s$$ \n",
        "$$ \\sqrt{n} \\le 1 * 10^{8}$$ \n",
        "$$ (\\sqrt{n})^2 \\le (1 * 10^{8})^2$$ \n",
        "$$ n \\le 1 * 10^{16}$$\n",
        "$$ n \\le {10^{16}}$$ \n",
        "\n",
        "\n",
        "\n",
        "\n",
        "\n",
        "\n",
        "\n",
        "\n",
        "\n",
        "\n",
        "\n",
        "\n",
        "\n",
        "\n",
        "\n",
        "\n",
        "\n",
        "\n",
        "$Minute$\n",
        "$$ \\sqrt{n} \\times 10^{-8}\\ s\\le 60\\ s$$ \n",
        "$$ \\sqrt{n} \\le 60 * 10^{8}$$ \n",
        "$$ (\\sqrt{n})^2 \\le (60 * 10^{8})^2$$ \n",
        "$$ n \\le 3600 * 10^{16}$$\n",
        "\n",
        "$Hour$\n",
        "$$ \\sqrt{n} \\times 10^{-8}\\ s\\le 3600\\ s$$ \n",
        "$$ \\sqrt{n} \\le 3600 * 10^{8}$$ \n",
        "$$ (\\sqrt{n})^2 \\le (3600 * 10^{8})^2$$ \n",
        "$$ n \\le 3600^2 * 10^{16}$$\n",
        "\n",
        "$Day$\n",
        "$$ \\sqrt{n} \\times 10^{-8}\\ s\\le 86400\\ s$$ \n",
        "$$ \\sqrt{n} \\le 86400 * 10^{8}$$ \n",
        "$$ (\\sqrt{n})^2 \\le (86400 * 10^{8})^2$$ \n",
        "$$ n \\le 86400^2 * 10^{16}$$\n",
        "\n",
        "$Year$\n",
        "$$ \\sqrt{n} \\times 10^{-8}\\ s\\le 31536000\\ s$$ \n",
        "$$ \\sqrt{n} \\le 31536000 * 10^{8}$$ \n",
        "$$ (\\sqrt{n})^2 \\le (31536000 * 10^{8})^2$$ \n",
        "$$ n \\le 31536000^2 * 10^{16}$$\n",
        "\n",
        "$Century$\n",
        "$$ \\sqrt{n} \\times 10^{-8}\\ s\\le 3153600000\\ s$$ \n",
        "$$ \\sqrt{n} \\le 3153600000 * 10^{8}$$ \n",
        "$$ (\\sqrt{n})^2 \\le (3153600000 * 10^{8})^2$$ \n",
        "$$ n \\le 3153600000^2 * 10^{16}$$\n",
        "\n",
        "$Millennium$\n",
        "$$ \\sqrt{n} \\times 10^{-8}\\ s\\le 3153600000\\ s$$ \n",
        "$$ \\sqrt{n} \\le 3153600000 * 10^{8}$$ \n",
        "$$ (\\sqrt{n})^2 \\le (3153600000 * 10^{8})^2$$ \n",
        "$$ n \\le 3153600000^2 * 10^{16}$$\n",
        "\n"
      ],
      "metadata": {
        "id": "FbVcZ4wP2LWw"
      }
    },
    {
      "cell_type": "code",
      "source": [
        "import math\n",
        "print(\"Second \", \"{:.8E}\".format(math.pow(10**8,2)))\n",
        "print(\"Minute  \",\"{:.8E}\".format(math.pow(60*10**8,2)))\n",
        "print(\"Hour \",\"{:.8E}\".format(math.pow(60*60*10**8,2)))\n",
        "print(\"Day \",\"{:.8E}\".format(math.pow(24*60*60*10**8,2)))\n",
        "print(\"Year \",\"{:.8E}\".format(math.pow(365*24*60*60*10**8,2)))\n",
        "print(\"Century \",\"{:.8E}\".format(math.pow(100*365*24*60*60*10**8,2)))\n",
        "print(\"Mileniun  \",\"{:.8E}\".format(math.pow(1000*100*365*24*60*60*10**8,2)))"
      ],
      "metadata": {
        "colab": {
          "base_uri": "https://localhost:8080/"
        },
        "id": "Q9BSe8R84hc-",
        "outputId": "b9105a80-ddcb-4857-ffa3-c61152ababe3"
      },
      "execution_count": 8,
      "outputs": [
        {
          "output_type": "stream",
          "name": "stdout",
          "text": [
            "Second  1.00000000E+16\n",
            "Minute   3.60000000E+19\n",
            "Hour  1.29600000E+23\n",
            "Day  7.46496000E+25\n",
            "Year  9.94519296E+30\n",
            "Century  9.94519296E+34\n",
            "Mileniun   9.94519296E+08\n"
          ]
        }
      ]
    },
    {
      "cell_type": "markdown",
      "source": [
        "\\\\\n",
        "$\\bf{ Time\\ Complexity\\ n }$\n",
        "\n",
        "\n",
        "\n",
        "\n",
        "\n",
        "\n",
        "$Second$\n",
        "$$ n \\times 10^{-8}\\ s\\le 1\\ s$$ \n",
        "$$ n \\le 1 * 10^{8}$$ \n",
        "\n",
        "$Minute$\n",
        "$$ n \\times 10^{-8}\\ s\\le 60\\ s$$ \n",
        "$$ n \\le 60 * 10^{8}$$ \n",
        "\n",
        "$Hour$\n",
        "$$ n \\times 10^{-8}\\ s\\le 3600\\ s$$ \n",
        "$$ n \\le 3600 * 10^{8}$$ \n",
        "\n",
        "$Day$\n",
        "$$ n \\times 10^{-8}\\ s\\le 86400\\ s$$ \n",
        "$$ n \\le 86400 * 10^{8}$$ \n",
        "\n",
        "$Year$\n",
        "$$ n \\times 10^{-8}\\ s\\le 31536000\\ s$$ \n",
        "$$ n \\le 31536000 * 10^{8}$$\n",
        "\n",
        "$Century$\n",
        "$$ n \\times 10^{-8}\\ s\\le 3153600000\\ s$$ \n",
        "$$ n \\le 3153600000 * 10^{8}$$\n",
        "\n",
        "$Millennium$\n",
        "$$ n \\times 10^{-8}\\ s\\le 31536000000\\ s$$ \n",
        "$$ n \\le 31536000000 * 10^{8}$$\n",
        "\n",
        "\n"
      ],
      "metadata": {
        "id": "F_zR1OvV4c6r"
      }
    },
    {
      "cell_type": "code",
      "source": [
        "import math\n",
        "print(\"Second \", \"{:.8E}\".format(10**8))\n",
        "print(\"Minute  \",\"{:.8E}\".format(60*10**8))\n",
        "print(\"Hour \",\"{:.8E}\".format(60*60*10**8))\n",
        "print(\"Day \",\"{:.8E}\".format(24*60*60*10**8))\n",
        "print(\"Year \",\"{:.8E}\".format(365*24*60*60*10**8))\n",
        "print(\"Century \",\"{:.8E}\".format(100*365*24*60*60*10**8))\n",
        "print(\"Mileniun  \",\"{:.8E}\".format(1000*100*365*24*60*60*10**8))"
      ],
      "metadata": {
        "colab": {
          "base_uri": "https://localhost:8080/"
        },
        "id": "qT9STnuQ5zlG",
        "outputId": "63e8b1af-0611-481d-b58a-826ea535d8ae"
      },
      "execution_count": 9,
      "outputs": [
        {
          "output_type": "stream",
          "name": "stdout",
          "text": [
            "Second  1.00000000E+08\n",
            "Minute   6.00000000E+09\n",
            "Hour  3.60000000E+11\n",
            "Day  8.64000000E+12\n",
            "Year  3.15360000E+15\n",
            "Century  3.15360000E+17\n",
            "Mileniun   3.15360000E+20\n"
          ]
        }
      ]
    },
    {
      "cell_type": "markdown",
      "source": [
        "\\\\\n",
        "$\\bf{ Time\\ Complexity\\ n \\cdot log(n) }$\n",
        "\n",
        "\n",
        "$Second$\n",
        "$$ n \\cdot log(n) \\times 10^{-8}\\ s\\le 1\\ s$$ \n",
        "$$ n \\cdot log(n) \\le 1 * 10^{8}$$ \n",
        "$$ n  \\le 13993959$$ \n",
        "\n",
        "$Minute$\n",
        "$$ n \\cdot log(n) \\times 10^{-8}\\ s\\le 60\\ s$$ \n",
        "$$ n \\cdot log(n) \\le 60 * 10^{8}$$ \n",
        "$$ n  \\le 679341067$$  \n",
        "\n",
        "$Hour$\n",
        "$$ n \\cdot log(n) \\times 10^{-8}\\ s\\le 3600\\ s$$ \n",
        "$$ n \\cdot log(n) \\le 3600 * 10^{8}$$ \n",
        "$$ n  \\le 34175958352$$ \n",
        "\n",
        "$Day$\n",
        "$$ n \\cdot log(n) \\times 10^{-8}\\ s\\le 86400\\ s$$ \n",
        "$$ n \\cdot log(n) \\le 86400 * 10^{8}$$ \n",
        "$$ n  \\le 728355251051$$  \n",
        "\n",
        "$Year$\n",
        "$$ n \\cdot log(n) \\times 10^{-8}\\ s\\le 31536000\\ s$$ \n",
        "$$ n \\cdot log(n) \\le 31536000 * 10^{8}$$ \n",
        "$$ n  \\le 219882720678734$$ \n",
        "\n",
        "$Century$\n",
        "$$ n \\cdot log(n) \\times 10^{-8}\\ s\\le 3153600000\\ s$$ \n",
        "$$ n \\cdot log(n) \\le 3153600000 * 10^{8}$$ \n",
        "$$ n  \\le 19362721831197155$$ \n",
        "\n",
        "$Millennium$\n",
        "$$ n \\cdot log(n) \\times 10^{-8}\\ s\\le 31536000000\\ s$$ \n",
        "$$ n \\cdot log(n) \\le 31536000000 * 10^{8}$$ \n",
        "$$ n  \\le 182693239577738607$$ \n",
        "\n"
      ],
      "metadata": {
        "id": "rdZ8ZtBQ5z8B"
      }
    },
    {
      "cell_type": "code",
      "source": [
        "import math\n",
        "def f(n):\n",
        "  return n*math.log2(n)\n",
        "\n",
        "\n",
        "def find(f,v):\n",
        "  l = 1\n",
        "  r = v\n",
        "  while True:\n",
        "    m = int((l+r)/2)\n",
        "    if ((f(m+1) > v) and (f(m) <= v) ) or (l == m) or  (r == m):\n",
        "      return int(m)   \n",
        "    elif f(m) < v:\n",
        "      l = m\n",
        "    else: \n",
        "      r = m\n",
        "\n",
        "print(\"Second \", find(f,10**8),\" = \", \"{:.8E}\".format(find(f,10**8 )))\n",
        "print(\"Minute  \",find(f,60*10**8),\" = \", \"{:.8E}\".format(find(f,60*10**8 )))\n",
        "print(\"Hour \",find(f,60*60*10**8),\" = \", \"{:.8E}\".format(find(f,60*60*10**8 )))\n",
        "print(\"Day \",find(f,24*60*60*10**8 ),\" = \", \"{:.8E}\".format(find(f,24*60*60*10**8 )) )\n",
        "print(\"Year \",find(f,365*24*60*60*10**8 ),\" = \", \"{:.8E}\".format(find(f,365*24*60*60*10**8 )) )\n",
        "print(\"Century \",find(f,100*365*24*60*60*10**8 ),\" = \", \"{:.8E}\".format(find(f,100*365*24*60*60*10**8 )) )\n",
        "print(\"Mileniun \",find(f,1000*100*365*24*60*60*10**8 ),\" = \", \"{:.8E}\".format(find(f,1000*100*365*24*60*60*10**8 )) )"
      ],
      "metadata": {
        "colab": {
          "base_uri": "https://localhost:8080/"
        },
        "id": "6fxZH3F66IIs",
        "outputId": "83a30abd-8131-4021-d21e-ccb757cd4dc7"
      },
      "execution_count": 11,
      "outputs": [
        {
          "output_type": "stream",
          "name": "stdout",
          "text": [
            "Second  4523071  =  4.52307100E+06\n",
            "Minute   216677120  =  2.16677120E+08\n",
            "Hour  10800938300  =  1.08009383E+10\n",
            "Day  228957337705  =  2.28957338E+11\n",
            "Year  68610956750570  =  6.86109568E+13\n",
            "Century  6016277763015247  =  6.01627776E+15\n",
            "Mileniun  5075142713362522112  =  5.07514271E+18\n"
          ]
        }
      ]
    },
    {
      "cell_type": "markdown",
      "source": [
        "\\\\\n",
        "$\\bf{ Time\\ Complexity\\ n^2 }$\n",
        "\n",
        "$Second$\n",
        "$$  n^2 \\times 10^{-8}\\ s\\le 1\\ s$$ \n",
        "$$  n^2 \\le  10^{8}$$ \n",
        "$$ \\sqrt{n^2} \\le \\sqrt{10^{8}}$$ \n",
        "$$ n \\le 10^4 $$ \n",
        "\n",
        "\n",
        "\n",
        "\n",
        "$Minute$\n",
        "$$  n^2 \\times 10^{-8}\\ s\\le 60\\ s$$ \n",
        "$$  n^2 \\le  60\\cdot10^{8}$$ \n",
        "$$ \\sqrt{n^2} \\le \\sqrt{10^{8}}\\cdot\\sqrt{60}$$ \n",
        "$$ n \\le 10^4\\cdot\\sqrt{60} $$ \n",
        "$$ n \\le 77459 $$ \n",
        "\n",
        "\n",
        "$Hour$\n",
        "$$  n^2 \\times 10^{-8}\\ s\\le 3600\\ s$$ \n",
        "$$  n^2 \\le  3600\\cdot10^{8}$$ \n",
        "$$ \\sqrt{n^2} \\le \\sqrt{10^{8}}\\cdot\\sqrt{3600}$$ \n",
        "$$ n \\le 10^4\\cdot60 $$ \n",
        "$$ n \\le 600000 $$ \n",
        "\n",
        "$Day$\n",
        "$$  n^2 \\times 10^{-8}\\ s\\le 86400\\ s$$ \n",
        "$$  n^2 \\le  86400\\cdot10^{8}$$ \n",
        "$$ \\sqrt{n^2} \\le \\sqrt{10^{8}}\\cdot\\sqrt{86400}$$ \n",
        "$$ n \\le 10^4\\cdot\\sqrt{86400} $$ \n",
        "$$ n \\le 2939387 $$ \n",
        "\n",
        "$Year$\n",
        "$$  n^2 \\times 10^{-8}\\ s\\le 31536000\\ s$$ \n",
        "$$  n^2 \\le  31536000\\cdot10^{8}$$ \n",
        "$$ \\sqrt{n^2} \\le \\sqrt{10^{8}}\\cdot\\sqrt{31536000}$$ \n",
        "$$ n \\le 10^4\\cdot\\sqrt{31536000} $$ \n",
        "$$ n \\le 56156922 $$ \n",
        "\n",
        "$Century$\n",
        "$$  n^2 \\times 10^{-8}\\ s\\le 3153600000\\ s$$ \n",
        "$$  n^2 \\le  3153600000\\cdot10^{8}$$ \n",
        "$$ \\sqrt{n^2} \\le \\sqrt{10^{8}}\\cdot\\sqrt{3153600000}$$ \n",
        "$$ n \\le 10^4\\cdot\\sqrt{3153600000} $$ \n",
        "$$ n \\le 561569229 $$  \n",
        "\n",
        "$Millennium$\n",
        "$$  n^2 \\times 10^{-8}\\ s\\le 31536000000\\ s$$ \n",
        "$$  n^2 \\le  31536000000\\cdot10^{8}$$ \n",
        "$$ \\sqrt{n^2} \\le \\sqrt{10^{8}}\\cdot\\sqrt{31536000000}$$ \n",
        "$$ n \\le 10^4\\cdot\\sqrt{31536000000} $$ \n",
        "$$ n \\le 1775837830 $$ \n",
        "\n"
      ],
      "metadata": {
        "id": "-VC6KQuF6JF8"
      }
    },
    {
      "cell_type": "code",
      "source": [
        "import math\n",
        "print(\"Second \",round(math.sqrt(10**8 )))\n",
        "print(\"Minute  \",round(math.sqrt(60*10**8 )))\n",
        "print(\"Hour \",round(math.sqrt(60*60*10**8 )))\n",
        "print(\"Day \",round(math.sqrt(24*60*60*10**8 )))\n",
        "print(\"Year \",round(math.sqrt(365*24*60*60*10**8 )))\n",
        "print(\"Century \",round(math.sqrt(100*365*24*60*60*10**8 )))\n",
        "print(\"Mileniun \",round(math.sqrt(1000*100*365*24*60*60*10**8 )))"
      ],
      "metadata": {
        "colab": {
          "base_uri": "https://localhost:8080/"
        },
        "id": "ennr0ARc7GDL",
        "outputId": "1c206704-8a08-41f3-898a-e2c0a8e8bc97"
      },
      "execution_count": 12,
      "outputs": [
        {
          "output_type": "stream",
          "name": "stdout",
          "text": [
            "Second  10000\n",
            "Minute   77460\n",
            "Hour  600000\n",
            "Day  2939388\n",
            "Year  56156923\n",
            "Century  561569230\n",
            "Mileniun  17758378304\n"
          ]
        }
      ]
    },
    {
      "cell_type": "markdown",
      "source": [
        "\\\\\n",
        "$\\bf{ Time\\ Complexity\\ n^3 }$\n",
        "\n",
        "$Second$\n",
        "$$  n^3 \\times 10^{-8}\\ s\\le 1\\ s$$ \n",
        "$$  n^3 \\le  10^{8}$$ \n",
        "$$ \\sqrt[3]{n^3} \\le \\sqrt[3]{10^{8}}$$ \n",
        "$$ n \\le \\sqrt[3]{10^{8}} $$ \n",
        "$$ n \\le 464 $$ \n",
        "\n",
        "\n",
        "\n",
        "\n",
        "$Minute$\n",
        "$$  n^3 \\times 10^{-8}\\ s\\le 60\\ s$$ \n",
        "$$  n^3 \\le  60\\cdot10^{8}$$ \n",
        "$$ \\sqrt[3]{n^3} \\le \\sqrt[3]{10^{8}\\cdot60}$$ \n",
        "$$ n \\le 1817 $$ \n",
        "\n",
        "\n",
        "$Hour$\n",
        "$$  n^3 \\times 10^{-8}\\ s\\le 3600\\ s$$ \n",
        "$$  n^3 \\le 3600\\cdot10^{8}$$ \n",
        "$$ \\sqrt[3]{n^3} \\le \\sqrt[3]{10^{8}\\cdot3600}$$ \n",
        "$$ n \\le 7113 $$\n",
        "\n",
        "$Day$\n",
        "$$  n^3 \\times 10^{-8}\\ s\\le 86400\\ s$$ \n",
        "$$  n^3 \\le 86400\\cdot10^{8}$$ \n",
        "$$ \\sqrt[3]{n^3} \\le \\sqrt[3]{10^{8}\\cdot86400}$$ \n",
        "$$ n \\le 20519 $$\n",
        "\n",
        "$Year$\n",
        "$$  n^3 \\times 10^{-8}\\ s\\le 31536000\\ s$$ \n",
        "$$  n^3 \\le 31536000\\cdot10^{8}$$ \n",
        "$$ \\sqrt[3]{n^3} \\le \\sqrt[3]{10^{8}\\cdot31536000}$$ \n",
        "$$ n \\le 146645 $$\n",
        "\n",
        "$Century$\n",
        "$$  n^3 \\times 10^{-8}\\ s\\le 3153600000\\ s$$ \n",
        "$$  n^3 \\le 3153600000\\cdot10^{8}$$ \n",
        "$$ \\sqrt[3]{n^3} \\le \\sqrt[3]{10^{8}\\cdot3153600000}$$ \n",
        "$$ n \\le 680668 $$\n",
        "\n",
        "$Millennium$\n",
        "$$  n^3 \\times 10^{-8}\\ s\\le 31536000000\\ s$$ \n",
        "$$  n^3 \\le 31536000000\\cdot10^{8}$$ \n",
        "$$ \\sqrt[3]{n^3} \\le \\sqrt[3]{10^{8}\\cdot31536000000}$$ \n",
        "$$ n \\le 1466455 $$\n",
        "\n",
        "\n",
        "\n",
        "\n",
        "\n",
        "\n",
        "\n",
        "\n",
        "\n"
      ],
      "metadata": {
        "id": "lU8yXihK7GnO"
      }
    },
    {
      "cell_type": "code",
      "source": [
        "import math\n",
        "print(\"Second \",round(math.pow(10**8 ,1/3)))\n",
        "print(\"Minute  \",round(math.pow(60*10**8 ,1/3)))\n",
        "print(\"Hour \",round(math.pow(60*60*10**8 ,1/3)))\n",
        "print(\"Day \",round(math.pow(24*60*60*10**8 ,1/3)))\n",
        "print(\"Year \",round(math.pow(365*24*60*60*10**8 ,1/3)))\n",
        "print(\"Century \",round(math.pow(100*365*24*60*60*10**8 ,1/3)))\n",
        "print(\"Mileniun \",round(math.pow(1000*100*365*24*60*60*10**6, 1/3)))"
      ],
      "metadata": {
        "colab": {
          "base_uri": "https://localhost:8080/"
        },
        "id": "IWNICZqz7euT",
        "outputId": "31a73f0b-a037-465e-84a5-8068f7c04505"
      },
      "execution_count": 21,
      "outputs": [
        {
          "output_type": "stream",
          "name": "stdout",
          "text": [
            "Second  464\n",
            "Minute   1817\n",
            "Hour  7114\n",
            "Day  20520\n",
            "Year  146646\n",
            "Century  680668\n",
            "Mileniun  1466455\n"
          ]
        }
      ]
    },
    {
      "cell_type": "markdown",
      "source": [
        "\\\\\n",
        "$\\bf{ Time\\ Complexity\\ n^4 }$\n",
        "\n",
        "$Second$\n",
        "$$  n^4 \\times 10^{-8}\\ s\\le 1\\ s$$ \n",
        "$$  n^4 \\le  10^{8}$$ \n",
        "$$ \\sqrt[4]{n^4} \\le \\sqrt[4]{10^{8}}$$ \n",
        "$$ n \\le 100 $$ \n",
        "\n",
        "\n",
        "\n",
        "\n",
        "\n",
        "$Minute$\n",
        "$$  n^4 \\times 10^{-8}\\ s\\le 60\\ s$$ \n",
        "$$  n^4 \\le  60\\cdot10^{8}$$ \n",
        "$$ \\sqrt[4]{n^4} \\le \\sqrt[4]{60\\cdot10^{8}}$$ \n",
        "$$ n \\le 100\\cdot\\sqrt[4]{60} $$ \n",
        "$$ n \\le 278 $$ \n",
        "\n",
        "\n",
        "$Hour$\n",
        "$$  n^4 \\times 10^{-8}\\ s\\le 3600\\ s$$ \n",
        "$$  n^4 \\le  3600\\cdot10^{8}$$ \n",
        "$$ \\sqrt[4]{n^4} \\le \\sqrt[4]{3600\\cdot10^{8}}$$ \n",
        "$$ n \\le 100\\cdot\\sqrt[4]{3600} $$ \n",
        "$$ n \\le 774 $$ \n",
        "\n",
        "$Day$\n",
        "$$  n^4 \\times 10^{-8}\\ s\\le 86400\\ s$$ \n",
        "$$  n^4 \\le  86400\\cdot10^{8}$$ \n",
        "$$ \\sqrt[4]{n^4} \\le \\sqrt[4]{86400\\cdot10^{8}}$$ \n",
        "$$ n \\le 100\\cdot\\sqrt[4]{86400} $$ \n",
        "$$ n \\le 1714 $$ \n",
        "\n",
        "$Year$\n",
        "$$  n^4 \\times 10^{-8}\\ s\\le 31536000\\ s$$ \n",
        "$$  n^4 \\le  31536000\\cdot10^{8}$$ \n",
        "$$ \\sqrt[4]{n^4} \\le \\sqrt[4]{31536000\\cdot10^{8}}$$ \n",
        "$$ n \\le 100\\cdot\\sqrt[4]{31536000} $$ \n",
        "$$ n \\le 7493 $$\n",
        "\n",
        "$Century$\n",
        "$$  n^4 \\times 10^{-8}\\ s\\le 3153600000\\ s$$ \n",
        "$$  n^4 \\le  3153600000\\cdot10^{8}$$ \n",
        "$$ \\sqrt[4]{n^4} \\le \\sqrt[4]{3153600000\\cdot10^{8}}$$ \n",
        "$$ n \\le 100\\cdot\\sqrt[4]{3153600000} $$ \n",
        "$$ n \\le 23697 $$\n",
        "\n",
        "$Millennium$\n",
        "$$  n^4 \\times 10^{-8}\\ s\\le 31536000000\\ s$$ \n",
        "$$  n^4 \\le  31536000000\\cdot10^{8}$$ \n",
        "$$ \\sqrt[4]{n^4} \\le \\sqrt[4]{31536000000\\cdot10^{8}}$$ \n",
        "$$ n \\le 100\\cdot\\sqrt[4]{31536000000} $$ \n",
        "$$ n \\le 42140 $$\n",
        "\n",
        "\n"
      ],
      "metadata": {
        "id": "uudXjoBF7fL2"
      }
    },
    {
      "cell_type": "code",
      "source": [
        "import math\n",
        "print(\"Second \",round(math.pow(10**8 ,1/4)))\n",
        "print(\"Minute  \",round(math.pow(60*10**8 ,1/4)))\n",
        "print(\"Hour \",round(math.pow(60*60*10**8 ,1/4)))\n",
        "print(\"Day \",round(math.pow(24*60*60*10**8 ,1/4)))\n",
        "print(\"Year \",round(math.pow(365*24*60*60*10**8,1/4)))\n",
        "print(\"Century \",round(math.pow(100*365*24*60*60*10**8 ,1/4)))\n",
        "print(\"Mileniun \",round(math.pow(1000*100*365*24*60*60*10**6 ,1/4)))"
      ],
      "metadata": {
        "colab": {
          "base_uri": "https://localhost:8080/"
        },
        "id": "4xHMKCJu8kGn",
        "outputId": "b39168b2-5123-4e36-b73f-aae5a71a2b3f"
      },
      "execution_count": 20,
      "outputs": [
        {
          "output_type": "stream",
          "name": "stdout",
          "text": [
            "Second  100\n",
            "Minute   278\n",
            "Hour  775\n",
            "Day  1714\n",
            "Year  7494\n",
            "Century  23697\n",
            "Mileniun  42141\n"
          ]
        }
      ]
    },
    {
      "cell_type": "markdown",
      "source": [
        "\\\\\n",
        "$\\bf{ Time\\ Complexity\\ 2^n }$\n",
        "\n",
        "$Second$\n",
        "$$  2^n \\times 10^{-8}\\ s\\le 1\\ s$$ \n",
        "$$  2^n \\le  10^{8}$$ \n",
        "$$  log(2^n) \\le  log(10^{8})$$ \n",
        "$$ n \\le log(10^{8})$$ \n",
        "$$ n \\le 8 $$ \n",
        "\n",
        "\n",
        "\n",
        "\n",
        "\n",
        "$Minute$\n",
        "$$  2^n \\times 10^{-8}\\ s\\le 60\\ s$$ \n",
        "$$  2^n \\le  60\\cdot10^{8}$$ \n",
        "$$  log(2^n) \\le  log(60\\cdot10^{8})$$ \n",
        "$$ n \\le log(60\\cdot10^{8})$$ \n",
        "$$ n \\le 9 $$  \n",
        "\n",
        "\n",
        "$Hour$\n",
        "$$  2^n \\times 10^{-8}\\ s\\le 3600\\ s$$ \n",
        "$$  2^n \\le  3600\\cdot10^{8}$$ \n",
        "$$  log(2^n) \\le  log(3600\\cdot10^{8})$$ \n",
        "$$ n \\le log(3600\\cdot10^{8})$$ \n",
        "$$ n \\le 11 $$  \n",
        "\n",
        "$Day$\n",
        "$$  2^n \\times 10^{-8}\\ s\\le 86400\\ s$$ \n",
        "$$  2^n \\le  86400\\cdot10^{8}$$ \n",
        "$$  log(2^n) \\le  log(86400\\cdot10^{8})$$ \n",
        "$$ n \\le log(86400\\cdot10^{8})$$ \n",
        "$$ n \\le 12 $$   \n",
        "\n",
        "$Year$\n",
        "$$  2^n \\times 10^{-8}\\ s\\le 31536000\\ s$$ \n",
        "$$  2^n \\le  31536000\\cdot10^{8}$$ \n",
        "$$  log(2^n) \\le  log(31536000\\cdot10^{8})$$ \n",
        "$$ n \\le log(31536000\\cdot10^{8})$$ \n",
        "$$ n \\le 15 $$  \n",
        "\n",
        "$Century$\n",
        "$$  2^n \\times 10^{-8}\\ s\\le 3153600000\\ s$$ \n",
        "$$  2^n \\le  3153600000\\cdot10^{8}$$ \n",
        "$$  log(2^n) \\le  log(3153600000\\cdot10^{8})$$ \n",
        "$$ n \\le log(3153600000\\cdot10^{8})$$ \n",
        "$$ n \\le 17 $$ \n",
        "\n",
        "$Millennium$\n",
        "$$  2^n \\times 10^{-8}\\ s\\le 31536000000\\ s$$ \n",
        "$$  2^n \\le  31536000000\\cdot10^{8}$$ \n",
        "$$  log(2^n) \\le  log(31536000000\\cdot10^{8})$$ \n",
        "$$ n \\le log(31536000000\\cdot10^{8})/0.30102$$ \n",
        "$$ n \\le 61 $$ \n"
      ],
      "metadata": {
        "id": "9OBMpy0e8kxV"
      }
    },
    {
      "cell_type": "code",
      "source": [
        "import math\n",
        "print(\"Second \",int(math.log2(10**8 )))\n",
        "print(\"Minute  \",int(math.log2(60*10**8 )))\n",
        "print(\"Hour \",int(math.log2(60*60*10**8 )))\n",
        "print(\"Day \",int(math.log2(24*60*60*10**8 )))\n",
        "print(\"Year \",int(math.log2(365*24*60*60*10**8 )))\n",
        "print(\"Century \",int(math.log2(100*365*24*60*60*10**8 )))\n",
        "print(\"Mileniun \",int(math.log2(1000*100*365*24*60*60*10**6 )))"
      ],
      "metadata": {
        "colab": {
          "base_uri": "https://localhost:8080/"
        },
        "id": "4eZpcrMa92x5",
        "outputId": "a44ea7b5-006b-4102-f2d3-1cc855373705"
      },
      "execution_count": 25,
      "outputs": [
        {
          "output_type": "stream",
          "name": "stdout",
          "text": [
            "Second  26\n",
            "Minute   32\n",
            "Hour  38\n",
            "Day  42\n",
            "Year  51\n",
            "Century  58\n",
            "Mileniun  61\n"
          ]
        }
      ]
    },
    {
      "cell_type": "markdown",
      "source": [
        "\\\\\n",
        "$\\bf{ Time\\ Complexity\\ n! }$\n",
        "\n",
        "\n",
        "\n",
        "\n",
        "\n",
        "\n",
        "$Second$\n",
        "$$ n! \\times 10^{-8}\\ s\\le 1\\ s$$ \n",
        "$$ n! \\le 10^{8}$$\n",
        "$$ n! \\le 11$$ \n",
        "\n",
        "$Minute$\n",
        "$$ n! \\times 10^{-8}\\ s\\le 60\\ s$$ \n",
        "$$ n! \\le 60 \\cdot 10^{8}$$ \n",
        "$$ n! \\le 12$$ \n",
        "\n",
        "$Hour$\n",
        "$$ n! \\times 10^{-8}\\ s\\le 3600\\ s$$ \n",
        "$$ n! \\le 3600 \\cdot 10^{8}$$ \n",
        "$$ n! \\le 14$$ \n",
        "\n",
        "$Day$\n",
        "$$ n! \\times 10^{-8}\\ s\\le 86400\\ s$$ \n",
        "$$ n! \\le 86400 \\cdot 10^{8}$$ \n",
        "$$ n! \\le 15$$ \n",
        "\n",
        "$Year$\n",
        "$$ n! \\times 10^{-8}\\ s\\le 31536000\\ s$$ \n",
        "$$ n! \\le 31536000 \\cdot 10^{8}$$\n",
        "$$ n! \\le 17$$ \n",
        "\n",
        "$Century$\n",
        "$$ n! \\times 10^{-8}\\ s\\le 3153600000\\ s$$ \n",
        "$$ n! \\le 3153600000 \\cdot 10^{8}$$\n",
        "$$ n! \\le 19$$ \n",
        "\n",
        "$Millennium$\n",
        "$$ n! \\times 10^{-8}\\ s\\le 31536000000\\ s$$ \n",
        "$$ n! \\le 31536000000 \\cdot 10^{8}$$\n",
        "$$ n! \\le 20$$ \n",
        "\n",
        "\n"
      ],
      "metadata": {
        "id": "JvkLED1X-Fe5"
      }
    },
    {
      "cell_type": "code",
      "source": [
        "import math\n",
        "def f(n):\n",
        "  return math.factorial(n)\n",
        "\n",
        "def find(f,v):\n",
        "  l = 1\n",
        "  r = 100\n",
        "  while True:\n",
        "    m = int((l+r)/2)\n",
        "    if ((f(m+1) > v) and (f(m) <= v) ) or (l == m) or (r== m):\n",
        "      return int(m)\n",
        "    elif f(m) < v:\n",
        "      l = m\n",
        "    else: \n",
        "      r = m\n",
        "\n",
        "\n",
        "print(\"Second \", find(f,10**8 ))\n",
        "print(\"Minute  \",find(f,60*10**8 ))\n",
        "print(\"Hour \",find(f,60*60*10**8 ))\n",
        "print(\"Day \",find(f,24*60*60*10**8 ))\n",
        "print(\"Year \",find(f,365*24*60*60*10**8 ))\n",
        "print(\"Century \",find(f,100*365*24*60*60*10**8 ))\n",
        "print(\"Mileniun \",find(f,1000*100*365*24*60*60*10**8 ))"
      ],
      "metadata": {
        "colab": {
          "base_uri": "https://localhost:8080/"
        },
        "id": "L0q-2qUZ-IFh",
        "outputId": "c9bb17d9-6bbd-450e-fe51-711cce14005c"
      },
      "execution_count": 26,
      "outputs": [
        {
          "output_type": "stream",
          "name": "stdout",
          "text": [
            "Second  11\n",
            "Minute   12\n",
            "Hour  14\n",
            "Day  15\n",
            "Year  17\n",
            "Century  19\n",
            "Mileniun  21\n"
          ]
        }
      ]
    },
    {
      "cell_type": "markdown",
      "source": [
        "\\\\\n",
        "$\\bf{ Time\\ Complexity\\ n^n }$\n",
        "\n",
        "\n",
        "\n",
        "\n",
        "\n",
        "\n",
        "$Second$\n",
        "$$ n^n \\times 10^{-8}\\ s\\le 1\\ s$$ \n",
        "$$ n^n \\le 10^{8}$$\n",
        "$$ n \\le 8$$ \n",
        "\n",
        "$Minute$\n",
        "$$ n^n \\times 10^{-8}\\ s\\le 60\\ s$$ \n",
        "$$ n^n \\le 60 \\cdot 10^{8}$$ \n",
        "$$ n \\le 9$$ \n",
        "\n",
        "$Hour$\n",
        "$$ n^n \\times 10^{-8}\\ s\\le 3600\\ s$$ \n",
        "$$ n^n \\le 3600 \\cdot 10^{8}$$ \n",
        "$$ n \\le 11$$ \n",
        "\n",
        "$Day$\n",
        "$$ n^n \\times 10^{-8}\\ s\\le 86400\\ s$$ \n",
        "$$ n^n \\le 86400 \\cdot 10^{8}$$ \n",
        "$$ n \\le 11$$ \n",
        "\n",
        "$Year$\n",
        "$$ n^n \\times 10^{-8}\\ s\\le 31536000\\ s$$ \n",
        "$$ n^n \\le 31536000 \\cdot 10^{8}$$\n",
        "$$ n \\le 13$$ \n",
        "\n",
        "$Century$\n",
        "$$ n^n \\times 10^{-8}\\ s\\le 3153600000\\ s$$ \n",
        "$$ n^n \\le 3153600000 \\cdot 10^{8}$$\n",
        "$$ n \\le 14$$ \n",
        "\n",
        "$Millennium$\n",
        "$$ n^n \\times 10^{-8}\\ s\\le 31536000000\\ s$$ \n",
        "$$ n^n \\le 31536000000 \\cdot 10^{8}$$\n",
        "$$ n \\le 15$$ "
      ],
      "metadata": {
        "id": "MilsVWmd-IgW"
      }
    },
    {
      "cell_type": "code",
      "source": [
        "import math\n",
        "def f(n):\n",
        "  return n**n\n",
        "\n",
        "def find(f,v):\n",
        "  l = 1\n",
        "  r = 100\n",
        "  while True:\n",
        "    m = int((l+r)/2)\n",
        "    if ((f(m+1) > v) and (f(m) <= v) ) or (l == m) or (r== m):\n",
        "      return int(m)\n",
        "    elif f(m) < v:\n",
        "      l = m\n",
        "    else: \n",
        "      r = m\n",
        "\n",
        "print(\"Second \", find(f,10**8 ))\n",
        "print(\"Minute  \",find(f,60*10**8 ))\n",
        "print(\"Hour \",find(f,60*60*10**8 ))\n",
        "print(\"Day \",find(f,24*60*60*10**8 ))\n",
        "print(\"Year \",find(f,365*24*60*60*10**8 ))\n",
        "print(\"Century \",find(f,100*365*24*60*60*10**8 ))\n",
        "print(\"Mileniun \",find(f,1000*100*365*24*60*60*10**8 ))"
      ],
      "metadata": {
        "colab": {
          "base_uri": "https://localhost:8080/"
        },
        "id": "hKvFayLg_ovN",
        "outputId": "2a1d3bd2-9407-4c56-f448-c4595d38fd43"
      },
      "execution_count": 28,
      "outputs": [
        {
          "output_type": "stream",
          "name": "stdout",
          "text": [
            "Second  8\n",
            "Minute   9\n",
            "Hour  11\n",
            "Day  11\n",
            "Year  13\n",
            "Century  14\n",
            "Mileniun  16\n"
          ]
        }
      ]
    }
  ]
}