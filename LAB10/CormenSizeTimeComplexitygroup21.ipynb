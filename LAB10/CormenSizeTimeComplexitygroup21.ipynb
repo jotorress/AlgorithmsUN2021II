{
  "nbformat": 4,
  "nbformat_minor": 0,
  "metadata": {
    "colab": {
      "name": "CormenSizeTimeComplexitygroup21.ipynb",
      "provenance": [],
      "collapsed_sections": []
    },
    "kernelspec": {
      "name": "python3",
      "display_name": "Python 3"
    },
    "language_info": {
      "name": "python"
    }
  },
  "cells": [
    {
      "cell_type": "markdown",
      "metadata": {
        "id": "yCCsCOW2OQbQ"
      },
      "source": [
        "# 1.(10  nanoseconds by instruction)\n",
        "\n",
        "Asuuming that you can execute a 100 million instructions $100 \\times 10^6$ every second, i.e. each instrcution takes 10 nanoseconds, 10 $\\eta s  = 10^{-8} s $. If you have algorithms take $\\bf{ Time\\ Complexity}$ steps to solve a poblem of size $n$ as specified in column one. What is the size of the largest porblem that you can solve in the time specified in row one?\n",
        "$$\n",
        "\\begin{array}{|c|c|c|c|c|c|c|c|} \n",
        " \\hline\n",
        " \\bf{ Time\\ Complexity} & Second  & Minute  & Hour & Day & Year & Century & Mileniun  \\\\ \n",
        "  \\hline\\\\ \n",
        "\\lg(n) &    2^{10^8}&2^{60x10^8} &  2^{3.6x10^{11}} & 2^{8.64x10^{12}}&2^{3.1536x10^{15}}  &2^{3.1536x10^{17}}   & 2^{3.1536x10^{18}} \\\\ \n",
        "   \\hline\\\\ \n",
        "\\lg^2(n) & 2^{ 10^{4}}   & 2^{77460}  &2^{600000}   &  2^{2939388} &  2^{56156923} &2^{561569230}   & 2^{1775837830} \\\\ \n",
        "   \\hline\\\\ \n",
        "\\sqrt{n} &  10^{16}  & 3.6x10^9  & 1.296x10^{23} & 7.46496x10^{25} &9.94519296x10^{30}  &  9.94519296x10^{34}& 9.94519296x10^{36} \\\\ \n",
        " \\hline\n",
        " n &  10^8  & 6x10^9  & 3.6x10^{11} & 8.64x10^{12} & 3.1536x10^{15} &  3.1536x10^{17} &   3.1536x10^{18}\\\\ \n",
        " \\hline\n",
        " n\\lg(n) &  13993959  & 679341067  & 34175958352 & 728355251051 &219882720678734  & 19362721831197155 & 182693239577738607 \\\\ \n",
        " \\hline\n",
        " n^2 &  10000  & 77460  &600000  &2939388  &  56156922& 561569230 &5615692300  \\\\ \n",
        " \\hline\n",
        "  n^3 & 464   &  1817 &  7114& 20520 & 146645 & 680668 & 1466455 \\\\ \n",
        " \\hline\n",
        "  n^4 &  100  & 278  & 774 & 1714 & 7494 &23697  &42141  \\\\ \n",
        " \\hline\n",
        "  2^n & 8   & 9  & 11 & 13 & 15 &17& 18 \\\\ \n",
        " \\hline\n",
        " n! &  11  & 12 &14 &15  &17  &19& 20  \\\\ \n",
        " \\hline\n",
        " n^n & 8   & 9  &11  & 11 &13  &14  & 15 \\\\ \n",
        " \\hline\n",
        "\\end{array}\n",
        "$$"
      ]
    }
  ]
}