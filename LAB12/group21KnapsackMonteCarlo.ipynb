{
  "nbformat": 4,
  "nbformat_minor": 0,
  "metadata": {
    "colab": {
      "name": "group21KnapsackMonteCarlo.ipynb",
      "provenance": [],
      "collapsed_sections": []
    },
    "kernelspec": {
      "name": "python3",
      "display_name": "Python 3"
    },
    "language_info": {
      "name": "python"
    }
  },
  "cells": [
    {
      "cell_type": "markdown",
      "source": [
        "# Monte Carlo – 01 Knapsack Counting (Groups)\n",
        "<img src=\"https://metnumun.files.wordpress.com/2021/10/image-9.png?w=700\"/>\n",
        "<img src=\"https://algorithmsun.files.wordpress.com/2020/12/01knapsack.png?w=700\"/>"
      ],
      "metadata": {
        "id": "4uPu6WgUNjp9"
      }
    },
    {
      "cell_type": "code",
      "source": [
        "# Verificar si es solución\n",
        "import numpy as np\n",
        "import itertools\n",
        "\n",
        "\n",
        "def solucion(a, b, x):\n",
        "    return np.sum(np.multiply(a, x)) <= b"
      ],
      "metadata": {
        "id": "XTMF5Yx6PLhr"
      },
      "execution_count": 1,
      "outputs": []
    },
    {
      "cell_type": "code",
      "execution_count": 11,
      "metadata": {
        "id": "RfsvncrMNZiK"
      },
      "outputs": [],
      "source": [
        "# Proporción\n",
        "def proporcionSoluciones(tamano , capacidad, vectores):\n",
        "    nsoluciones = 0\n",
        "\n",
        "    for i in list(vectores):\n",
        "        if solucion(tamano, capacidad, np.array(i)):\n",
        "            nsoluciones += 1\n",
        "\n",
        "    return nsoluciones\n"
      ]
    },
    {
      "cell_type": "code",
      "source": [
        "#Solución al problema de la imagen\n",
        "\n",
        "capacidad = 15\n",
        "tamanos = np.array([1, 1, 2, 4, 12])\n",
        "vectores = list(itertools.product([0, 1], repeat=tamanos.size))\n",
        "soluciones = proporcionSoluciones(tamanos, capacidad, vectores)\n",
        "ncombinaciones = (2 ** tamanos.size)\n",
        "proporcion = soluciones / ncombinaciones\n",
        "\n",
        "print(f'Soluciones: {soluciones} \\nProporción: {proporcion} \\nCombinaciones: {ncombinaciones}')"
      ],
      "metadata": {
        "colab": {
          "base_uri": "https://localhost:8080/"
        },
        "id": "wOD_sUmu3U70",
        "outputId": "0fbf747d-2e33-43c4-ad45-ce1601898e76"
      },
      "execution_count": 12,
      "outputs": [
        {
          "output_type": "stream",
          "name": "stdout",
          "text": [
            "Soluciones: 23 \n",
            "Proporción: 0.71875 \n",
            "Combinaciones: 32\n"
          ]
        }
      ]
    },
    {
      "cell_type": "code",
      "source": [
        "#Segunda versión\n",
        "def proporcionSoluciones1(tamano , capacidad, nvectores):\n",
        "    nsoluciones = 0\n",
        "\n",
        "    for i in range(nvectores):\n",
        "        ostias = np.random.randint(2, size = tamano.size)\n",
        "        if solucion(tamano, capacidad, ostias):\n",
        "            nsoluciones += 1\n",
        "\n",
        "    return nsoluciones"
      ],
      "metadata": {
        "id": "6_tGX_4b7BTi"
      },
      "execution_count": 13,
      "outputs": []
    },
    {
      "cell_type": "markdown",
      "source": [
        "##Primer Caso:##\n",
        "\n",
        "\n",
        "\n",
        "*   Capacidad: 10\n",
        "*   Tamaños: (1,2,3,4,5,6,7,9,10)\n",
        "\n",
        "\n"
      ],
      "metadata": {
        "id": "ESD9pDO65PHs"
      }
    },
    {
      "cell_type": "code",
      "source": [
        "capacidad = 10\n",
        "tamaños = np.array([1, 2, 3, 4, 5, 6, 7, 9, 10])"
      ],
      "metadata": {
        "id": "A2nHH7tT5ou2"
      },
      "execution_count": 14,
      "outputs": []
    },
    {
      "cell_type": "code",
      "source": [
        "# Con 1000 vectores\n",
        "\n",
        "nvectores = 1000\n",
        "soluciones = proporcionSoluciones1(tamaños, capacidad, nvectores)\n",
        "proporcion = soluciones / nvectores\n",
        "\n",
        "print(f'Con {nvectores} vectores aleatorios: \\n\\nSoluciones: {soluciones} \\nProporción: {proporcion} \\nCombinaciones: {nvectores}')\n",
        "\n",
        "# Con 10000 vectores\n",
        "nvectores = 10000\n",
        "soluciones = proporcionSoluciones1(tamaños, capacidad, nvectores)\n",
        "proporcion = soluciones / nvectores\n",
        "\n",
        "print(f'\\n\\nCon {nvectores} vectores aleatorios: \\n\\nSoluciones: {soluciones} \\nProporción: {proporcion} \\nCombinaciones: {nvectores}')"
      ],
      "metadata": {
        "colab": {
          "base_uri": "https://localhost:8080/"
        },
        "id": "O7WhMNqeSMOM",
        "outputId": "3f05cc88-c63f-4a23-d88c-aec8b8afaedd"
      },
      "execution_count": 34,
      "outputs": [
        {
          "output_type": "stream",
          "name": "stdout",
          "text": [
            "Con 1000 vectores aleatorios: \n",
            "\n",
            "Soluciones: 77 \n",
            "Proporción: 0.077 \n",
            "Combinaciones: 1000\n",
            "\n",
            "\n",
            "Con 10000 vectores aleatorios: \n",
            "\n",
            "Soluciones: 798 \n",
            "Proporción: 0.0798 \n",
            "Combinaciones: 10000\n"
          ]
        }
      ]
    },
    {
      "cell_type": "markdown",
      "source": [
        "##Segundo caso:##\n",
        "\n",
        "\n",
        "*   Tamaños: (1, 2, 3, 4, 5, ..., 49, 50)\n",
        "*   Capacidad: 10, 50, 100 y 1275\n",
        "*   Número de vectores: 10 K, 100 K y 1 M\n",
        "\n",
        "\n",
        "\n",
        "\n"
      ],
      "metadata": {
        "id": "0wlg0-u18kv9"
      }
    },
    {
      "cell_type": "markdown",
      "source": [
        "##Capacidad 10##"
      ],
      "metadata": {
        "id": "VwGILU809gC1"
      }
    },
    {
      "cell_type": "code",
      "source": [
        "tamaños = np.array(list(range(1, 51)))\n",
        "capacidad = 10"
      ],
      "metadata": {
        "id": "FVgTR6o49jPo"
      },
      "execution_count": 39,
      "outputs": []
    },
    {
      "cell_type": "code",
      "source": [
        "# 10000 vectores\n",
        "nvectores = 10000\n",
        "soluciones = proporcionSoluciones1(tamaños, capacidad, nvectores)\n",
        "proporcion = soluciones / nvectores\n",
        "\n",
        "print(f'Con {nvectores} vectores aleatorios: \\n\\nSoluciones: {soluciones} \\nProporción: {proporcion} \\nCombinaciones: {nvectores}')\n",
        "\n",
        "# 100 k vectores\n",
        "nvectores = 100000\n",
        "soluciones = proporcionSoluciones1(tamaños, capacidad, nvectores)\n",
        "proporcion = soluciones / nvectores\n",
        "\n",
        "print(f'\\n\\nCon {nvectores} vectores aleatorios: \\n\\nSoluciones: {soluciones} \\nProporción: {proporcion} \\nCombinaciones: {nvectores}')\n",
        "\n",
        "# 1 M vectores\n",
        "nvectores = 1000000\n",
        "soluciones = proporcionSoluciones1(tamaños, capacidad, nvectores)\n",
        "proporcion = soluciones / nvectores\n",
        "\n",
        "print(f'\\n\\nCon {nvectores} vectores aleatorios: \\n\\nSoluciones: {soluciones} \\nProporción: {proporcion} \\nCombinaciones: {nvectores}')\n",
        "\n"
      ],
      "metadata": {
        "colab": {
          "base_uri": "https://localhost:8080/"
        },
        "id": "6p5lWaNL9tjP",
        "outputId": "4dda24c9-4f58-4c0e-8618-654f8dcd82f3"
      },
      "execution_count": 41,
      "outputs": [
        {
          "output_type": "stream",
          "name": "stdout",
          "text": [
            "Con 10000 vectores aleatorios: \n",
            "\n",
            "Soluciones: 0 \n",
            "Proporción: 0.0 \n",
            "Combinaciones: 10000\n",
            "\n",
            "\n",
            "Con 100000 vectores aleatorios: \n",
            "\n",
            "Soluciones: 0 \n",
            "Proporción: 0.0 \n",
            "Combinaciones: 100000\n",
            "\n",
            "\n",
            "Con 1000000 vectores aleatorios: \n",
            "\n",
            "Soluciones: 0 \n",
            "Proporción: 0.0 \n",
            "Combinaciones: 1000000\n"
          ]
        }
      ]
    },
    {
      "cell_type": "markdown",
      "source": [
        "##Capacidad 50##"
      ],
      "metadata": {
        "id": "9Nhr_yU8-8ce"
      }
    },
    {
      "cell_type": "code",
      "source": [
        "capacidad = 50\n",
        "\n",
        "# 10000 vectores\n",
        "nvectores = 10000\n",
        "soluciones = proporcionSoluciones1(tamaños, capacidad, nvectores)\n",
        "proporcion = soluciones / nvectores\n",
        "\n",
        "print(f'Con {nvectores} vectores aleatorios: \\n\\nSoluciones: {soluciones} \\nProporción: {proporcion} \\nCombinaciones: {nvectores}')\n",
        "\n",
        "# 100 k vectores\n",
        "nvectores = 100000\n",
        "soluciones = proporcionSoluciones1(tamaños, capacidad, nvectores)\n",
        "proporcion = soluciones / nvectores\n",
        "\n",
        "print(f'\\n\\nCon {nvectores} vectores aleatorios: \\n\\nSoluciones: {soluciones} \\nProporción: {proporcion} \\nCombinaciones: {nvectores}')\n",
        "\n",
        "# 1 M vectores\n",
        "nvectores = 1000000\n",
        "soluciones = proporcionSoluciones1(tamaños, capacidad, nvectores)\n",
        "proporcion = soluciones / nvectores\n",
        "\n",
        "print(f'\\n\\nCon {nvectores} vectores aleatorios: \\n\\nSoluciones: {soluciones} \\nProporción: {proporcion} \\nCombinaciones: {nvectores}')\n",
        "\n"
      ],
      "metadata": {
        "colab": {
          "base_uri": "https://localhost:8080/"
        },
        "id": "clg3tnMo_Bvf",
        "outputId": "b777a0a0-2257-4dd2-fc39-4a52d5629b1f"
      },
      "execution_count": 42,
      "outputs": [
        {
          "output_type": "stream",
          "name": "stdout",
          "text": [
            "Con 10000 vectores aleatorios: \n",
            "\n",
            "Soluciones: 0 \n",
            "Proporción: 0.0 \n",
            "Combinaciones: 10000\n",
            "\n",
            "\n",
            "Con 100000 vectores aleatorios: \n",
            "\n",
            "Soluciones: 0 \n",
            "Proporción: 0.0 \n",
            "Combinaciones: 100000\n",
            "\n",
            "\n",
            "Con 1000000 vectores aleatorios: \n",
            "\n",
            "Soluciones: 0 \n",
            "Proporción: 0.0 \n",
            "Combinaciones: 1000000\n"
          ]
        }
      ]
    },
    {
      "cell_type": "markdown",
      "source": [
        "##Capacidad 100##"
      ],
      "metadata": {
        "id": "LLYOnJPe_K5T"
      }
    },
    {
      "cell_type": "code",
      "source": [
        "capacidad = 100\n",
        "\n",
        "# 10000 vectores\n",
        "nvectores = 10000\n",
        "soluciones = proporcionSoluciones1(tamaños, capacidad, nvectores)\n",
        "proporcion = soluciones / nvectores\n",
        "\n",
        "print(f'Con {nvectores} vectores aleatorios: \\n\\nSoluciones: {soluciones} \\nProporción: {proporcion} \\nCombinaciones: {nvectores}')\n",
        "\n",
        "# 100 k vectores\n",
        "nvectores = 100000\n",
        "soluciones = proporcionSoluciones1(tamaños, capacidad, nvectores)\n",
        "proporcion = soluciones / nvectores\n",
        "\n",
        "print(f'\\n\\nCon {nvectores} vectores aleatorios: \\n\\nSoluciones: {soluciones} \\nProporción: {proporcion} \\nCombinaciones: {nvectores}')\n",
        "\n",
        "# 1 M vectores\n",
        "nvectores = 1000000\n",
        "soluciones = proporcionSoluciones1(tamaños, capacidad, nvectores)\n",
        "proporcion = soluciones / nvectores\n",
        "\n",
        "print(f'\\n\\nCon {nvectores} vectores aleatorios: \\n\\nSoluciones: {soluciones} \\nProporción: {proporcion} \\nCombinaciones: {nvectores}')"
      ],
      "metadata": {
        "colab": {
          "base_uri": "https://localhost:8080/"
        },
        "id": "Lz88-kQp_QKu",
        "outputId": "f27a9ed7-ae84-41b1-e0ea-e34eabc5700d"
      },
      "execution_count": 43,
      "outputs": [
        {
          "output_type": "stream",
          "name": "stdout",
          "text": [
            "Con 10000 vectores aleatorios: \n",
            "\n",
            "Soluciones: 0 \n",
            "Proporción: 0.0 \n",
            "Combinaciones: 10000\n",
            "\n",
            "\n",
            "Con 100000 vectores aleatorios: \n",
            "\n",
            "Soluciones: 0 \n",
            "Proporción: 0.0 \n",
            "Combinaciones: 100000\n",
            "\n",
            "\n",
            "Con 1000000 vectores aleatorios: \n",
            "\n",
            "Soluciones: 0 \n",
            "Proporción: 0.0 \n",
            "Combinaciones: 1000000\n"
          ]
        }
      ]
    },
    {
      "cell_type": "markdown",
      "source": [
        "##Capacidad 1275##\n"
      ],
      "metadata": {
        "id": "8nq1Pgg8_TRW"
      }
    },
    {
      "cell_type": "code",
      "source": [
        "capacidad = 1275\n",
        "\n",
        "# 10000 vectores\n",
        "nvectores = 10000\n",
        "soluciones = proporcionSoluciones1(tamaños, capacidad, nvectores)\n",
        "proporcion = soluciones / nvectores\n",
        "\n",
        "print(f'Con {nvectores} vectores aleatorios: \\n\\nSoluciones: {soluciones} \\nProporción: {proporcion} \\nCombinaciones: {nvectores}')\n",
        "\n",
        "# 100 k vectores\n",
        "nvectores = 100000\n",
        "soluciones = proporcionSoluciones1(tamaños, capacidad, nvectores)\n",
        "proporcion = soluciones / nvectores\n",
        "\n",
        "print(f'\\n\\nCon {nvectores} vectores aleatorios: \\n\\nSoluciones: {soluciones} \\nProporción: {proporcion} \\nCombinaciones: {nvectores}')\n",
        "\n",
        "# 1 M vectores\n",
        "nvectores = 1000000\n",
        "soluciones = proporcionSoluciones1(tamaños, capacidad, nvectores)\n",
        "proporcion = soluciones / nvectores\n",
        "\n",
        "print(f'\\n\\nCon {nvectores} vectores aleatorios: \\n\\nSoluciones: {soluciones} \\nProporción: {proporcion} \\nCombinaciones: {nvectores}')"
      ],
      "metadata": {
        "colab": {
          "base_uri": "https://localhost:8080/"
        },
        "id": "xYdf1kfT_V11",
        "outputId": "3b796063-4bc0-458b-cf4e-87fa25c60810"
      },
      "execution_count": 44,
      "outputs": [
        {
          "output_type": "stream",
          "name": "stdout",
          "text": [
            "Con 10000 vectores aleatorios: \n",
            "\n",
            "Soluciones: 10000 \n",
            "Proporción: 1.0 \n",
            "Combinaciones: 10000\n",
            "\n",
            "\n",
            "Con 100000 vectores aleatorios: \n",
            "\n",
            "Soluciones: 100000 \n",
            "Proporción: 1.0 \n",
            "Combinaciones: 100000\n",
            "\n",
            "\n",
            "Con 1000000 vectores aleatorios: \n",
            "\n",
            "Soluciones: 1000000 \n",
            "Proporción: 1.0 \n",
            "Combinaciones: 1000000\n"
          ]
        }
      ]
    }
  ]
}